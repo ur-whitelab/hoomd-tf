{
 "cells": [
  {
   "cell_type": "markdown",
   "metadata": {},
   "source": [
    "## EDS biasing using HTF ##\n",
    "#### Step 1: Build training graph. ####\n",
    "#### Here the collective variable (CV) is the average distance to center of mass ####\n",
    "#### Step 2: Set up Hoomd-Sim of arbitrary particle 'A' ####"
   ]
  },
  {
   "cell_type": "code",
   "execution_count": 1,
   "metadata": {},
   "outputs": [],
   "source": [
    "import hoomd.htf as htf\n",
    "import tensorflow as tf\n",
    "import hoomd\n",
    "import hoomd.md"
   ]
  },
  {
   "cell_type": "code",
   "execution_count": 2,
   "metadata": {},
   "outputs": [],
   "source": [
    "#### Build training graph ####\n",
    "\n",
    "def make_eds_graph(N, NN, set_pt):\n",
    "    #N= Number of atoms in the system, NN=Number of nearest neighbors, \n",
    "    #set_pt=set point in EDS method\n",
    "    '''Currently only computes running mean'''\n",
    "\n",
    "    graph =htf.graph_builder(NN,output_forces=True)\n",
    "    #calculate center of mass\n",
    "    com = tf.reduce_mean(graph.positions[:, :2], 0) \n",
    "    #calculate distance of each atom from center of mass\n",
    "    rs = graph.safe_norm(tf.math.subtract(graph.positions[:, :2], com), axis=1) \n",
    "    #calculate the average distance from center of mass. This is the collective variable (CV)\n",
    "    real_cv = tf.reduce_mean(rs) \n",
    "    #calculates the running mean of the CV\n",
    "    cv_run=graph.running_mean(tensor=real_cv,name='cv_run') \n",
    "    #calculate the EDS alpha value every 300 steps. \n",
    "    eds_alpha = htf.eds_bias(real_cv, set_point=set_pt, period=300,learning_rate=5.0)\n",
    "    eds_energy = eds_alpha * real_cv #computes EDS energy\n",
    "    #compute EDS forces\n",
    "    eds_forces = graph.compute_forces(eds_energy)  \n",
    "    printer1=tf.Print(cv_run,[cv_run],message='CV')\n",
    "    printer2=tf.Print(eds_alpha,[eds_alpha],message='a')\n",
    "    graph.save('my_model',out_nodes=[[printer1,100],[printer2,100]],force_tensor=eds_forces,virial=None)\n"
   ]
  },
  {
   "cell_type": "code",
   "execution_count": 4,
   "metadata": {},
   "outputs": [
    {
     "name": "stdout",
     "output_type": "stream",
     "text": [
      "WARNING: You did not provide a virial for my_model, so per particle virials will not be correct\n",
      "Note: Backed-up my_model previous model to my_model/previous_model_20\n",
      "notice(2): Started TF Session Manager.\n"
     ]
    },
    {
     "name": "stderr",
     "output_type": "stream",
     "text": [
      "*Warning*: Ignoring new options, cannot change execution mode after initialization.\n"
     ]
    },
    {
     "name": "stdout",
     "output_type": "stream",
     "text": [
      "notice(2): Group \"all\" created containing 64 particles\n",
      "notice(2): -- Neighborlist exclusion statistics -- :\n",
      "notice(2): Particles with 0 exclusions             : 64\n",
      "notice(2): Neighbors included by diameter          : no\n",
      "notice(2): Neighbors excluded when in the same body: no\n",
      "** starting run **\n",
      "Time 00:00:00 | Step 3000 / 3000 | TPS 7366.88 | ETA 00:00:00\n",
      "Average TPS: 7353.57\n",
      "---------\n",
      "-- Neighborlist stats:\n",
      "136 normal updates / 10 forced updates / 0 dangerous updates\n",
      "n_neigh_min: 22 / n_neigh_max: 39 / n_neigh_avg: 31.7812\n",
      "shortest rebuild period: 3\n",
      "-- Cell list stats:\n",
      "Dimension: 2, 2, 1\n",
      "n_min    : 12 / n_max: 20 / n_avg: 16\n",
      "** run complete **\n",
      "notice(2): Force mode is FORCE_MODE.tf2hoomd \n",
      "notice(2): Starting TensorflowCompute \n",
      "notice(2): completed reallocate\n",
      "notice(2): Setting flag indicating virial modification will occur\n",
      "WARNING:tensorflow:No virial computed in graph. Pressure may be inaccurate!\n",
      "INFO:tensorflow:The following quantities will computed:\n",
      "INFO:tensorflow:\tname period batch\n",
      "INFO:tensorflow:\t Print:0 100 None\n",
      "INFO:tensorflow:\t Print_1:0 100 None\n",
      "INFO:tensorflow:\t AssignAdd:0 1 None\n",
      "INFO:tensorflow:\t cv_run-batch/Assign:0 1 None\n",
      "INFO:tensorflow:\t cv_run-batch/Assign_1:0 1 None\n",
      "INFO:tensorflow:\t cv_run-batch/AssignAdd:0 1 None\n",
      "notice(2): TF Session Manager has released control. Starting HOOMD updates\n",
      "** starting run **\n",
      "Time 00:00:10 | Step 7039 / 13000 | TPS 403.809 | ETA 00:00:14\n",
      "Time 00:00:20 | Step 11159 / 13000 | TPS 411.926 | ETA 00:00:04\n",
      "Time 00:00:25 | Step 13000 / 13000 | TPS 411.761 | ETA 00:00:00\n",
      "Average TPS: 408.557\n",
      "---------\n",
      "-- Neighborlist stats:\n",
      "696 normal updates / 34 forced updates / 0 dangerous updates\n",
      "n_neigh_min: 19 / n_neigh_max: 58 / n_neigh_avg: 40.7812\n",
      "shortest rebuild period: 9\n",
      "-- Cell list stats:\n",
      "Dimension: 2, 2, 1\n",
      "n_min    : 10 / n_max: 22 / n_avg: 16\n",
      "** run complete **\n",
      "notice(2): Sending exit signal.\n",
      "notice(2): Shutting down TF Manually.\n",
      "notice(2): TF Queue is waiting, sending None\n",
      "INFO:tensorflow:Empty Queue\n",
      "INFO:tensorflow:Received exit. Leaving TF Update Loop. \n",
      "INFO:tensorflow:TF Update runningtime is 20.243547946214676\n",
      "INFO:tensorflow:TF Feed Processingtime is 0.32376060355454683\n",
      "INFO:tensorflow:TF Total Time(excluding communication) is 20.567308549769223\n",
      "Training Done\n"
     ]
    }
   ],
   "source": [
    "#### Hoomd-Sim code ####\n",
    "\n",
    "make_eds_graph(64, 100, 4.0)\n",
    "\n",
    "with htf.tfcompute('my_model') as tfcompute:\n",
    "\n",
    "    hoomd.context.initialize()\n",
    "    \n",
    "    #cut off radius: must be less than the box size\n",
    "    rcut = 6.0 \n",
    "    #initialize the lattice\n",
    "    system = hoomd.init.create_lattice(unitcell=hoomd.lattice.sq(a=2.0),n=[8, 8]) \n",
    "    hoomd.md.update.enforce2d()\n",
    "    nlist = hoomd.md.nlist.cell(check_period=1)\n",
    "    #enable lj pair potential\n",
    "    lj = hoomd.md.pair.lj(rcut, nlist) \n",
    "    #set lj coefficients\n",
    "    lj.pair_coeff.set('A', 'A', epsilon=1.0, sigma=1.0) \n",
    "    hoomd.md.integrate.mode_standard(dt=0.005)\n",
    "    # set up NVT simulation\n",
    "    hoomd.md.integrate.nvt(kT=1.0, tau=0.5,group=hoomd.group.all()) \n",
    "    \n",
    "    #equilibrate\n",
    "    hoomd.run(3000)\n",
    "\n",
    "    #simulation                  \n",
    "    tfcompute.attach(nlist, r_cut=rcut)\n",
    "    hoomd.run(10000)\n",
    "\n",
    "print('Training Done')\n"
   ]
  },
  {
   "cell_type": "code",
   "execution_count": null,
   "metadata": {},
   "outputs": [],
   "source": []
  }
 ],
 "metadata": {
  "kernelspec": {
   "display_name": "Python 3",
   "language": "python",
   "name": "python3"
  },
  "language_info": {
   "codemirror_mode": {
    "name": "ipython",
    "version": 3
   },
   "file_extension": ".py",
   "mimetype": "text/x-python",
   "name": "python",
   "nbconvert_exporter": "python",
   "pygments_lexer": "ipython3",
   "version": "3.6.8"
  }
 },
 "nbformat": 4,
 "nbformat_minor": 2
}
