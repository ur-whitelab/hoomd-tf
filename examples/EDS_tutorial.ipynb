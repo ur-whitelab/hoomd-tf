{
 "cells": [
  {
   "cell_type": "code",
   "execution_count": 1,
   "metadata": {},
   "outputs": [],
   "source": [
    "##### EDS biasing using HTF #####\n",
    "## Step 1: Build training graph. Here the collective variable in the EDS method is center of mass##\n",
    "## Step 2: Set up Hoomd-Sim of arbitrary particle 'A' ##"
   ]
  },
  {
   "cell_type": "code",
   "execution_count": null,
   "metadata": {},
   "outputs": [],
   "source": [
    "#### Build training graph ####\n",
    "#saved as com_build.py in this example\n",
    "import hoomd.htf as htf\n",
    "import sys\n",
    "import tensorflow as tf\n",
    "\n",
    "def make_eds_graph(N, NN, directory,set_pt):\n",
    "    #N= Number of atoms in the system, NN=Number of nearest neighbors, directory=directory to save the results, set_pt=set point in EDS method\n",
    "    '''Currently only computes running mean'''\n",
    "\n",
    "    graph =htf.graph_builder(NN,output_forces=True)\n",
    "    com = tf.reduce_mean(graph.positions[:, :2], 0) #calculate center of mass\n",
    "    rs = graph.safe_norm(tf.math.subtract(graph.positions[:, :2], com), axis=1) #calculate distance of each atom from center of mass\n",
    "    real_cv = tf.reduce_mean(rs) #calculate the average distance from center of mass. This is the collective variable (CV)\n",
    "    cv_run=graph.running_mean(tensor=real_cv,name='cv_run') #calculates the running mean of the CV\n",
    "    eds_alpha = htf.eds_bias(real_cv, set_point=set_pt, period=300,learning_rate=5.0) #Calculates the EDS alpha value every 300 steps. See htf/utils.py for more information\n",
    "    eds_energy = eds_alpha * real_cv #computes EDS energy\n",
    "    eds_forces = graph.compute_forces(eds_energy) #computes EDS forces\n",
    "    tf.summary.scalar('collective variable',cv_run) #write a scalar summary of CV for tensorboard\n",
    "    printer1=tf.Print(cv_run,[cv_run],message='CV')\n",
    "    printer2=tf.Print(eds_alpha,[eds_alpha],message='a')\n",
    "    graph.save(model_directory=directory,out_nodes=[[printer1,100],[printer2,100]],force_tensor=eds_forces, virial=None)\n"
   ]
  },
  {
   "cell_type": "code",
   "execution_count": null,
   "metadata": {},
   "outputs": [],
   "source": [
    "### Hoomd-Sim code ###\n",
    "import hoomd\n",
    "import hoomd.md\n",
    "import hoomd.htf\n",
    "import tensorflow as tf\n",
    "import sys\n",
    "import com_build #import the graph building script\n",
    "\n",
    "model_dir = '/home/EDS/methanol_codes/methanol_results/'\n",
    "\n",
    "com_build.make_eds_graph(64, 30, model_dir, 4.0)\n",
    "\n",
    "with hoomd.htf.tfcompute(model_dir,write_tensorboard=True) as tfcompute: #write data to tensorboard in realtime\n",
    "    hoomd.context.initialize()\n",
    "    N = 64\n",
    "    NN = 30\n",
    "    rcut = 6.0 #cut off radius: must be less than the box size\n",
    "    system = hoomd.init.create_lattice(unitcell=hoomd.lattice.sq(a=2.0),n=[8, 8]) #initialize the lattice\n",
    "    hoomd.md.update.enforce2d()\n",
    "    nlist = hoomd.md.nlist.cell(check_period=1)\n",
    "    lj = hoomd.md.pair.lj(rcut, nlist) #enable lj pair potential\n",
    "    lj.pair_coeff.set('A', 'A', epsilon=1.0, sigma=1.0) #set lj coefficients\n",
    "    hoomd.md.integrate.mode_standard(dt=0.005)\n",
    "    hoomd.md.integrate.nvt(kT=1.0, tau=0.5,group=hoomd.group.all()) # set up NVT simulation\n",
    "    hoomd.analyze.log(filename='eds.log',quantities=['momentum', 'temperature', 'time'],period=100, overwrite=True) #set up output log\n",
    "    \n",
    "    #equilibrate\n",
    "    hoomd.run(3000)\n",
    "\n",
    "    #simulation                  \n",
    "    tfcompute.attach(nlist, r_cut=rcut,)\n",
    "    hoomd.dump.gsd(filename='saveall_running.gsd',overwrite=True, period=100, group=hoomd.group.all(),dynamic=['attribute', 'momentum', 'topology']) #dump in gsd format\n",
    "    hoomd.run(10000)\n",
    "\n",
    "print('Training Done')\n"
   ]
  }
 ],
 "metadata": {
  "kernelspec": {
   "display_name": "Python 3 (3.6.5)",
   "language": "python",
   "name": "python3"
  },
  "language_info": {
   "codemirror_mode": {
    "name": "ipython",
    "version": 3
   },
   "file_extension": ".py",
   "mimetype": "text/x-python",
   "name": "python",
   "nbconvert_exporter": "python",
   "pygments_lexer": "ipython3",
   "version": "3.6.5"
  }
 },
 "nbformat": 4,
 "nbformat_minor": 2
}
