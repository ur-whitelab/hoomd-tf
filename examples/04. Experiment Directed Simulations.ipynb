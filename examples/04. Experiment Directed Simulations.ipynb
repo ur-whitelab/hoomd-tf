{
 "cells": [
  {
   "cell_type": "markdown",
   "metadata": {},
   "source": [
    "# 04. EDS biasing using HTF"
   ]
  },
  {
   "cell_type": "markdown",
   "metadata": {},
   "source": [
    "Here the collective variable (CV) being biased is the average distance to center of mass."
   ]
  },
  {
   "cell_type": "code",
   "execution_count": 34,
   "metadata": {},
   "outputs": [],
   "source": [
    "import hoomd\n",
    "import hoomd.md\n",
    "import hoomd.dump\n",
    "import hoomd.group\n",
    "import hoomd.htf as htf\n",
    "import tensorflow as tf\n",
    "import MDAnalysis as mda\n",
    "import nglview"
   ]
  },
  {
   "cell_type": "code",
   "execution_count": 35,
   "metadata": {},
   "outputs": [],
   "source": [
    "#### Build training graph ####\n",
    "\n",
    "def make_eds_graph(N, NN, set_pt):\n",
    "    # N= Number of atoms in the system \n",
    "    # NN=Number of nearest neighbors \n",
    "    # set_pt=set point in EDS method\n",
    "    graph =htf.graph_builder(NN,output_forces=True)\n",
    "    #calculate center of mass\n",
    "    com = tf.reduce_mean(graph.positions[:, :2], 0) \n",
    "    #calculate distance of each atom from center of mass\n",
    "    rs = graph.safe_norm(tf.math.subtract(graph.positions[:, :2], com), axis=1) \n",
    "    #calculate the average distance from center of mass. This is the collective variable (CV)\n",
    "    real_cv = tf.reduce_mean(rs) \n",
    "    #calculates the running mean of the CV\n",
    "    cv_run=graph.running_mean(tensor=real_cv,name='cv_run')\n",
    "    #calculate the EDS alpha value every 300 steps. \n",
    "    eds_alpha = htf.eds_bias(real_cv, set_point=set_pt, period=300,learning_rate=5.0)\n",
    "    eds_energy = eds_alpha * real_cv #computes EDS energy\n",
    "    #compute EDS forces\n",
    "    eds_forces = graph.compute_forces(eds_energy)\n",
    "    #printer1=tf.Print(cv_run,[cv_run],message='CV')\n",
    "    #printer2=tf.Print(eds_alpha,[eds_alpha],message='a')    \n",
    "    graph.save('my_model',force_tensor=eds_forces,virial=None)\n"
   ]
  },
  {
   "cell_type": "code",
   "execution_count": 36,
   "metadata": {},
   "outputs": [
    {
     "name": "stdout",
     "output_type": "stream",
     "text": [
      "WARNING: You did not provide a virial for my_model, so per particle virials will not be correct\n",
      "Note: Backed-up my_model previous model to my_model/previous_model_16\n",
      "notice(2): Started TF Session Manager.\n",
      "notice(2): Group \"all\" created containing 64 particles\n",
      "notice(2): -- Neighborlist exclusion statistics -- :\n",
      "notice(2): Particles with 0 exclusions             : 64\n",
      "notice(2): Neighbors included by diameter          : no\n",
      "notice(2): Neighbors excluded when in the same body: no\n",
      "** starting run **\n",
      "Time 00:00:00 | Step 3000 / 3000 | TPS 37798.6 | ETA 00:00:00\n",
      "Average TPS: 37324.6\n",
      "---------\n",
      "-- Neighborlist stats:\n",
      "103 normal updates / 30 forced updates / 0 dangerous updates\n",
      "n_neigh_min: 0 / n_neigh_max: 30 / n_neigh_avg: 15.3906\n",
      "shortest rebuild period: 5\n",
      "-- Cell list stats:\n",
      "Dimension: 2, 2, 1\n",
      "n_min    : 10 / n_max: 22 / n_avg: 16\n",
      "** run complete **\n",
      "notice(2): Force mode is FORCE_MODE.tf2hoomd \n",
      "notice(2): Starting TensorflowCompute \n",
      "notice(2): completed reallocate\n",
      "notice(2): Setting flag indicating virial modification will occur\n",
      "WARNING:tensorflow:No virial computed in graph. Pressure may be inaccurate!\n",
      "INFO:tensorflow:The following quantities will computed:\n",
      "INFO:tensorflow:\tname period batch\n",
      "INFO:tensorflow:\t AssignAdd:0 1 None\n",
      "INFO:tensorflow:\t cv_run-batch/Assign:0 1 None\n",
      "INFO:tensorflow:\t cv_run-batch/Assign_1:0 1 None\n",
      "INFO:tensorflow:\t cv_run-batch/AssignAdd:0 1 None\n",
      "notice(2): TF Session Manager has released control. Starting HOOMD updates\n",
      "** starting run **\n",
      "Time 00:00:10 | Step 5130 / 18000 | TPS 212.526 | ETA 00:01:00\n",
      "Time 00:00:20 | Step 6850 / 18000 | TPS 171.735 | ETA 00:01:04\n",
      "Time 00:00:30 | Step 8307 / 18000 | TPS 145.681 | ETA 00:01:06\n",
      "Time 00:00:40 | Step 9710 / 18000 | TPS 139.86 | ETA 00:00:59\n",
      "Time 00:00:50 | Step 11030 / 18000 | TPS 131.349 | ETA 00:00:53\n",
      "Time 00:01:00 | Step 12180 / 18000 | TPS 114.58 | ETA 00:00:50\n",
      "Time 00:01:10 | Step 13240 / 18000 | TPS 105.912 | ETA 00:00:44\n",
      "Time 00:01:20 | Step 14010 / 18000 | TPS 76.6137 | ETA 00:00:52\n",
      "Time 00:01:30 | Step 14770 / 18000 | TPS 74.6685 | ETA 00:00:43\n",
      "Time 00:01:40 | Step 15550 / 18000 | TPS 77.4476 | ETA 00:00:31\n",
      "Time 00:01:50 | Step 16360 / 18000 | TPS 80.3955 | ETA 00:00:20\n",
      "Time 00:02:00 | Step 17160 / 18000 | TPS 79.7732 | ETA 00:00:10\n",
      "Time 00:02:10 | Step 17960 / 18000 | TPS 79.243 | ETA 00:00:00\n",
      "Time 00:02:11 | Step 18000 / 18000 | TPS 55.5322 | ETA 00:00:00\n",
      "Average TPS: 114.168\n",
      "---------\n",
      "-- Neighborlist stats:\n",
      "994 normal updates / 150 forced updates / 0 dangerous updates\n",
      "n_neigh_min: 19 / n_neigh_max: 59 / n_neigh_avg: 43\n",
      "shortest rebuild period: 10\n",
      "-- Cell list stats:\n",
      "Dimension: 2, 2, 1\n",
      "n_min    : 12 / n_max: 23 / n_avg: 16\n",
      "** run complete **\n",
      "notice(2): Sending exit signal.\n",
      "notice(2): Shutting down TF Manually.\n",
      "notice(2): TF Queue is waiting, sending None\n",
      "INFO:tensorflow:Empty Queue\n",
      "INFO:tensorflow:Received exit. Leaving TF Update Loop. \n",
      "INFO:tensorflow:TF Update runningtime is 127.95632431656122\n",
      "INFO:tensorflow:TF Feed Processingtime is 0.5142939165234566\n",
      "INFO:tensorflow:TF Total Time(excluding communication) is 128.47061823308468\n",
      "Training Done\n"
     ]
    }
   ],
   "source": [
    "#### Hoomd-Sim code ####\n",
    "\n",
    "make_eds_graph(64, 100, 4.0)\n",
    "\n",
    "hoomd.context.initialize(\"--mode=cpu\")\n",
    "with htf.tfcompute('my_model', device='CPU:0') as tfcompute:\n",
    "    #cut off radius: must be less than the box size\n",
    "    rcut = 6.0 \n",
    "    #initialize the lattice\n",
    "    system = hoomd.init.create_lattice(unitcell=hoomd.lattice.sq(a=2.0),n=[8, 8])\n",
    "    nlist = hoomd.md.nlist.cell(check_period=1)\n",
    "    #enable lj pair potential\n",
    "    lj = hoomd.md.pair.lj(rcut, nlist) \n",
    "    #set lj coefficients\n",
    "    lj.pair_coeff.set('A', 'A', epsilon=1.0, sigma=1.0) \n",
    "    hoomd.md.integrate.mode_standard(dt=0.005)\n",
    "    # set up NVT simulation\n",
    "    hoomd.md.integrate.nvt(kT=1.0, tau=0.5,group=hoomd.group.all()) \n",
    "    #equilibrate\n",
    "    hoomd.run(3000)\n",
    "    #simulation\n",
    "    #nvt_dump = hoomd.dump.gsd(filename='eds_traj.gsd', period=10,group=hoomd.group.all(),  \n",
    "                              #phase=0, overwrite=True, dynamic=['attribute', 'momentum', 'topology'])\n",
    "    nvt_dump = hoomd.dump.dcd(filename='eds_traj.dcd', period=10,group=hoomd.group.all(),  \n",
    "                              phase=0, overwrite=True)\n",
    "    tfcompute.attach(nlist, r_cut=rcut,save_period=10)\n",
    "    hoomd.run(15000)\n",
    "\n",
    "print('Training Done')\n"
   ]
  },
  {
   "cell_type": "markdown",
   "metadata": {},
   "source": [
    "## **Now let's visualize**\n",
    "\n",
    "Required packages in your environment: \n",
    "    1. mdanalysis\n",
    "    2. nglview\n",
    "    3. moviepy==0.2.2.11\n",
    "    4. imageio==1.6\n",
    "\n",
    "**Note**: You can do `pip install nglview` but you might have to do `jupyter-nbextension enable nglview --py --sys-prefix` in your environment"
   ]
  },
  {
   "cell_type": "code",
   "execution_count": 55,
   "metadata": {},
   "outputs": [
    {
     "name": "stdout",
     "output_type": "stream",
     "text": [
      "<Universe with 64 atoms>\n"
     ]
    }
   ],
   "source": [
    "u = mda.Universe('eds_traj.dcd')\n",
    "print(u)"
   ]
  },
  {
   "cell_type": "code",
   "execution_count": 73,
   "metadata": {},
   "outputs": [],
   "source": [
    "view = nglview.show_mdanalysis(u.atoms)\n",
    "view.background = 'black'"
   ]
  },
  {
   "cell_type": "code",
   "execution_count": 77,
   "metadata": {},
   "outputs": [],
   "source": [
    "view.add_spacefill()"
   ]
  },
  {
   "cell_type": "code",
   "execution_count": 78,
   "metadata": {},
   "outputs": [],
   "source": [
    "view.color_by('chainid')"
   ]
  },
  {
   "cell_type": "code",
   "execution_count": null,
   "metadata": {},
   "outputs": [],
   "source": [
    "view"
   ]
  },
  {
   "cell_type": "code",
   "execution_count": null,
   "metadata": {},
   "outputs": [],
   "source": []
  }
 ],
 "metadata": {
  "kernelspec": {
   "display_name": "Python 3",
   "language": "python",
   "name": "python3"
  },
  "language_info": {
   "codemirror_mode": {
    "name": "ipython",
    "version": 3
   },
   "file_extension": ".py",
   "mimetype": "text/x-python",
   "name": "python",
   "nbconvert_exporter": "python",
   "pygments_lexer": "ipython3",
   "version": "3.6.8"
  }
 },
 "nbformat": 4,
 "nbformat_minor": 2
}
