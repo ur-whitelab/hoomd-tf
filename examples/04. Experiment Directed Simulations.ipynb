{
 "cells": [
  {
   "cell_type": "markdown",
   "metadata": {},
   "source": [
    "# 04. EDS biasing using HTF"
   ]
  },
  {
   "cell_type": "markdown",
   "metadata": {},
   "source": [
    "Here the collective variable (CV) being biased is the average distance to center of mass."
   ]
  },
  {
   "cell_type": "code",
   "execution_count": 1,
   "metadata": {},
   "outputs": [],
   "source": [
    "import hoomd\n",
    "import hoomd.md\n",
    "import hoomd.dump\n",
    "import hoomd.group\n",
    "import hoomd.htf as htf\n",
    "import tensorflow as tf\n",
    "tf.get_logger().setLevel('ERROR')"
   ]
  },
  {
   "cell_type": "markdown",
   "metadata": {},
   "source": [
    "## Build the computational graph\n",
    "\n",
    "We first create a CV, the distance from the center of mass for each atom. Then we use EDS to bias the CV to match our target value. Note we add the forces ourselves to the compute graph and they depend on the atom positions, not the distance between atoms. Hoomd-TF requires you to be extra sure you want position dependent forces, because often you can accidentally implicit create position dependent forces. So we add `positions=True` to our `compute_forces` call to say we're sure about computing position dependent forces."
   ]
  },
  {
   "cell_type": "code",
   "execution_count": 2,
   "metadata": {},
   "outputs": [],
   "source": [
    "#### Build training graph ####\n",
    "\n",
    "def make_eds_graph(NN, set_pt):\n",
    "    # N= Number of atoms in the system \n",
    "    # NN=Number of nearest neighbors \n",
    "    # set_pt=set point in EDS method\n",
    "    graph =htf.graph_builder(NN,output_forces=True)\n",
    "    #calculate center of mass\n",
    "    com = tf.reduce_mean(graph.positions[:, :2], 0) \n",
    "    #calculate distance of each atom from center of mass\n",
    "    rs = graph.safe_norm(tf.math.subtract(graph.positions[:, :2], com), axis=1) \n",
    "    #calculate the average distance from center of mass. This is the collective variable (CV)\n",
    "    real_cv = tf.reduce_mean(rs) \n",
    "    #calculates the running mean of the CV and value\n",
    "    graph.running_mean(tensor=real_cv,name='cv_run')\n",
    "    graph.save_tensor(tensor=real_cv,name='cv')\n",
    "    #calculate the EDS alpha value every 300 steps. \n",
    "    eds_alpha = htf.eds_bias(real_cv, set_point=set_pt, period=300,learning_rate=5.0)\n",
    "    eds_energy = eds_alpha * real_cv #computes EDS energy\n",
    "    #compute EDS forces\n",
    "    eds_forces = graph.compute_forces(eds_energy, positions=True)\n",
    "    graph.save('eds-model',force_tensor=eds_forces,virial=None)\n"
   ]
  },
  {
   "cell_type": "markdown",
   "metadata": {},
   "source": [
    "## Running the simulation\n",
    "\n",
    "This simulation is 64 LJ particles in an NVT ensemble. We save data every 10 steps."
   ]
  },
  {
   "cell_type": "code",
   "execution_count": 3,
   "metadata": {},
   "outputs": [
    {
     "name": "stdout",
     "output_type": "stream",
     "text": [
      "WARNING: You did not provide a virial for eds-model, so per particle virials will not be correct\n",
      "Note: Backed-up eds-model previous model to eds-model/previous_model_2\n",
      "HOOMD-blue v2.5.1 DOUBLE HPMC_MIXED SSE SSE2 \n",
      "Compiled: 03/04/2020\n",
      "Copyright (c) 2009-2019 The Regents of the University of Michigan.\n",
      "-----\n",
      "You are using HOOMD-blue. Please cite the following:\n",
      "* J A Anderson, C D Lorenz, and A Travesset. \"General purpose molecular dynamics\n",
      "  simulations fully implemented on graphics processing units\", Journal of\n",
      "  Computational Physics 227 (2008) 5342--5359\n",
      "* J Glaser, T D Nguyen, J A Anderson, P Liu, F Spiga, J A Millan, D C Morse, and\n",
      "  S C Glotzer. \"Strong scaling of general-purpose molecular dynamics simulations\n",
      "  on GPUs\", Computer Physics Communications 192 (2015) 97--107\n",
      "-----\n",
      "HOOMD-blue is running on the CPU\n",
      "notice(2): Started TF Session Manager.\n",
      "notice(2): Group \"all\" created containing 64 particles\n",
      "notice(2): -- Neighborlist exclusion statistics -- :\n",
      "notice(2): Particles with 0 exclusions             : 64\n",
      "notice(2): Neighbors included by diameter          : no\n",
      "notice(2): Neighbors excluded when in the same body: no\n",
      "** starting run **\n",
      "Time 00:00:00 | Step 3000 / 3000 | TPS 28167.7 | ETA 00:00:00\n",
      "Average TPS: 28059.1\n",
      "---------\n",
      "-- Neighborlist stats:\n",
      "103 normal updates / 30 forced updates / 0 dangerous updates\n",
      "n_neigh_min: 0 / n_neigh_max: 30 / n_neigh_avg: 15.3906\n",
      "shortest rebuild period: 5\n",
      "-- Cell list stats:\n",
      "Dimension: 2, 2, 1\n",
      "n_min    : 10 / n_max: 22 / n_avg: 16\n",
      "** run complete **\n",
      "notice(2): Force mode is FORCE_MODE.tf2hoomd \n",
      "notice(2): Starting TensorflowCompute \n",
      "notice(2): completed reallocate\n",
      "notice(2): Setting flag indicating virial modification will occur\n",
      "notice(2): TF Session Manager has released control. Starting HOOMD updates\n",
      "** starting run **\n",
      "Time 00:00:11 | Step 8566 / 18000 | TPS 556.543 | ETA 00:00:16\n",
      "Time 00:00:22 | Step 14500 / 18000 | TPS 550.859 | ETA 00:00:06\n",
      "Time 00:00:28 | Step 18000 / 18000 | TPS 595.259 | ETA 00:00:00\n",
      "Average TPS: 562.765\n",
      "---------\n",
      "-- Neighborlist stats:\n",
      "973 normal updates / 150 forced updates / 0 dangerous updates\n",
      "n_neigh_min: 22 / n_neigh_max: 57 / n_neigh_avg: 42.2188\n",
      "shortest rebuild period: 9\n",
      "-- Cell list stats:\n",
      "Dimension: 2, 2, 1\n",
      "n_min    : 12 / n_max: 22 / n_avg: 16\n",
      "** run complete **\n",
      "notice(2): Sending exit signal.\n",
      "notice(2): Shutting down TF Manually.\n",
      "notice(2): TF Queue is waiting, sending None\n"
     ]
    }
   ],
   "source": [
    "#### Hoomd-Sim code ####\n",
    "\n",
    "make_eds_graph(32, 4.0)\n",
    "\n",
    "hoomd.context.initialize(\"--mode=cpu\")\n",
    "with htf.tfcompute('eds-model', device='CPU:0') as tfcompute:\n",
    "    #cut off radius: must be less than the box size\n",
    "    rcut = 6.0 \n",
    "    #initialize the lattice\n",
    "    system = hoomd.init.create_lattice(unitcell=hoomd.lattice.sq(a=2.0),n=[8, 8])\n",
    "    nlist = hoomd.md.nlist.cell(check_period=1)\n",
    "    #enable lj pair potential\n",
    "    lj = hoomd.md.pair.lj(rcut, nlist) \n",
    "    #set lj coefficients\n",
    "    lj.pair_coeff.set('A', 'A', epsilon=1.0, sigma=1.0) \n",
    "    hoomd.md.integrate.mode_standard(dt=0.005)\n",
    "    # set up NVT simulation\n",
    "    hoomd.md.integrate.nvt(kT=1.0, tau=0.5,group=hoomd.group.all()) \n",
    "    #equilibrate\n",
    "    hoomd.run(3000)\n",
    "    #simulation\n",
    "    tfcompute.attach(nlist, r_cut=rcut,save_period=250)\n",
    "    hoomd.run(15000)"
   ]
  },
  {
   "cell_type": "markdown",
   "metadata": {},
   "source": [
    "## Analysis\n",
    "\n",
    "Now we plot the CV value and its running average to assess if EDS converged"
   ]
  },
  {
   "cell_type": "code",
   "execution_count": 6,
   "metadata": {
    "scrolled": true
   },
   "outputs": [
    {
     "data": {
      "image/png": "[encoded data removed]",
      "text/plain": [
       "<Figure size 432x288 with 1 Axes>"
      ]
     },
     "metadata": {
      "needs_background": "light"
     },
     "output_type": "display_data"
    }
   ],
   "source": [
    "import matplotlib.pyplot as plt\n",
    "import numpy as np \n",
    "\n",
    "cv_value = []\n",
    "cv_avg = []\n",
    "# we saved every 10 steps\n",
    "for i in range(0, 15000, 250):\n",
    "    variables = htf.load_variables('eds-model', ['cv_run', 'cv'], i)\n",
    "    # sum energy across particles\n",
    "    cv_avg.append(variables['cv_run'])\n",
    "    cv_value.append(variables['cv'])\n",
    "plt.plot(range(0,15000, 250), cv_avg, label='CV Running Avg', linestyle='--')\n",
    "plt.plot(range(0,15000, 250), cv_value, label='CV', color='C0')\n",
    "plt.axhline(4.0, label='EDS Set Point', color='C1')\n",
    "plt.ylabel('CV Value')\n",
    "plt.xlabel('Time Step')\n",
    "plt.legend()\n",
    "plt.show()"
   ]
  }
 ],
 "metadata": {
  "kernelspec": {
   "display_name": "Python 3",
   "language": "python",
   "name": "python3"
  },
  "language_info": {
   "codemirror_mode": {
    "name": "ipython",
    "version": 3
   },
   "file_extension": ".py",
   "mimetype": "text/x-python",
   "name": "python",
   "nbconvert_exporter": "python",
   "pygments_lexer": "ipython3",
   "version": "3.7.6"
  }
 },
 "nbformat": 4,
 "nbformat_minor": 2
}
