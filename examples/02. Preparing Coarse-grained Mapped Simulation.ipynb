{
 "cells": [
  {
   "cell_type": "markdown",
   "metadata": {},
   "source": [
    "# 02. Preparing Coarse-grained Mapped Simulation"
   ]
  },
  {
   "cell_type": "markdown",
   "metadata": {},
   "source": [
    "## Prequisites\n",
    "\n",
    "This code requires the `gsd` package, which is available on conda forge."
   ]
  },
  {
   "cell_type": "markdown",
   "metadata": {},
   "source": [
    "\n",
    "\n",
    "Coarse-graining a box of 500 methanol molecules from the all atom simulation given in `CG_tutorial/meth.gsd` file."
   ]
  },
  {
   "cell_type": "code",
   "execution_count": 1,
   "metadata": {},
   "outputs": [],
   "source": [
    "# disable GPU. Remove this if you've compiled HOOMD for GPU\n",
    "import os\n",
    "os.environ['CUDA_VISIBLE_DEVICES'] = '-1'\n",
    "\n",
    "\n",
    "import tensorflow as tf\n",
    "from tensorflow.keras import layers\n",
    "import hoomd\n",
    "import hoomd.md\n",
    "import hoomd.htf as htf\n",
    "import numpy as np\n",
    "import gsd, gsd.hoomd, pickle\n",
    "import matplotlib.pyplot as plt,matplotlib"
   ]
  },
  {
   "cell_type": "markdown",
   "metadata": {},
   "source": [
    "## Build the Model\n",
    "\n",
    "Here we prepare the computations that will be executed at each step during the simulation. We have access to the neighbor list, positions, types, box dimensions of the simulation.\n",
    "\n",
    "We work in four steps:\n",
    "\n",
    "1. Create a mapping matrix that describes how to group atoms together in a coarse-grained system given the all-atom system\n",
    "2. Create a coarse-grained mapped trajectory, where atoms are grouped together using the mapping matrix\n",
    "3. Compute the radial distribution function of this new mapped trajectory\n",
    "4. Compute the radial distribution function of the C-C from the all-atom sysetm for comparison"
   ]
  },
  {
   "cell_type": "code",
   "execution_count": 2,
   "metadata": {},
   "outputs": [
    {
     "name": "stdout",
     "output_type": "stream",
     "text": [
      "HOOMD-blue 2.5.2 DOUBLE HPMC_MIXED TBB SSE SSE2 SSE3 \n",
      "Compiled: 04/30/2019\n",
      "Copyright (c) 2009-2019 The Regents of the University of Michigan.\n",
      "-----\n",
      "You are using HOOMD-blue. Please cite the following:\n",
      "* J A Anderson, C D Lorenz, and A Travesset. \"General purpose molecular dynamics\n",
      "  simulations fully implemented on graphics processing units\", Journal of\n",
      "  Computational Physics 227 (2008) 5342--5359\n",
      "* J Glaser, T D Nguyen, J A Anderson, P Liu, F Spiga, J A Millan, D C Morse, and\n",
      "  S C Glotzer. \"Strong scaling of general-purpose molecular dynamics simulations\n",
      "  on GPUs\", Computer Physics Communications 192 (2015) 97--107\n",
      "-----\n",
      "HOOMD-blue is running on the CPU\n",
      "notice(2): Group \"all\" created containing 6000 particles\n"
     ]
    }
   ],
   "source": [
    "# set-up the system\n",
    "g = gsd.hoomd.open('CG_tutorial/meth.gsd')\n",
    "c = hoomd.context.initialize('--mode=cpu')\n",
    "system = hoomd.init.read_gsd(filename='CG_tutorial/meth.gsd')\n",
    "# disabled particle sorting!\n",
    "c.sorter.disable()\n",
    "set_rcut = 10.0"
   ]
  },
  {
   "cell_type": "code",
   "execution_count": 3,
   "metadata": {},
   "outputs": [
    {
     "name": "stdout",
     "output_type": "stream",
     "text": [
      "Finding molecules...99.90%\n"
     ]
    }
   ],
   "source": [
    "#get mapping from molecule index to particle index\n",
    "molecule_mapping = htf.find_molecules(system)\n",
    "# get number of atoms\n",
    "N = sum([len(m) for m in molecule_mapping])\n",
    "# get number of molecules\n",
    "M = len(molecule_mapping)\n",
    "# get number of atoms in a molecule=MN\n",
    "MN = len(molecule_mapping[0])\n",
    "# create one bead mapping -> \n",
    "# column [[1], [1], [1], [1], [1]] that means \n",
    "# all atoms contribute to CG bead equally\n",
    "# massess are accounted for in sparse_mapping\n",
    "molecule_mapping_matrix = np.ones([1, MN], dtype=np.int)\n",
    "#create a mass-weighted M x N mapping operator \n",
    "cg_mapping = htf.sparse_mapping([molecule_mapping_matrix for _ in molecule_mapping], \n",
    "                                molecule_mapping, system=system)\n",
    "assert cg_mapping.shape == (M, N)"
   ]
  },
  {
   "cell_type": "code",
   "execution_count": 4,
   "metadata": {},
   "outputs": [],
   "source": [
    "# define model\n",
    "class MappingModel(htf.SimModel):\n",
    "    def setup(self, CG_NN, cg_mapping, rcut):\n",
    "        self.CG_NN = CG_NN\n",
    "        self.rcut = rcut\n",
    "        self.cg_mapping = cg_mapping\n",
    "        self.avg_cg_rdf = tf.keras.metrics.MeanTensor()\n",
    "        self.avg_aa_rdf = tf.keras.metrics.MeanTensor()\n",
    "    def compute(self, nlist, positions, box):\n",
    "        # calculate the center of mass of a CG bead\n",
    "        box_size = htf.box_size(box)\n",
    "        mapped_pos = htf.center_of_mass(positions[:,:3], self.cg_mapping, box_size)\n",
    "        # create the mapped neighbot list\n",
    "        mapped_nlist = htf.compute_nlist(mapped_pos, self.rcut, self.CG_NN, box_size, True)\n",
    "        # compute RDF for mapped and C-C in all-atom\n",
    "        cg_rdf = htf.compute_rdf(mapped_nlist, [0.1,self.rcut])\n",
    "        aa_rdf = htf.compute_rdf(nlist, [0.1,self.rcut], positions[:,3], type_i=3, type_j=3)\n",
    "        self.avg_cg_rdf.update_state(cg_rdf)\n",
    "        self.avg_aa_rdf.update_state(aa_rdf)\n",
    "        return\n",
    " "
   ]
  },
  {
   "cell_type": "code",
   "execution_count": 5,
   "metadata": {},
   "outputs": [],
   "source": [
    "# build model. output_forces = False because \n",
    "# this model doesn't comptue forces\n",
    "max_neighbor_est = 256\n",
    "model = MappingModel(\n",
    "    max_neighbor_est, \n",
    "    CG_NN=max_neighbor_est, \n",
    "    cg_mapping=cg_mapping, \n",
    "    output_forces=False,\n",
    "    rcut=set_rcut,\n",
    "    check_nlist=True)"
   ]
  },
  {
   "cell_type": "markdown",
   "metadata": {},
   "source": [
    "## Running the simulation\n",
    "\n",
    "Here we begin a simulation of methanol. This code is a little complex, but not really about hoomd-tf. This is the details of setting-up the force field to simulate methanol (e.g., treating electrostatics, dispersion, thermostat). "
   ]
  },
  {
   "cell_type": "code",
   "execution_count": 6,
   "metadata": {
    "scrolled": false
   },
   "outputs": [
    {
     "name": "stdout",
     "output_type": "stream",
     "text": [
      "-----\n",
      "You are using PPPM. Please cite the following:\n",
      "* D N LeBard, B G Levine, S A Barr, A Jusufi, S Sanders, M L Klein, and A Z\n",
      "  Panagiotopoulos. \"Self-assembly of coarse-grained ionic surfactants\n",
      "  accelerated by graphics processing units\", Journal of Computational Physics 8\n",
      "  (2012) 2385-2397\n",
      "-----\n",
      "notice(2): -- Neighborlist exclusion statistics -- :\n",
      "notice(2): Particles with 5 exclusions             : 6000\n",
      "notice(2): Neighbors included by diameter          : no\n",
      "notice(2): Neighbors excluded when in the same body: no\n",
      "notice(2): Force mode is FORCE_MODE.hoomd2tf \n",
      "notice(2): Starting TensorflowCompute \n",
      "notice(2): completed reallocate\n",
      "** starting run **\n"
     ]
    },
    {
     "name": "stderr",
     "output_type": "stream",
     "text": [
      "*Warning*: charge.pppm: system is not neutral and unscreened interactions are calculated, the net charge is -0.000357628\n"
     ]
    },
    {
     "name": "stdout",
     "output_type": "stream",
     "text": [
      "notice(2): charge.pppm: RMS error: 0.000406376\n",
      "Time 00:00:16 | Step 11 / 250 | TPS 1.03819 | ETA 00:03:50\n",
      "Time 00:00:26 | Step 24 / 250 | TPS 1.29098 | ETA 00:02:55\n",
      "Time 00:00:36 | Step 38 / 250 | TPS 1.33786 | ETA 00:02:38\n",
      "Time 00:00:47 | Step 52 / 250 | TPS 1.32705 | ETA 00:02:29\n",
      "Time 00:00:57 | Step 65 / 250 | TPS 1.28897 | ETA 00:02:23\n",
      "Time 00:01:07 | Step 79 / 250 | TPS 1.31205 | ETA 00:02:10\n",
      "Time 00:01:18 | Step 93 / 250 | TPS 1.38269 | ETA 00:01:53\n",
      "Time 00:01:28 | Step 107 / 250 | TPS 1.39968 | ETA 00:01:42\n",
      "Time 00:01:38 | Step 121 / 250 | TPS 1.36542 | ETA 00:01:34\n",
      "Time 00:01:49 | Step 136 / 250 | TPS 1.39301 | ETA 00:01:21\n",
      "Time 00:01:59 | Step 150 / 250 | TPS 1.38367 | ETA 00:01:12\n",
      "Time 00:02:09 | Step 164 / 250 | TPS 1.38052 | ETA 00:01:02\n",
      "Time 00:02:20 | Step 179 / 250 | TPS 1.39672 | ETA 00:00:50\n",
      "Time 00:02:30 | Step 194 / 250 | TPS 1.43586 | ETA 00:00:39\n",
      "Time 00:02:40 | Step 208 / 250 | TPS 1.38691 | ETA 00:00:30\n",
      "Time 00:02:51 | Step 223 / 250 | TPS 1.40022 | ETA 00:00:19\n",
      "Time 00:03:01 | Step 238 / 250 | TPS 1.42681 | ETA 00:00:08\n",
      "Time 00:03:10 | Step 250 / 250 | TPS 1.40706 | ETA 00:00:00\n",
      "Average TPS: 1.35224\n",
      "---------\n",
      "-- Neighborlist stats:\n",
      "64 normal updates / 0 forced updates / 0 dangerous updates\n",
      "n_neigh_min: 235 / n_neigh_max: 561 / n_neigh_avg: 420.825\n",
      "shortest rebuild period: 3\n",
      "-- Cell list stats:\n",
      "Dimension: 3, 3, 3\n",
      "n_min    : 175 / n_max: 292 / n_avg: 222.222\n",
      "** run complete **\n"
     ]
    }
   ],
   "source": [
    "### Hoomd-Sim code ###\n",
    "\n",
    "tfcompute = htf.tfcompute(model)\n",
    "nlist = hoomd.md.nlist.cell()\n",
    "\n",
    "#set-up pppm\n",
    "charged = hoomd.group.all()\n",
    "pppm = hoomd.md.charge.pppm(nlist=nlist, group=charged)\n",
    "pppm.set_params(Nx=32, Ny=32, Nz=32, order=6, rcut=set_rcut)\n",
    "\n",
    "#set-up pair coefficients\n",
    "nlist.reset_exclusions(['1-2', '1-3', '1-4','body'])\n",
    "lj = hoomd.md.pair.force_shifted_lj(r_cut=set_rcut, nlist=nlist)\n",
    "forces = [lj]\n",
    "lj.pair_coeff.set(\"opls_156\", \"opls_156\", sigma=2.5, epsilon=0.03)\n",
    "lj.pair_coeff.set(\"opls_156\", \"opls_157\", sigma=2.96, epsilon=0.05)\n",
    "lj.pair_coeff.set(\"opls_156\", \"opls_154\", sigma=2.79, epsilon=0.07)\n",
    "lj.pair_coeff.set(\"opls_156\", \"opls_155\", sigma=5.0, epsilon=0.0)\n",
    "lj.pair_coeff.set(\"opls_157\", \"opls_157\", sigma=3.5, epsilon=0.07)\n",
    "lj.pair_coeff.set(\"opls_157\", \"opls_154\", sigma=3.31, epsilon=0.11)\n",
    "lj.pair_coeff.set(\"opls_157\", \"opls_155\", sigma=5.92, epsilon=0.0)\n",
    "lj.pair_coeff.set(\"opls_154\", \"opls_154\", sigma=3.12, epsilon=0.17)\n",
    "lj.pair_coeff.set(\"opls_154\", \"opls_155\", sigma=5.59, epsilon=0.0)\n",
    "lj.pair_coeff.set(\"opls_155\", \"opls_155\", sigma=10.0, epsilon=0.0)\n",
    "\n",
    "#set-up bonds\n",
    "harmonic = hoomd.md.bond.harmonic()\n",
    "harmonic.bond_coeff.set(\"opls_156-opls_157\", k=340.00, r0=1.09)\n",
    "harmonic.bond_coeff.set(\"opls_154-opls_157\", k=320.00, r0=1.41)\n",
    "harmonic.bond_coeff.set(\"opls_154-opls_155\", k=553.00, r0=0.95)\n",
    "\n",
    "#set-up angles\n",
    "harm_angle = hoomd.md.angle.harmonic()\n",
    "harm_angle.angle_coeff.set(\"opls_154-opls_157-opls_156\", k=70.0, t0=1.90)\n",
    "harm_angle.angle_coeff.set(\"opls_155-opls_154-opls_157\", k=110.0, t0=1.89)\n",
    "harm_angle.angle_coeff.set(\"opls_156-opls_157-opls_156\", k=66.0, t0=1.88)\n",
    "\n",
    "#set-up dihedrals\n",
    "dihedral = hoomd.md.dihedral.opls()\n",
    "dihedral.dihedral_coeff.set(\"opls_155-opls_154-opls_157-opls_156\", k1=0.0, k2=0.0, k3=0.45, k4=0.0)\n",
    "\n",
    "group_all = hoomd.group.all()\n",
    "kT = 1.9872/1000\n",
    "\n",
    "#NVT Simulation in Hoomd\n",
    "im = hoomd.md.integrate.mode_standard(dt=5.0/489.0)\n",
    "nvt = hoomd.md.integrate.nvt(group=group_all, kT=298.15 * kT, tau=350 / 48.9)\n",
    "nvt.randomize_velocities(1234)\n",
    "\n",
    "tfcompute.attach(nlist, r_cut=set_rcut)\n",
    "\n",
    "#Hoomd production run\n",
    "hoomd.run(250)"
   ]
  },
  {
   "cell_type": "markdown",
   "metadata": {},
   "source": [
    "## Analysis\n",
    "\n",
    "Now we load the RDF we computed and plot it. Note this is not actually coarse-grained, \n",
    "we're just looking at the mapped rdf which can then be used for coarse-graining."
   ]
  },
  {
   "cell_type": "code",
   "execution_count": 7,
   "metadata": {
    "scrolled": true
   },
   "outputs": [
    {
     "data": {
      "image/png": "[encoded data removed]",
      "text/plain": [
       "<Figure size 432x288 with 1 Axes>"
      ]
     },
     "metadata": {
      "needs_background": "light"
     },
     "output_type": "display_data"
    }
   ],
   "source": [
    "## Plot RDFs between Mapped CG beads (center of masses) and the reference (C-O in all atom system )\n",
    "matplotlib.style.use('seaborn-muted')\n",
    "aa_rdf = model.avg_aa_rdf.result().numpy()\n",
    "cg_rdf = model.avg_cg_rdf.result().numpy()\n",
    "r = aa_rdf[1,:]\n",
    "plt.plot(aa_rdf[1,:], aa_rdf[0,:] / aa_rdf[0,-1],label ='All Atom C-C')\n",
    "plt.plot(cg_rdf[1,:], cg_rdf[0,:] / cg_rdf[0,-1], label='Mapped (CG)')\n",
    "plt.xlim(2.5,9)\n",
    "plt.xlabel(r'r [$\\AA$]')\n",
    "plt.ylabel('$g(r)$')\n",
    "plt.legend()\n",
    "plt.show()"
   ]
  }
 ],
 "metadata": {
  "kernelspec": {
   "display_name": "Python 3",
   "language": "python",
   "name": "python3"
  },
  "language_info": {
   "codemirror_mode": {
    "name": "ipython",
    "version": 3
   },
   "file_extension": ".py",
   "mimetype": "text/x-python",
   "name": "python",
   "nbconvert_exporter": "python",
   "pygments_lexer": "ipython3",
   "version": "3.7.8"
  }
 },
 "nbformat": 4,
 "nbformat_minor": 2
}
