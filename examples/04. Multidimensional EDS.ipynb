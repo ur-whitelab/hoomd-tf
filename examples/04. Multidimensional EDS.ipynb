{
 "cells": [
  {
   "cell_type": "markdown",
   "metadata": {},
   "source": [
    "# 04. Multidimensional EDS biasing"
   ]
  },
  {
   "cell_type": "markdown",
   "metadata": {},
   "source": [
    "Multidimensional EDS uses similar steps as the 1D EDS method. Instead of one CV now we are biasing two CVs.\n",
    "\n",
    "The CVs used for this tutorial are:\n",
    "1. average distance between particles and the center of mass along x axis\n",
    "2. average distance between particles and the center of mass along y axis"
   ]
  },
  {
   "cell_type": "code",
   "execution_count": 1,
   "metadata": {},
   "outputs": [],
   "source": [
    "import hoomd.htf as htf\n",
    "import tensorflow as tf\n",
    "import hoomd\n",
    "import hoomd.md"
   ]
  },
  {
   "cell_type": "code",
   "execution_count": 2,
   "metadata": {},
   "outputs": [],
   "source": [
    "#### Build training graph for multidimensional EDS ####\n",
    "def make_eds2D_graph(N, NN, set_pt1,set_pt2):\n",
    "    #N= Number of atoms in the system, NN=Number of nearest neighbors,\n",
    "    #set_pt=set point in EDS method\n",
    "    \n",
    "    graph =htf.graph_builder(NN,output_forces=True)\n",
    "    #calculate center of mass\n",
    "    com = tf.reduce_mean(graph.positions[:, :2], 0)\n",
    "    #calculate distance of each atom from center of mass along x axis\n",
    "    r_x = tf.math.subtract(graph.positions[:, 0], tf.ones_like(graph.positions[:, 0])*com[0])\n",
    "    #calculate distance of each atom from center of mass along y axis\n",
    "    r_y = tf.math.subtract(graph.positions[:, 1], tf.ones_like(graph.positions[:, 1])*com[1])\n",
    "    #calculate CV 1: average distance along x axis \n",
    "    real_cv1 = tf.reduce_mean(r_x)\n",
    "    #calculate CV 2: average distance along y axis \n",
    "    real_cv2 = tf.reduce_mean(r_y)\n",
    "    #calculates the running mean of the CVs\n",
    "    cv_run1=graph.running_mean(tensor=real_cv1,name='cv_run1')\n",
    "    cv_run2=graph.running_mean(tensor=real_cv2,name='cv_run2')\n",
    "\n",
    "    #Calculate the EDS alpha value for each CV, every 300 steps. \n",
    "    #See htf/utils.py for more information\n",
    "    eds_alpha1 = htf.eds_bias(real_cv1, set_point=set_pt1, period=300,learning_rate=5.0,name='eds1')\n",
    "    eds_alpha2 = htf.eds_bias(real_cv2, set_point=set_pt2, period=300,learning_rate=5.0,name='eds2')\n",
    "    #computes EDS energy\n",
    "    eds_energy2 = (eds_alpha1 * real_cv1) + (eds_alpha2 * real_cv2)                      \n",
    "    #compute EDS forces\n",
    "    eds_forces2 = graph.compute_forces(eds_energy2) \n",
    "    \n",
    "    printer1=tf.Print(cv_run1,[cv_run1],message='CV1')\n",
    "    printer2=tf.Print(cv_run2,[cv_run2],message='CV2')                     \n",
    "    printer3=tf.Print(eds_alpha1,[eds_alpha1],message='a1')\n",
    "    printer4=tf.Print(eds_alpha2,[eds_alpha2],message='a2')\n",
    "    \n",
    "    graph.save('my_model2',force_tensor=eds_forces2,out_nodes=[[printer1,500],[printer2,500],[printer4,500],[printer4,500]],virial=None)                     \n",
    "    "
   ]
  },
  {
   "cell_type": "code",
   "execution_count": 4,
   "metadata": {},
   "outputs": [
    {
     "name": "stdout",
     "output_type": "stream",
     "text": [
      "WARNING: You did not provide a virial for my_model2, so per particle virials will not be correct\n",
      "Note: Backed-up my_model2 previous model to my_model2/previous_model_0\n",
      "notice(2): Started TF Session Manager.\n",
      "notice(2): Group \"all\" created containing 64 particles\n",
      "notice(2): -- Neighborlist exclusion statistics -- :\n",
      "notice(2): Particles with 0 exclusions             : 64\n",
      "notice(2): Neighbors included by diameter          : no\n",
      "notice(2): Neighbors excluded when in the same body: no\n",
      "** starting run **\n",
      "Time 00:00:00 | Step 3000 / 3000 | TPS 52914.7 | ETA 00:00:00\n",
      "Average TPS: 52510.9\n",
      "---------\n",
      "-- Neighborlist stats:\n",
      "129 normal updates / 30 forced updates / 0 dangerous updates\n",
      "n_neigh_min: 0 / n_neigh_max: 31 / n_neigh_avg: 15.7969\n",
      "shortest rebuild period: 2\n",
      "-- Cell list stats:\n",
      "Dimension: 2, 2, 1\n",
      "n_min    : 10 / n_max: 21 / n_avg: 16\n",
      "** run complete **\n",
      "notice(2): Force mode is FORCE_MODE.tf2hoomd \n",
      "notice(2): Starting TensorflowCompute \n",
      "notice(2): completed reallocate\n",
      "notice(2): Setting flag indicating virial modification will occur\n",
      "WARNING:tensorflow:No virial computed in graph. Pressure may be inaccurate!\n",
      "INFO:tensorflow:The following quantities will computed:\n",
      "INFO:tensorflow:\tname period batch\n",
      "INFO:tensorflow:\t Print:0 500 None\n",
      "INFO:tensorflow:\t Print_1:0 500 None\n",
      "INFO:tensorflow:\t Print_3:0 500 None\n",
      "INFO:tensorflow:\t Print_3:0 500 None\n",
      "INFO:tensorflow:\t AssignAdd:0 1 None\n",
      "INFO:tensorflow:\t cv_run1-batch/Assign:0 1 None\n",
      "INFO:tensorflow:\t cv_run1-batch/Assign_1:0 1 None\n",
      "INFO:tensorflow:\t cv_run1-batch/AssignAdd:0 1 None\n",
      "INFO:tensorflow:\t cv_run2-batch/Assign:0 1 None\n",
      "INFO:tensorflow:\t cv_run2-batch/Assign_1:0 1 None\n",
      "INFO:tensorflow:\t cv_run2-batch/AssignAdd:0 1 None\n",
      "notice(2): TF Session Manager has released control. Starting HOOMD updates\n",
      "** starting run **\n",
      "Time 00:00:10 | Step 7736 / 13000 | TPS 473.507 | ETA 00:00:11\n",
      "Time 00:00:20 | Step 12586 / 13000 | TPS 484.948 | ETA 00:00:00\n",
      "Time 00:00:21 | Step 13000 / 13000 | TPS 486.437 | ETA 00:00:00\n",
      "Average TPS: 479.507\n",
      "---------\n",
      "-- Neighborlist stats:\n",
      "652 normal updates / 100 forced updates / 0 dangerous updates\n",
      "n_neigh_min: 26 / n_neigh_max: 43 / n_neigh_avg: 31.5\n",
      "shortest rebuild period: 10\n",
      "-- Cell list stats:\n",
      "Dimension: 2, 2, 1\n",
      "n_min    : 10 / n_max: 25 / n_avg: 16\n",
      "** run complete **\n",
      "notice(2): Sending exit signal.\n",
      "notice(2): Shutting down TF Manually.\n",
      "notice(2): TF Queue is waiting, sending None\n",
      "INFO:tensorflow:Empty Queue\n",
      "INFO:tensorflow:Received exit. Leaving TF Update Loop. \n",
      "INFO:tensorflow:TF Update runningtime is 19.126654506660998\n",
      "INFO:tensorflow:TF Feed Processingtime is 0.3204958848655224\n",
      "INFO:tensorflow:TF Total Time(excluding communication) is 19.44715039152652\n"
     ]
    }
   ],
   "source": [
    "#### Hoomd-Sim code ####\n",
    "\n",
    "make_eds2D_graph(64, 100, 4.0, 4.5)\n",
    "\n",
    "hoomd.context.initialize(\"--mode=cpu\")\n",
    "with htf.tfcompute('my_model2', device='CPU:0') as tfcompute:\n",
    "    #cut off radius: must be less than the box size\n",
    "    rcut = 6.0 \n",
    "    #initialize the lattice\n",
    "    system = hoomd.init.create_lattice(unitcell=hoomd.lattice.sq(a=2.0),n=[8, 8]) \n",
    "    hoomd.md.update.enforce2d()\n",
    "    nlist = hoomd.md.nlist.cell(check_period=1)\n",
    "    #enable lj pair potential\n",
    "    lj = hoomd.md.pair.lj(rcut, nlist) \n",
    "    #set lj coefficients\n",
    "    lj.pair_coeff.set('A', 'A', epsilon=1.0, sigma=1.0) \n",
    "    hoomd.md.integrate.mode_standard(dt=0.005)\n",
    "    \n",
    "    # set up NVT simulation\n",
    "    hoomd.md.integrate.nvt(kT=1.0, tau=0.5,group=hoomd.group.all()) \n",
    "    \n",
    "    #equilibrate\n",
    "    hoomd.run(3000)\n",
    "\n",
    "    #simulation                  \n",
    "    tfcompute.attach(nlist, r_cut=rcut,)\n",
    "    hoomd.run(10000)\n"
   ]
  },
  {
   "cell_type": "code",
   "execution_count": null,
   "metadata": {},
   "outputs": [],
   "source": []
  }
 ],
 "metadata": {
  "kernelspec": {
   "display_name": "Python 3",
   "language": "python",
   "name": "python3"
  },
  "language_info": {
   "codemirror_mode": {
    "name": "ipython",
    "version": 3
   },
   "file_extension": ".py",
   "mimetype": "text/x-python",
   "name": "python",
   "nbconvert_exporter": "python",
   "pygments_lexer": "ipython3",
   "version": "3.7.6"
  }
 },
 "nbformat": 4,
 "nbformat_minor": 4
}
