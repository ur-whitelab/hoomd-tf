{
 "cells": [
  {
   "cell_type": "markdown",
   "metadata": {},
   "source": [
    "# 01. Quickstart"
   ]
  },
  {
   "cell_type": "code",
   "execution_count": 1,
   "metadata": {},
   "outputs": [],
   "source": [
    "# disable GPU. Remove this if you've compiled HOOMD for GPU\n",
    "import os\n",
    "os.environ['CUDA_VISIBLE_DEVICES'] = '-1'\n",
    "\n",
    "# import the hoomd, htf packages\n",
    "import hoomd\n",
    "import hoomd.htf as htf\n",
    "import tensorflow as tf"
   ]
  },
  {
   "cell_type": "markdown",
   "metadata": {},
   "source": [
    "## Build the SimModel\n",
    "\n",
    "We prepare the computations that will be executed at each step during the simulation. We can have access to the neighbor list, positions, types, box dimensions of the simulation, but here we only use the neighbor list. Here we define a piece-wise repulsive potential, compute an RDF, and use the auto-differentiation tool to compute forces. "
   ]
  },
  {
   "cell_type": "code",
   "execution_count": 2,
   "metadata": {},
   "outputs": [],
   "source": [
    "class WCAPotential(htf.SimModel):\n",
    "    def setup(self):\n",
    "        self.avg_rdf = tf.keras.metrics.MeanTensor()\n",
    "    def compute(self, nlist):\n",
    "        # Use Weeks-Chandler-Anderson (WCA) repulisve potential\n",
    "        r12 = htf.nlist_rinv(nlist)**12 # nlist_rinv is neighbor 1 / r^12\n",
    "        # make it so anything above 2^1/6 is 0\n",
    "        r = tf.norm(nlist[:,:,:3], axis=2)\n",
    "        pair_energy = tf.cast(r < 2**(1/6), tf.float32) * r12\n",
    "        particle_energy = tf.reduce_sum(pair_energy, axis=1) # sum over neighbors        \n",
    "        forces = htf.compute_nlist_forces(nlist, particle_energy)\n",
    "        # compute rdf\n",
    "        inst_rdf = htf.compute_rdf(nlist, [0, 3.5])\n",
    "        self.avg_rdf.update_state(inst_rdf)\n",
    "        return forces"
   ]
  },
  {
   "cell_type": "markdown",
   "metadata": {},
   "source": [
    "## Running the simulation\n",
    "\n",
    "Now we run the simulation using the usual hoomd-blue syntax. We can specify things like how often the model is called, how often it is saved, etc. in the `attach` command. This simulation is 144 particles in 2D, whose forces are the ones we defined above. "
   ]
  },
  {
   "cell_type": "code",
   "execution_count": 3,
   "metadata": {},
   "outputs": [
    {
     "name": "stdout",
     "output_type": "stream",
     "text": [
      "HOOMD-blue 2.5.2 DOUBLE HPMC_MIXED TBB SSE SSE2 SSE3 \n",
      "Compiled: 04/30/2019\n",
      "Copyright (c) 2009-2019 The Regents of the University of Michigan.\n",
      "-----\n",
      "You are using HOOMD-blue. Please cite the following:\n",
      "* J A Anderson, C D Lorenz, and A Travesset. \"General purpose molecular dynamics\n",
      "  simulations fully implemented on graphics processing units\", Journal of\n",
      "  Computational Physics 227 (2008) 5342--5359\n",
      "* J Glaser, T D Nguyen, J A Anderson, P Liu, F Spiga, J A Millan, D C Morse, and\n",
      "  S C Glotzer. \"Strong scaling of general-purpose molecular dynamics simulations\n",
      "  on GPUs\", Computer Physics Communications 192 (2015) 97--107\n",
      "-----\n",
      "HOOMD-blue is running on the CPU\n",
      "notice(2): Group \"all\" created containing 256 particles\n",
      "notice(2): Force mode is FORCE_MODE.tf2hoomd \n",
      "notice(2): Starting TensorflowCompute \n",
      "notice(2): completed reallocate\n",
      "notice(2): Setting flag indicating virial modification will occur\n",
      "notice(2): -- Neighborlist exclusion statistics -- :\n",
      "notice(2): Particles with 0 exclusions             : 256\n",
      "notice(2): Neighbors included by diameter          : no\n",
      "notice(2): Neighbors excluded when in the same body: no\n",
      "** starting run **\n",
      "Time 00:00:03 | Step 1000 / 1000 | TPS 290.852 | ETA 00:00:00\n",
      "Average TPS: 290.807\n",
      "---------\n",
      "-- Neighborlist stats:\n",
      "53 normal updates / 10 forced updates / 0 dangerous updates\n",
      "n_neigh_min: 58 / n_neigh_max: 68 / n_neigh_avg: 62.7969\n",
      "shortest rebuild period: 13\n",
      "-- Cell list stats:\n",
      "Dimension: 3, 3, 1\n",
      "n_min    : 27 / n_max: 31 / n_avg: 28.4444\n",
      "** run complete **\n",
      "** starting run **\n",
      "Time 00:00:05 | Step 2000 / 2000 | TPS 488.064 | ETA 00:00:00\n",
      "Average TPS: 487.919\n",
      "---------\n",
      "-- Neighborlist stats:\n",
      "52 normal updates / 10 forced updates / 0 dangerous updates\n",
      "n_neigh_min: 58 / n_neigh_max: 66 / n_neigh_avg: 62.5703\n",
      "shortest rebuild period: 14\n",
      "-- Cell list stats:\n",
      "Dimension: 3, 3, 1\n",
      "n_min    : 26 / n_max: 32 / n_avg: 28.4444\n",
      "** run complete **\n"
     ]
    }
   ],
   "source": [
    "########### Hoomd-Sim Code ################\n",
    "hoomd.context.initialize('--mode=cpu')\n",
    "# this will start TensorFlow, so it goes\n",
    "# in a with statement for clean exit.\n",
    "#\n",
    "# if calling initialize() without params, \n",
    "# it will be throw error of using unexpected parameter 'f'\n",
    "# ref: https://github.com/glotzerlab/hoomd-blue/blob/master/hoomd/context.py#L204\n",
    "\n",
    "L = 16\n",
    "N = L * L\n",
    "model = WCAPotential(64)\n",
    "tfcompute = htf.tfcompute(model)\n",
    "\n",
    "# create a square lattice\n",
    "system = hoomd.init.create_lattice(unitcell=hoomd.lattice.sq(a=1.2),\n",
    "                                    n=[L,L])\n",
    "nlist = hoomd.md.nlist.cell()\n",
    "# NVT ensemble with starting temperature of 1\n",
    "hoomd.md.integrate.mode_standard(dt=0.005)\n",
    "hoomd.md.integrate.nvt(group=hoomd.group.all(), kT=0.5, tau=0.5).randomize_velocities(seed=1)\n",
    "tfcompute.attach(nlist, r_cut=5)\n",
    "#equilibrate\n",
    "hoomd.run(1000)\n",
    "# reset rdf statistics\n",
    "model.avg_rdf.reset_states()\n",
    "hoomd.run(1000)"
   ]
  },
  {
   "cell_type": "markdown",
   "metadata": {},
   "source": [
    "## Analysis\n",
    "\n",
    "Now we'll plot RDF"
   ]
  },
  {
   "cell_type": "code",
   "execution_count": 4,
   "metadata": {},
   "outputs": [
    {
     "data": {
      "text/plain": [
       "[<matplotlib.lines.Line2D at 0x7fc860081690>]"
      ]
     },
     "execution_count": 4,
     "metadata": {},
     "output_type": "execute_result"
    },
    {
     "data": {
      "image/png": "[encoded data removed]",
      "text/plain": [
       "<Figure size 432x288 with 1 Axes>"
      ]
     },
     "metadata": {
      "needs_background": "light"
     },
     "output_type": "display_data"
    }
   ],
   "source": [
    "import matplotlib.pyplot as plt\n",
    "import numpy as np \n",
    "\n",
    "rdf = model.avg_rdf.result().numpy()\n",
    "plt.plot(rdf[1, :], rdf[0, :] / rdf[0,-1])"
   ]
  },
  {
   "cell_type": "markdown",
   "metadata": {},
   "source": [
    "We can also examine the final positions"
   ]
  },
  {
   "cell_type": "code",
   "execution_count": 5,
   "metadata": {},
   "outputs": [
    {
     "data": {
      "text/plain": [
       "[<matplotlib.lines.Line2D at 0x7fc86004fc90>]"
      ]
     },
     "execution_count": 5,
     "metadata": {},
     "output_type": "execute_result"
    },
    {
     "data": {
      "image/png": "[encoded data removed]",
      "text/plain": [
       "<Figure size 432x288 with 1 Axes>"
      ]
     },
     "metadata": {
      "needs_background": "light"
     },
     "output_type": "display_data"
    }
   ],
   "source": [
    "pos = tfcompute.get_positions_array()\n",
    "plt.plot(pos[:,0], pos[:,1], '.')"
   ]
  }
 ],
 "metadata": {
  "kernelspec": {
   "display_name": "Python 3",
   "language": "python",
   "name": "python3"
  },
  "language_info": {
   "codemirror_mode": {
    "name": "ipython",
    "version": 3
   },
   "file_extension": ".py",
   "mimetype": "text/x-python",
   "name": "python",
   "nbconvert_exporter": "python",
   "pygments_lexer": "ipython3",
   "version": "3.7.8"
  }
 },
 "nbformat": 4,
 "nbformat_minor": 2
}