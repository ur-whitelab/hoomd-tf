{
 "cells": [
  {
   "cell_type": "markdown",
   "metadata": {},
   "source": [
    "# 01. Quickstart"
   ]
  },
  {
   "cell_type": "markdown",
   "metadata": {},
   "source": [
    "This is tested on Python 3.6 on Ubuntu 18.04, using tensorflow 1.12. Code is based on https://github.com/ur-whitelab/hoomd-tf#quickstart-tutorial"
   ]
  },
  {
   "cell_type": "code",
   "execution_count": 1,
   "metadata": {},
   "outputs": [],
   "source": [
    "# (Optional) This block is to surpress the warning on loading tensorflow package\n",
    "import warnings\n",
    "warnings.filterwarnings('ignore')"
   ]
  },
  {
   "cell_type": "code",
   "execution_count": 2,
   "metadata": {},
   "outputs": [],
   "source": [
    "import hoomd\n",
    "import hoomd.htf as htf\n",
    "import tensorflow as tf"
   ]
  },
  {
   "cell_type": "code",
   "execution_count": 3,
   "metadata": {},
   "outputs": [
    {
     "name": "stdout",
     "output_type": "stream",
     "text": [
      "Note: Backed-up my_model previous model to my_model/previous_model_5\n"
     ]
    }
   ],
   "source": [
    "########### Graph Building Code ###########\n",
    "graph = htf.graph_builder(64) # max neighbors = 64\n",
    "pair_energy = graph.nlist_rinv # nlist_rinv is neighbor 1 / r\n",
    "particle_energy = tf.reduce_sum(pair_energy, axis=1) # sum over neighbors\n",
    "forces = graph.compute_forces(particle_energy) # compute forces\n",
    "graph.save('my_model', forces)"
   ]
  },
  {
   "cell_type": "code",
   "execution_count": 4,
   "metadata": {},
   "outputs": [
    {
     "name": "stdout",
     "output_type": "stream",
     "text": [
      "HOOMD-blue v2.5.1 DOUBLE HPMC_MIXED SSE SSE2 \n",
      "Compiled: 10/11/2019\n",
      "Copyright (c) 2009-2019 The Regents of the University of Michigan.\n",
      "-----\n",
      "You are using HOOMD-blue. Please cite the following:\n",
      "* J A Anderson, C D Lorenz, and A Travesset. \"General purpose molecular dynamics\n",
      "  simulations fully implemented on graphics processing units\", Journal of\n",
      "  Computational Physics 227 (2008) 5342--5359\n",
      "* J Glaser, T D Nguyen, J A Anderson, P Liu, F Spiga, J A Millan, D C Morse, and\n",
      "  S C Glotzer. \"Strong scaling of general-purpose molecular dynamics simulations\n",
      "  on GPUs\", Computer Physics Communications 192 (2015) 97--107\n",
      "-----\n",
      "HOOMD-blue is running on the CPU\n",
      "notice(2): Started TF Session Manager.\n",
      "notice(2): Group \"all\" created containing 9 particles\n",
      "notice(2): Force mode is FORCE_MODE.tf2hoomd \n",
      "notice(2): Starting TensorflowCompute \n",
      "notice(2): completed reallocate\n",
      "notice(2): Setting flag indicating virial modification will occur\n",
      "INFO:tensorflow:The following quantities will computed:\n",
      "INFO:tensorflow:\tname period batch\n",
      "INFO:tensorflow:\t AssignAdd:0 1 None\n",
      "notice(2): TF Session Manager has released control. Starting HOOMD updates\n",
      "notice(2): -- Neighborlist exclusion statistics -- :\n",
      "notice(2): Particles with 0 exclusions             : 9\n",
      "notice(2): Neighbors included by diameter          : no\n",
      "notice(2): Neighbors excluded when in the same body: no\n",
      "** starting run **\n",
      "Time 00:00:01 | Step 1000 / 1000 | TPS 1032.02 | ETA 00:00:00\n",
      "Average TPS: 1031.52\n",
      "---------\n",
      "-- Neighborlist stats:\n",
      "0 normal updates / 10 forced updates / 0 dangerous updates\n",
      "n_neigh_min: 0 / n_neigh_max: 0 / n_neigh_avg: 0\n",
      "shortest rebuild period: 100\n",
      "-- Cell list stats:\n",
      "Dimension: 3, 3, 1\n",
      "n_min    : 1 / n_max: 1 / n_avg: 1\n",
      "** run complete **\n",
      "notice(2): Sending exit signal.\n",
      "notice(2): Shutting down TF Manually.\n",
      "notice(2): TF Queue is waiting, sending None\n",
      "INFO:tensorflow:Empty Queue\n",
      "INFO:tensorflow:Received exit. Leaving TF Update Loop. \n",
      "INFO:tensorflow:TF Update runningtime is 0.8589509229950636\n",
      "INFO:tensorflow:TF Feed Processingtime is 0.02828128801411367\n",
      "INFO:tensorflow:TF Total Time(excluding communication) is 0.8872322110091773\n"
     ]
    }
   ],
   "source": [
    "########### Hoomd-Sim Code ################\n",
    "hoomd.context.initialize(\"--mode=cpu\")\n",
    "# this will start TensorFlow, so it goes\n",
    "# in a with statement for clean exit.\n",
    "#\n",
    "# if calling initialize() without params, \n",
    "# it will be throw error of using unexpected parameter 'f'\n",
    "# ref: https://github.com/glotzerlab/hoomd-blue/blob/master/hoomd/context.py#L204\n",
    "with htf.tfcompute('my_model') as tfcompute:\n",
    "    # create a square lattice\n",
    "    rcut = 3.0\n",
    "    system = hoomd.init.create_lattice(unitcell=hoomd.lattice.sq(a=4.0),\n",
    "                                        n=[3,3])\n",
    "    nlist = hoomd.md.nlist.cell()\n",
    "    hoomd.md.integrate.mode_standard(dt=0.005)\n",
    "    hoomd.md.integrate.nve(group=hoomd.group.all())\n",
    "    tfcompute.attach(nlist, r_cut=rcut)\n",
    "    hoomd.run(1e3)"
   ]
  },
  {
   "cell_type": "code",
   "execution_count": null,
   "metadata": {},
   "outputs": [],
   "source": []
  }
 ],
 "metadata": {
  "kernelspec": {
   "display_name": "Python 3",
   "language": "python",
   "name": "python3"
  },
  "language_info": {
   "codemirror_mode": {
    "name": "ipython",
    "version": 3
   },
   "file_extension": ".py",
   "mimetype": "text/x-python",
   "name": "python",
   "nbconvert_exporter": "python",
   "pygments_lexer": "ipython3",
   "version": "3.7.6"
  }
 },
 "nbformat": 4,
 "nbformat_minor": 2
}
