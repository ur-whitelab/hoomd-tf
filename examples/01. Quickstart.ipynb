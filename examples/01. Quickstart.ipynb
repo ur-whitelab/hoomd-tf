{
 "cells": [
  {
   "cell_type": "markdown",
   "metadata": {},
   "source": [
    "# 01. Quickstart"
   ]
  },
  {
   "cell_type": "markdown",
   "metadata": {},
   "source": [
    "This is tested on Python 3.6 on Ubuntu 18.04, using tensorflow 1.15."
   ]
  },
  {
   "cell_type": "markdown",
   "metadata": {},
   "source": [
    "### (Optional) Reduce Logging\n",
    "\n",
    "TF and HOOMD-TF print a lot of information. We'll turn it down the make the output of cells a little easier to read."
   ]
  },
  {
   "cell_type": "code",
   "execution_count": 1,
   "metadata": {},
   "outputs": [],
   "source": [
    "# (Optional) This block is to surpress the warning on loading tensorflow package\n",
    "import tensorflow as tf\n",
    "tf.get_logger().setLevel('ERROR')"
   ]
  },
  {
   "cell_type": "code",
   "execution_count": 2,
   "metadata": {},
   "outputs": [],
   "source": [
    "# import the hoomd, htf packages\n",
    "import hoomd\n",
    "import hoomd.htf as htf\n",
    "import tensorflow as tf"
   ]
  },
  {
   "cell_type": "markdown",
   "metadata": {},
   "source": [
    "## Build the computational graph\n",
    "\n",
    "Here we prepare the computations that will be executed at each step during the simulation. We have access to placeholders for the neighbor list, positions, types, box dimensions of the simulation. Here we define a simple 1 / r potential, save its energy, and use the auto-differentiation tool to compute forces. "
   ]
  },
  {
   "cell_type": "code",
   "execution_count": 3,
   "metadata": {},
   "outputs": [],
   "source": [
    "########### Graph Building Code ###########\n",
    "graph = htf.graph_builder(8, output_forces=True) # max neighbors = 8\n",
    "pair_energy = graph.nlist_rinv # nlist_rinv is neighbor 1 / r\n",
    "particle_energy = tf.reduce_sum(pair_energy, axis=1) # sum over neighbors\n",
    "forces = graph.compute_forces(particle_energy) # compute forces\n",
    "graph.save_tensor(particle_energy, name='energy')\n",
    "graph.save('my_model', forces)"
   ]
  },
  {
   "cell_type": "markdown",
   "metadata": {},
   "source": [
    "## Running the simulation\n",
    "\n",
    "Now we run the simulation using the usual hoomd-blue syntax. Notice that we load our model, whch was written to a file in the above cell. We can specify things like how often the model is called, how often it is saved, etc. in the `attach` command. This simulation is 144 particles in 2D, whose forces are the ones we defined above. "
   ]
  },
  {
   "cell_type": "code",
   "execution_count": 4,
   "metadata": {},
   "outputs": [
    {
     "name": "stdout",
     "output_type": "stream",
     "text": [
      "HOOMD-blue v2.5.1 DOUBLE HPMC_MIXED SSE SSE2 \n",
      "Compiled: 03/04/2020\n",
      "Copyright (c) 2009-2019 The Regents of the University of Michigan.\n",
      "-----\n",
      "You are using HOOMD-blue. Please cite the following:\n",
      "* J A Anderson, C D Lorenz, and A Travesset. \"General purpose molecular dynamics\n",
      "  simulations fully implemented on graphics processing units\", Journal of\n",
      "  Computational Physics 227 (2008) 5342--5359\n",
      "* J Glaser, T D Nguyen, J A Anderson, P Liu, F Spiga, J A Millan, D C Morse, and\n",
      "  S C Glotzer. \"Strong scaling of general-purpose molecular dynamics simulations\n",
      "  on GPUs\", Computer Physics Communications 192 (2015) 97--107\n",
      "-----\n",
      "HOOMD-blue is running on the CPU\n",
      "notice(2): Started TF Session Manager.\n",
      "notice(2): Group \"all\" created containing 144 particles\n",
      "notice(2): Force mode is FORCE_MODE.tf2hoomd \n",
      "notice(2): Starting TensorflowCompute \n",
      "notice(2): completed reallocate\n",
      "notice(2): Setting flag indicating virial modification will occur\n",
      "notice(2): TF Session Manager has released control. Starting HOOMD updates\n",
      "notice(2): -- Neighborlist exclusion statistics -- :\n",
      "notice(2): Particles with 0 exclusions             : 144\n",
      "notice(2): Neighbors included by diameter          : no\n",
      "notice(2): Neighbors excluded when in the same body: no\n",
      "** starting run **\n",
      "Time 00:00:03 | Step 100 / 100 | TPS 93.4933 | ETA 00:00:00\n",
      "Average TPS: 93.4441\n",
      "---------\n",
      "-- Neighborlist stats:\n",
      "2 normal updates / 1 forced updates / 0 dangerous updates\n",
      "n_neigh_min: 86 / n_neigh_max: 98 / n_neigh_avg: 91.6667\n",
      "shortest rebuild period: 26\n",
      "-- Cell list stats:\n",
      "Dimension: 2, 2, 1\n",
      "n_min    : 36 / n_max: 36 / n_avg: 36\n",
      "** run complete **\n",
      "notice(2): Sending exit signal.\n",
      "notice(2): Shutting down TF Manually.\n",
      "notice(2): TF Queue is waiting, sending None\n"
     ]
    }
   ],
   "source": [
    "########### Hoomd-Sim Code ################\n",
    "hoomd.context.initialize(\"--mode=cpu\")\n",
    "# this will start TensorFlow, so it goes\n",
    "# in a with statement for clean exit.\n",
    "#\n",
    "# if calling initialize() without params, \n",
    "# it will be throw error of using unexpected parameter 'f'\n",
    "# ref: https://github.com/glotzerlab/hoomd-blue/blob/master/hoomd/context.py#L204\n",
    "with htf.tfcompute('my_model') as tfcompute:\n",
    "    # create a square lattice\n",
    "    rcut = 5\n",
    "    system = hoomd.init.create_lattice(unitcell=hoomd.lattice.sq(a=1.0),\n",
    "                                        n=[12,12])\n",
    "    nlist = hoomd.md.nlist.cell()\n",
    "    hoomd.md.integrate.mode_standard(dt=0.005)\n",
    "    hoomd.md.integrate.nve(group=hoomd.group.all())\n",
    "    tfcompute.attach(nlist, r_cut=rcut, save_period=10)\n",
    "    hoomd.run(100)"
   ]
  },
  {
   "cell_type": "markdown",
   "metadata": {},
   "source": [
    "## Analysis\n",
    "\n",
    "Now we'll load our variable, which was saved every 10 steps, and plot it."
   ]
  },
  {
   "cell_type": "code",
   "execution_count": 5,
   "metadata": {},
   "outputs": [
    {
     "data": {
      "image/png": "[encoded data removed]",
      "text/plain": [
       "<Figure size 432x288 with 1 Axes>"
      ]
     },
     "metadata": {
      "needs_background": "light"
     },
     "output_type": "display_data"
    }
   ],
   "source": [
    "import matplotlib.pyplot as plt\n",
    "import numpy as np \n",
    "\n",
    "sys_energy = []\n",
    "# we saved every 10 steps\n",
    "for i in range(0, 100, 10):\n",
    "    variables = htf.load_variables('my_model', ['energy'], i)\n",
    "    # sum energy across particles\n",
    "    sys_energy.append(np.sum(variables['energy']))\n",
    "plt.plot(range(0,100, 10), sys_energy)\n",
    "plt.ylabel('Energy')\n",
    "plt.xlabel('Time Step')\n",
    "plt.show()"
   ]
  }
 ],
 "metadata": {
  "kernelspec": {
   "display_name": "Python 3",
   "language": "python",
   "name": "python3"
  },
  "language_info": {
   "codemirror_mode": {
    "name": "ipython",
    "version": 3
   },
   "file_extension": ".py",
   "mimetype": "text/x-python",
   "name": "python",
   "nbconvert_exporter": "python",
   "pygments_lexer": "ipython3",
   "version": "3.7.6"
  }
 },
 "nbformat": 4,
 "nbformat_minor": 2
}
