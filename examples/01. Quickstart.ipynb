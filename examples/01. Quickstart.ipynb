{
 "cells": [
  {
   "cell_type": "markdown",
   "metadata": {},
   "source": [
    "# 01. Quickstart"
   ]
  },
  {
   "cell_type": "markdown",
   "metadata": {},
   "source": [
    "This is tested on Python 3.6 on Ubuntu 18.04, using tensorflow 1.12. Code is based on https://github.com/ur-whitelab/hoomd-tf#quickstart-tutorial"
   ]
  },
  {
   "cell_type": "code",
   "execution_count": 1,
   "metadata": {},
   "outputs": [],
   "source": [
    "# (Optional) This block is to surpress the warning on loading tensorflow package\n",
    "import warnings\n",
    "warnings.filterwarnings('ignore')"
   ]
  },
  {
   "cell_type": "code",
   "execution_count": 2,
   "metadata": {},
   "outputs": [],
   "source": [
    "import hoomd\n",
    "import hoomd.htf as htf\n",
    "import tensorflow as tf"
   ]
  },
  {
   "cell_type": "code",
   "execution_count": 3,
   "metadata": {},
   "outputs": [
    {
     "name": "stdout",
     "output_type": "stream",
     "text": [
      "WARNING:tensorflow:From /home/hgandhi/.conda/envs/hoomd-tf/lib/python3.7/site-packages/hoomd/htf/graphbuilder.py:25: The name tf.reset_default_graph is deprecated. Please use tf.compat.v1.reset_default_graph instead.\n",
      "\n",
      "WARNING:tensorflow:From /home/hgandhi/.conda/envs/hoomd-tf/lib/python3.7/site-packages/hoomd/htf/graphbuilder.py:28: The name tf.placeholder is deprecated. Please use tf.compat.v1.placeholder instead.\n",
      "\n",
      "WARNING:tensorflow:From /home/hgandhi/.conda/envs/hoomd-tf/lib/python3.7/site-packages/hoomd/htf/graphbuilder.py:49: The name tf.get_variable is deprecated. Please use tf.compat.v1.get_variable instead.\n",
      "\n",
      "WARNING:tensorflow:From /home/hgandhi/.conda/envs/hoomd-tf/lib/python3.7/site-packages/hoomd/htf/graphbuilder.py:464: where (from tensorflow.python.ops.array_ops) is deprecated and will be removed in a future version.\n",
      "Instructions for updating:\n",
      "Use tf.where in 2.0, which has the same broadcast rule as np.where\n",
      "WARNING:tensorflow:From /home/hgandhi/.conda/envs/hoomd-tf/lib/python3.7/site-packages/hoomd/htf/graphbuilder.py:353: The name tf.is_finite is deprecated. Please use tf.math.is_finite instead.\n",
      "\n",
      "WARNING:tensorflow:From /home/hgandhi/.conda/envs/hoomd-tf/lib/python3.7/site-packages/hoomd/htf/graphbuilder.py:560: The name tf.train.export_meta_graph is deprecated. Please use tf.compat.v1.train.export_meta_graph instead.\n",
      "\n"
     ]
    }
   ],
   "source": [
    "########### Graph Building Code ###########\n",
    "graph = htf.graph_builder(8, output_forces=True) # max neighbors = 64\n",
    "pair_energy = graph.nlist_rinv # nlist_rinv is neighbor 1 / r\n",
    "particle_energy = tf.reduce_sum(pair_energy, axis=1) # sum over neighbors\n",
    "forces = graph.compute_forces(particle_energy) # compute forces\n",
    "rdf = graph.compute_rdf([3, 5], 'rdf', 20, 0, 0) # compute RDF\n",
    "graph.save_tensor(rdf, name='rdf-00')\n",
    "avg_rdf = graph.running_mean(rdf, 'avg-rdf') \n",
    "graph.save('my_model', forces)"
   ]
  },
  {
   "cell_type": "code",
   "execution_count": 4,
   "metadata": {},
   "outputs": [
    {
     "name": "stdout",
     "output_type": "stream",
     "text": [
      "HOOMD-blue v2.5.1 CUDA (10.0) SINGLE SSE SSE2 \n",
      "Compiled: 03/07/2020\n",
      "Copyright (c) 2009-2019 The Regents of the University of Michigan.\n",
      "-----\n",
      "You are using HOOMD-blue. Please cite the following:\n",
      "* J A Anderson, C D Lorenz, and A Travesset. \"General purpose molecular dynamics\n",
      "  simulations fully implemented on graphics processing units\", Journal of\n",
      "  Computational Physics 227 (2008) 5342--5359\n",
      "* J Glaser, T D Nguyen, J A Anderson, P Liu, F Spiga, J A Millan, D C Morse, and\n",
      "  S C Glotzer. \"Strong scaling of general-purpose molecular dynamics simulations\n",
      "  on GPUs\", Computer Physics Communications 192 (2015) 97--107\n",
      "-----\n",
      "notice(2): NVIDIA driver not installed or is too old, ignoring any GPUs in the system.\n",
      "HOOMD-blue is running on the CPU\n",
      "notice(2): Started TF Session Manager.\n",
      "notice(2): Group \"all\" created containing 9 particles\n",
      "notice(2): Force mode is FORCE_MODE.tf2hoomd \n",
      "notice(2): Starting TensorflowCompute \n",
      "notice(2): completed reallocate\n",
      "notice(2): Setting flag indicating virial modification will occur\n",
      "WARNING:tensorflow:From /home/hgandhi/.conda/envs/hoomd-tf/lib/python3.7/site-packages/hoomd/htf/tfmanager.py:424: The name tf.train.import_meta_graph is deprecated. Please use tf.compat.v1.train.import_meta_graph instead.\n",
      "\n",
      "WARNING:tensorflow:From /home/hgandhi/.conda/envs/hoomd-tf/lib/python3.7/site-packages/hoomd/htf/tfmanager.py:439: The name tf.get_default_graph is deprecated. Please use tf.compat.v1.get_default_graph instead.\n",
      "\n",
      "INFO:tensorflow:The following quantities will computed:\n",
      "INFO:tensorflow:\tname period batch\n",
      "INFO:tensorflow:\t AssignAdd:0 1 None\n",
      "INFO:tensorflow:\t truediv_1:0 1 None\n",
      "INFO:tensorflow:\t rdf-r:0 1 None\n",
      "INFO:tensorflow:\t Assign:0 1 None\n",
      "INFO:tensorflow:\t avg-rdf-batch/Assign:0 1 None\n",
      "INFO:tensorflow:\t avg-rdf-batch/Assign_1:0 1 None\n",
      "INFO:tensorflow:\t avg-rdf-batch/AssignAdd:0 1 None\n",
      "WARNING:tensorflow:From /home/hgandhi/.conda/envs/hoomd-tf/lib/python3.7/site-packages/hoomd/htf/tfmanager.py:497: The name tf.GPUOptions is deprecated. Please use tf.compat.v1.GPUOptions instead.\n",
      "\n",
      "WARNING:tensorflow:From /home/hgandhi/.conda/envs/hoomd-tf/lib/python3.7/site-packages/hoomd/htf/tfmanager.py:498: The name tf.ConfigProto is deprecated. Please use tf.compat.v1.ConfigProto instead.\n",
      "\n",
      "WARNING:tensorflow:From /home/hgandhi/.conda/envs/hoomd-tf/lib/python3.7/site-packages/hoomd/htf/tfmanager.py:502: The name tf.Session is deprecated. Please use tf.compat.v1.Session instead.\n",
      "\n",
      "WARNING:tensorflow:From /home/hgandhi/.conda/envs/hoomd-tf/lib/python3.7/site-packages/hoomd/htf/tfmanager.py:504: The name tf.get_collection is deprecated. Please use tf.compat.v1.get_collection instead.\n",
      "\n",
      "WARNING:tensorflow:From /home/hgandhi/.conda/envs/hoomd-tf/lib/python3.7/site-packages/hoomd/htf/tfmanager.py:504: The name tf.GraphKeys is deprecated. Please use tf.compat.v1.GraphKeys instead.\n",
      "\n",
      "WARNING:tensorflow:From /home/hgandhi/.conda/envs/hoomd-tf/lib/python3.7/site-packages/hoomd/htf/tfmanager.py:507: The name tf.global_variables_initializer is deprecated. Please use tf.compat.v1.global_variables_initializer instead.\n",
      "\n",
      "WARNING:tensorflow:From /home/hgandhi/.conda/envs/hoomd-tf/lib/python3.7/site-packages/hoomd/htf/tfmanager.py:508: The name tf.local_variables_initializer is deprecated. Please use tf.compat.v1.local_variables_initializer instead.\n",
      "\n",
      "WARNING:tensorflow:From /home/hgandhi/.conda/envs/hoomd-tf/lib/python3.7/site-packages/hoomd/htf/tfmanager.py:510: The name tf.train.Saver is deprecated. Please use tf.compat.v1.train.Saver instead.\n",
      "\n",
      "notice(2): TF Session Manager has released control. Starting HOOMD updates\n",
      "notice(2): -- Neighborlist exclusion statistics -- :\n",
      "notice(2): Particles with 0 exclusions             : 9\n",
      "notice(2): Neighbors included by diameter          : no\n",
      "notice(2): Neighbors excluded when in the same body: no\n",
      "** starting run **\n",
      "Time 00:00:02 | Step 1000 / 1000 | TPS 528.83 | ETA 00:00:00\n",
      "Average TPS: 528.499\n",
      "---------\n",
      "-- Neighborlist stats:\n",
      "0 normal updates / 10 forced updates / 0 dangerous updates\n",
      "n_neigh_min: 4 / n_neigh_max: 4 / n_neigh_avg: 4\n",
      "shortest rebuild period: 100\n",
      "-- Cell list stats:\n",
      "Dimension: 2, 2, 1\n",
      "n_min    : 1 / n_max: 4 / n_avg: 2.25\n",
      "** run complete **\n",
      "notice(2): Sending exit signal.\n",
      "notice(2): Shutting down TF Manually.\n",
      "notice(2): TF Queue is waiting, sending None\n",
      "INFO:tensorflow:Empty Queue\n",
      "INFO:tensorflow:Received exit. Leaving TF Update Loop. \n",
      "INFO:tensorflow:TF Update runningtime is 1.7122548567131162\n",
      "INFO:tensorflow:TF Feed Processingtime is 0.05718963034451008\n",
      "INFO:tensorflow:TF Total Time(excluding communication) is 1.7694444870576262\n"
     ]
    }
   ],
   "source": [
    "########### Hoomd-Sim Code ################\n",
    "hoomd.context.initialize(\"--mode=cpu\")\n",
    "# this will start TensorFlow, so it goes\n",
    "# in a with statement for clean exit.\n",
    "#\n",
    "# if calling initialize() without params, \n",
    "# it will be throw error of using unexpected parameter 'f'\n",
    "# ref: https://github.com/glotzerlab/hoomd-blue/blob/master/hoomd/context.py#L204\n",
    "with htf.tfcompute('my_model') as tfcompute:\n",
    "    # create a square lattice\n",
    "    rcut = 5\n",
    "    system = hoomd.init.create_lattice(unitcell=hoomd.lattice.sq(a=4.0),\n",
    "                                        n=[3,3])\n",
    "    nlist = hoomd.md.nlist.cell()\n",
    "    hoomd.md.integrate.mode_standard(dt=0.005)\n",
    "    hoomd.md.integrate.nve(group=hoomd.group.all())\n",
    "    tfcompute.attach(nlist, r_cut=rcut)\n",
    "    hoomd.run(1e3)"
   ]
  },
  {
   "cell_type": "code",
   "execution_count": 6,
   "metadata": {},
   "outputs": [
    {
     "name": "stdout",
     "output_type": "stream",
     "text": [
      "INFO:tensorflow:Restoring parameters from my_model/model-1000\n"
     ]
    },
    {
     "data": {
      "image/png": "[encoded data removed]",
      "text/plain": [
       "<Figure size 432x288 with 1 Axes>"
      ]
     },
     "metadata": {
      "needs_background": "light"
     },
     "output_type": "display_data"
    }
   ],
   "source": [
    "import matplotlib.pyplot as plt\n",
    "import numpy as np \n",
    "\n",
    "r = np.linspace(3, 5, 20)\n",
    "variables = htf.load_variables('my_model', ['rdf-00', 'avg-rdf'])\n",
    "plt.plot(r, variables['rdf-00'])\n",
    "plt.show()"
   ]
  }
 ],
 "metadata": {
  "kernelspec": {
   "display_name": "Python 3",
   "language": "python",
   "name": "python3"
  },
  "language_info": {
   "codemirror_mode": {
    "name": "ipython",
    "version": 3
   },
   "file_extension": ".py",
   "mimetype": "text/x-python",
   "name": "python",
   "nbconvert_exporter": "python",
   "pygments_lexer": "ipython3",
   "version": "3.7.6"
  }
 },
 "nbformat": 4,
 "nbformat_minor": 2
}
