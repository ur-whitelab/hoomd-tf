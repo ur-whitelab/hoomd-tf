{
 "cells": [
  {
   "cell_type": "markdown",
   "metadata": {},
   "source": [
    "# 09. Computing coarse-grained molecular features\n",
    "\n",
    "This notebook shows how to compute pairwise ditances, angles and dihedrals between CG beads given a CG mapping. The CG mapping used in this example is generated from [DSGPM](https://github.com/rochesterxugroup/DSGPM) model. \n",
    "You must need MDAnalysis and NetworkX in your working environment to run this example. "
   ]
  },
  {
   "cell_type": "code",
   "execution_count": 1,
   "metadata": {},
   "outputs": [
    {
     "name": "stdout",
     "output_type": "stream",
     "text": [
      "2 Physical GPUs, 2 Logical GPUs\n"
     ]
    }
   ],
   "source": [
    "import hoomd\n",
    "import hoomd.htf as htf\n",
    "import tensorflow as tf\n",
    "import MDAnalysis as mda\n",
    "import numpy as np\n",
    "\n",
    "import os\n",
    "os.environ['CUDA_VISIBLE_DEVICES'] = '-1'\n",
    "import warnings\n",
    "warnings.filterwarnings('ignore')"
   ]
  },
  {
   "cell_type": "markdown",
   "metadata": {},
   "source": [
    "In this example we read from a trajectory file to compute coarse-grained (CG) bond distances, angles and dihedrals. Here, we use two MDAnalysis universes with and without hydrogens as the mapping model used to compute the CG mappings (DSGPM model) only maps heavy atoms of a given molecule. Hence, we have to add the missing hydrogen atoms to the corresponding CG beads. "
   ]
  },
  {
   "cell_type": "markdown",
   "metadata": {},
   "source": [
    "## Read frames from the trajectory"
   ]
  },
  {
   "cell_type": "code",
   "execution_count": 2,
   "metadata": {},
   "outputs": [],
   "source": [
    "universe = mda.Universe('ex9_segA.pdb','ex9_segA.trr')"
   ]
  },
  {
   "cell_type": "code",
   "execution_count": 3,
   "metadata": {},
   "outputs": [
    {
     "name": "stderr",
     "output_type": "stream",
     "text": [
      "100%|██████████| 801/801 [00:36<00:00, 21.85it/s] \n"
     ]
    }
   ],
   "source": [
    "avg_cgr = tf.keras.metrics.MeanTensor()\n",
    "avg_cga = tf.keras.metrics.MeanTensor()\n",
    "avg_cgd = tf.keras.metrics.MeanTensor()\n",
    "directory = os.getcwd()\n",
    "jfile = os.path.join(directory,'ex9_cgmap_segA.json')\n",
    "\n",
    "#mda universe without H's\n",
    "uxh = mda.Universe(os.path.join(directory,'ex9_segA_xH.pdb')) \n",
    "#mda universe with H's\n",
    "uh = mda.Universe(os.path.join(directory,'ex9_segA.pdb')) \n",
    "\n",
    "for inputs, ts in htf.iter_from_trajectory(16, universe, r_cut=10, start=400, end=700):\n",
    "    cg_fts = []\n",
    "    r_tensor = []\n",
    "    a_tensor = []\n",
    "    d_tensor = []\n",
    "    \n",
    "    box = inputs[2]\n",
    "    \n",
    "    #get CG bead indices that make bonds, angles, dihedrals and\n",
    "    #CG coordinates\n",
    "    cg_fts = htf.compute_cg_graph(DSGPM=True,infile=jfile,group_atoms=True,\n",
    "                                  u_no_H=uxh, u_H=uh)\n",
    "\n",
    "    for i in range(len(cg_fts[0])):\n",
    "        cg_r = htf.mol_bond_distance(CG = True, cg_positions = cg_fts[-1],\n",
    "                                     b1=cg_fts[0][i][0],b2=cg_fts[0][i][1],box=box)\n",
    "        r_tensor.append(cg_r)\n",
    "\n",
    "    for j in range(len(cg_fts[1])):       \n",
    "        cg_a = htf.mol_angle(CG= True, cg_positions=cg_fts[-1],\n",
    "                             b1=cg_fts[1][j][0],b2=cg_fts[1][j][1],b3=cg_fts[1][j][2],box=box)\n",
    "        a_tensor.append(cg_a)\n",
    "\n",
    "\n",
    "    for k in range(len(cg_fts[2])):\n",
    "        cg_d = htf.mol_dihedral(CG=True,cg_positions=cg_fts[-1],b1=cg_fts[2][k][0],\n",
    "                                b2=cg_fts[2][k][1],b3=cg_fts[2][k][2],b4=cg_fts[2][k][3],box=box)\n",
    "        d_tensor.append(cg_d)\n",
    "\n",
    "    avg_cgr.update_state(r_tensor)\n",
    "    avg_cga.update_state(a_tensor)\n",
    "    avg_cgd.update_state(d_tensor)\n",
    "        "
   ]
  },
  {
   "cell_type": "code",
   "execution_count": 5,
   "metadata": {},
   "outputs": [
    {
     "name": "stdout",
     "output_type": "stream",
     "text": [
      "CG pairwise distances: [ 5.4447026  1.1312699  6.837509   2.9382832  2.4656553  4.441705\n",
      "  3.1996844  4.215056   3.5845423  2.153629   7.9029675  3.8829584\n",
      "  6.7588925  6.4774585  2.2552955  4.924933  15.14331  ] \n",
      "\n",
      "CG angles: [ 57.068886  75.223785  83.65739  113.90877   30.891739  61.174538\n",
      "  40.556366  27.594133  50.535973 149.74693   46.743954  91.213806\n",
      "  44.42919  157.15253   45.61488  121.533    140.93065   90.678955\n",
      "  51.73324  156.72867 ] \n",
      "\n",
      "CG dihedral angles: [ 61.196335  177.25372     4.786071  111.41953   176.07283   133.15508\n",
      "  84.994835  135.76688   147.1387      4.834333  168.7405    124.28169\n",
      " 175.61646    21.146246  163.78929    32.634483    9.021207  175.17809\n",
      "  10.565365    7.1954155]\n"
     ]
    }
   ],
   "source": [
    "cgR = avg_cgr.result().numpy()\n",
    "cgD = avg_cgd.result().numpy()*180./np.pi\n",
    "cgA = avg_cga.result().numpy()*180./np.pi\n",
    "print('CG pairwise distances:',cgR,'\\n')\n",
    "print('CG angles:',cgA,'\\n')\n",
    "print('CG dihedral angles:',cgD)"
   ]
  },
  {
   "cell_type": "code",
   "execution_count": null,
   "metadata": {},
   "outputs": [],
   "source": []
  }
 ],
 "metadata": {
  "kernelspec": {
   "display_name": "Python (htf2)",
   "language": "python",
   "name": "htf2"
  },
  "language_info": {
   "codemirror_mode": {
    "name": "ipython",
    "version": 3
   },
   "file_extension": ".py",
   "mimetype": "text/x-python",
   "name": "python",
   "nbconvert_exporter": "python",
   "pygments_lexer": "ipython3",
   "version": "3.7.7"
  }
 },
 "nbformat": 4,
 "nbformat_minor": 4
}
