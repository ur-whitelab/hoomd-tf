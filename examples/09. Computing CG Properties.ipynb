{
 "cells": [
  {
   "cell_type": "markdown",
   "metadata": {},
   "source": [
    "# 09. Computing coarse-grained molecular features\n",
    "\n",
    "This notebook shows how to compute pairwise ditances, angles and dihedrals between CG beads given a CG mapping. The CG mapping used in this example is generated from [DSGPM](https://github.com/rochesterxugroup/DSGPM) model. \n",
    "You must need MDAnalysis and NetworkX in your working environment to run this example. "
   ]
  },
  {
   "cell_type": "code",
   "execution_count": 1,
   "metadata": {},
   "outputs": [
    {
     "name": "stdout",
     "output_type": "stream",
     "text": [
      "2 Physical GPUs, 2 Logical GPUs\n"
     ]
    }
   ],
   "source": [
    "import hoomd\n",
    "import hoomd.htf as htf\n",
    "import tensorflow as tf\n",
    "import MDAnalysis as mda\n",
    "import numpy as np\n",
    "# disable GPU\n",
    "import os\n",
    "os.environ['CUDA_VISIBLE_DEVICES'] = '-1'\n",
    "import warnings\n",
    "warnings.filterwarnings('ignore')"
   ]
  },
  {
   "cell_type": "markdown",
   "metadata": {},
   "source": [
    "## Building the model\n",
    "\n",
    "This model uses two MDAnalysis universes with and without hydrogens as the DSGPM model only maps heavy atoms of a given molecule. Hence, we have to add the missing hydrogen atoms to the corresponding CG beads. This model only reads from the trajectory and does not output any forces.    "
   ]
  },
  {
   "cell_type": "code",
   "execution_count": 2,
   "metadata": {},
   "outputs": [],
   "source": [
    "class CGModel(htf.SimModel):\n",
    "    \n",
    "    def setup(self):\n",
    "        self.avg_cgr = tf.keras.metrics.MeanTensor()\n",
    "        self.avg_cga = tf.keras.metrics.MeanTensor()\n",
    "        self.avg_cgd = tf.keras.metrics.MeanTensor()\n",
    "    \n",
    "    def compute(self):\n",
    "        cg_fts = []\n",
    "        r_tensor = []\n",
    "        a_tensor = []\n",
    "        d_tensor = []\n",
    "        \n",
    "        directory = os.getcwd()\n",
    "        filelist = [os.path.join(directory,f) for f in os.listdir(directory) \n",
    "                    if os.path.isfile(os.path.join(directory, f))]\n",
    "        \n",
    "        #mda universe without H's\n",
    "        u2 = mda.Universe(os.path.join(directory,'ex9_segA_xH.pdb'))\n",
    "        #mda universe with H's\n",
    "        u1 = mda.Universe(os.path.join(directory,'ex9_segA.pdb'))\n",
    "        \n",
    "        #get CG bead indices that make bonds, angles, dihedrals and\n",
    "        #CG coordinates\n",
    "        cg_fts = htf.compute_cg_graph(filelist,True,u2,u1)\n",
    "        \n",
    "        for i in range(len(cg_fts[0])):\n",
    "            cg_r = htf.mol_bond_distance(CG = True, cg_positions = cg_fts[-1],\n",
    "                                         b1=cg_fts[0][i][0],b2=cg_fts[0][i][1])\n",
    "            r_tensor.append(cg_r)\n",
    "        \n",
    "        for j in range(len(cg_fts[1])):       \n",
    "            cg_a = htf.mol_angle(CG= True, cg_positions=cg_fts[-1],\n",
    "                                 b1=cg_fts[1][j][0],b2=cg_fts[1][j][1],b3=cg_fts[1][j][2])\n",
    "            a_tensor.append(cg_a)\n",
    "        \n",
    "        \n",
    "        for k in range(len(cg_fts[2])):\n",
    "            cg_d = htf.mol_dihedral(CG=True,cg_positions=cg_fts[-1], \n",
    "                                    b1=cg_fts[2][k][0],b2=cg_fts[2][k][1],b3=cg_fts[2][k][2],b4=cg_fts[2][k][3])\n",
    "            d_tensor.append(cg_d)\n",
    "        \n",
    "        self.avg_cgr.update_state(r_tensor)\n",
    "        self.avg_cga.update_state(a_tensor)\n",
    "        self.avg_cgd.update_state(d_tensor)\n",
    "        \n",
    "        return cg_fts\n",
    "    \n",
    "cgmodel = CGModel(16,output_forces=False)"
   ]
  },
  {
   "cell_type": "markdown",
   "metadata": {},
   "source": [
    "## Read frames from the trajectory"
   ]
  },
  {
   "cell_type": "code",
   "execution_count": 3,
   "metadata": {},
   "outputs": [],
   "source": [
    "universe = mda.Universe('ex9_segA.pdb','ex9_segA.trr')"
   ]
  },
  {
   "cell_type": "code",
   "execution_count": 4,
   "metadata": {},
   "outputs": [
    {
     "name": "stdout",
     "output_type": "stream",
     "text": [
      "/gpfs/fs1/home/gwellawa/hoomd-tf/examples/ex9_cgmap_segA.json\n",
      "WARNING:tensorflow:Entity <function all_pairs_shortest_path_length at 0x7fd2e00545f0> appears to be a generator function. It will not be converted by AutoGraph.\n",
      "WARNING: Entity <function all_pairs_shortest_path_length at 0x7fd2e00545f0> appears to be a generator function. It will not be converted by AutoGraph.\n",
      "WARNING:tensorflow:Entity <function all_shortest_paths at 0x7fd2e004fa70> appears to be a generator function. It will not be converted by AutoGraph.\n",
      "WARNING: Entity <function all_shortest_paths at 0x7fd2e004fa70> appears to be a generator function. It will not be converted by AutoGraph.\n",
      "/gpfs/fs1/home/gwellawa/hoomd-tf/examples/ex9_cgmap_segA.json\n"
     ]
    }
   ],
   "source": [
    "for inputs, ts in htf.iter_from_trajectory(16, universe, r_cut=10):\n",
    "    result = cgmodel(inputs)"
   ]
  },
  {
   "cell_type": "code",
   "execution_count": 5,
   "metadata": {},
   "outputs": [
    {
     "name": "stdout",
     "output_type": "stream",
     "text": [
      "CG pairwise distances: [ 5.444767   1.1312735  6.8374457  2.9382575  2.4656727  4.441667\n",
      "  3.1997018  4.215074   3.5845394  2.1536508  7.9029527  3.8829803\n",
      "  6.7588325  6.4775     2.2552814  4.9249864 15.143307 ] \n",
      "\n",
      "CG angles: [ 57.06854   75.2243    83.65678  113.90824   30.891647  61.17423\n",
      "  40.556572  27.59399   50.535973 149.74559   46.74406   91.21443\n",
      "  44.42902  157.15245   45.615276 121.53178  140.93127   90.67872\n",
      "  51.73296  156.72931 ] \n",
      "\n",
      "CG dihedral angles: [ 61.195976 177.25414    4.78611  111.418495 176.0712   133.15433\n",
      "  84.99487  135.76794  147.14043    4.834293 168.74007  124.28044\n",
      " 175.61665   21.14613  163.78847   32.634525   9.021179 175.17896\n",
      "  10.56541    7.195493]\n"
     ]
    }
   ],
   "source": [
    "cgR = cgmodel.avg_cgr.result().numpy()\n",
    "cgD = cgmodel.avg_cgd.result().numpy()*180./np.pi\n",
    "cgA = cgmodel.avg_cga.result().numpy()*180./np.pi\n",
    "print('CG pairwise distances:',cgR,'\\n')\n",
    "print('CG angles:',cgA,'\\n')\n",
    "print('CG dihedral angles:',cgD)"
   ]
  },
  {
   "cell_type": "code",
   "execution_count": null,
   "metadata": {},
   "outputs": [],
   "source": []
  }
 ],
 "metadata": {
  "kernelspec": {
   "display_name": "Python (htf2)",
   "language": "python",
   "name": "htf2"
  },
  "language_info": {
   "codemirror_mode": {
    "name": "ipython",
    "version": 3
   },
   "file_extension": ".py",
   "mimetype": "text/x-python",
   "name": "python",
   "nbconvert_exporter": "python",
   "pygments_lexer": "ipython3",
   "version": "3.7.7"
  }
 },
 "nbformat": 4,
 "nbformat_minor": 4
}
