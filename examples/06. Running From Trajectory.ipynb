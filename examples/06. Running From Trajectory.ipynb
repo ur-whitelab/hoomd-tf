{
 "cells": [
  {
   "cell_type": "code",
   "execution_count": 1,
   "metadata": {},
   "outputs": [],
   "source": [
    "# (Optional) This block is to surpress the warning on loading tensorflow package\n",
    "import warnings\n",
    "warnings.filterwarnings('ignore')"
   ]
  },
  {
   "cell_type": "code",
   "execution_count": 2,
   "metadata": {},
   "outputs": [],
   "source": [
    "import hoomd\n",
    "import hoomd.htf as htf\n",
    "import tensorflow as tf\n",
    "import MDAnalysis as mda"
   ]
  },
  {
   "cell_type": "code",
   "execution_count": 3,
   "metadata": {},
   "outputs": [
    {
     "name": "stdout",
     "output_type": "stream",
     "text": [
      "WARNING:tensorflow:From /home/hgandhi/.conda/envs/hoomd-tf/lib/python3.7/site-packages/hoomd/htf/graphbuilder.py:25: The name tf.reset_default_graph is deprecated. Please use tf.compat.v1.reset_default_graph instead.\n",
      "\n",
      "WARNING:tensorflow:From /home/hgandhi/.conda/envs/hoomd-tf/lib/python3.7/site-packages/hoomd/htf/graphbuilder.py:28: The name tf.placeholder is deprecated. Please use tf.compat.v1.placeholder instead.\n",
      "\n",
      "WARNING:tensorflow:From /home/hgandhi/.conda/envs/hoomd-tf/lib/python3.7/site-packages/hoomd/htf/graphbuilder.py:49: The name tf.get_variable is deprecated. Please use tf.compat.v1.get_variable instead.\n",
      "\n",
      "WARNING:tensorflow:From /home/hgandhi/.conda/envs/hoomd-tf/lib/python3.7/site-packages/hoomd/htf/graphbuilder.py:464: where (from tensorflow.python.ops.array_ops) is deprecated and will be removed in a future version.\n",
      "Instructions for updating:\n",
      "Use tf.where in 2.0, which has the same broadcast rule as np.where\n",
      "WARNING:tensorflow:From /home/hgandhi/.conda/envs/hoomd-tf/lib/python3.7/site-packages/hoomd/htf/graphbuilder.py:353: The name tf.is_finite is deprecated. Please use tf.math.is_finite instead.\n",
      "\n",
      "Note: Backed-up traj_model previous model to traj_model/previous_model_0\n",
      "WARNING:tensorflow:From /home/hgandhi/.conda/envs/hoomd-tf/lib/python3.7/site-packages/hoomd/htf/graphbuilder.py:560: The name tf.train.export_meta_graph is deprecated. Please use tf.compat.v1.train.export_meta_graph instead.\n",
      "\n"
     ]
    }
   ],
   "source": [
    "graph = htf.graph_builder(128)\n",
    "nlist = graph.nlist[:, :, :3]\n",
    "r = tf.norm(nlist, axis=2)\n",
    "# compute 1 / r while safely treating r = 0.\n",
    "# pairwise energy. Double count -> divide by 2\n",
    "inv_r6 = graph.safe_div(1., r**6)\n",
    "p_energy = 4.0 / 2.0 * (inv_r6 * inv_r6 - inv_r6)\n",
    "# sum over pairwise energy\n",
    "energy = tf.reduce_sum(p_energy, axis=1)\n",
    "forces = graph.compute_forces(energy)\n",
    "avg_energy = graph.running_mean(tf.reduce_sum(energy, axis=0),\n",
    "                                'average-energy')\n",
    "graph.save(force_tensor=forces, model_directory='traj_model',\n",
    "           out_nodes=[avg_energy])"
   ]
  },
  {
   "cell_type": "code",
   "execution_count": 4,
   "metadata": {},
   "outputs": [],
   "source": [
    "universe = mda.Universe('test_topol.pdb', 'test_traj.trr')\n",
    "# load example graph that calculates average energy"
   ]
  },
  {
   "cell_type": "code",
   "execution_count": 5,
   "metadata": {},
   "outputs": [
    {
     "name": "stdout",
     "output_type": "stream",
     "text": [
      "WARNING:tensorflow:From /home/hgandhi/.conda/envs/hoomd-tf/lib/python3.7/site-packages/hoomd/htf/utils.py:321: The name tf.train.import_meta_graph is deprecated. Please use tf.compat.v1.train.import_meta_graph instead.\n",
      "\n",
      "WARNING:tensorflow:From /home/hgandhi/.conda/envs/hoomd-tf/lib/python3.7/site-packages/hoomd/htf/utils.py:326: The name tf.get_default_graph is deprecated. Please use tf.compat.v1.get_default_graph instead.\n",
      "\n",
      "WARNING:tensorflow:From /home/hgandhi/.conda/envs/hoomd-tf/lib/python3.7/site-packages/hoomd/htf/utils.py:328: The name tf.Session is deprecated. Please use tf.compat.v1.Session instead.\n",
      "\n",
      "WARNING:tensorflow:From /home/hgandhi/.conda/envs/hoomd-tf/lib/python3.7/site-packages/hoomd/htf/utils.py:329: The name tf.global_variables_initializer is deprecated. Please use tf.compat.v1.global_variables_initializer instead.\n",
      "\n",
      "WARNING:tensorflow:From /home/hgandhi/.conda/envs/hoomd-tf/lib/python3.7/site-packages/hoomd/htf/utils.py:330: The name tf.local_variables_initializer is deprecated. Please use tf.compat.v1.local_variables_initializer instead.\n",
      "\n",
      "WARNING:tensorflow:From /home/hgandhi/.conda/envs/hoomd-tf/lib/python3.7/site-packages/hoomd/htf/utils.py:331: The name tf.train.Saver is deprecated. Please use tf.compat.v1.train.Saver instead.\n",
      "\n",
      "WARNING:tensorflow:From /home/hgandhi/.local/lib/python3.7/site-packages/tensorflow_core/python/training/saver.py:963: remove_checkpoint (from tensorflow.python.training.checkpoint_management) is deprecated and will be removed in a future version.\n",
      "Instructions for updating:\n",
      "Use standard file APIs to delete files with this prefix.\n"
     ]
    }
   ],
   "source": [
    "htf.run_from_trajectory('traj_model', universe, period=1, r_cut=25.)"
   ]
  },
  {
   "cell_type": "code",
   "execution_count": 6,
   "metadata": {},
   "outputs": [
    {
     "name": "stdout",
     "output_type": "stream",
     "text": [
      "INFO:tensorflow:Restoring parameters from traj_model/model-5\n",
      "-29.727135\n"
     ]
    }
   ],
   "source": [
    "# get evaluated outnodes\n",
    "variables = hoomd.htf.load_variables('traj_model', ['average-energy'])\n",
    "print(variables['average-energy'])"
   ]
  }
 ],
 "metadata": {
  "kernelspec": {
   "display_name": "Python 3",
   "language": "python",
   "name": "python3"
  },
  "language_info": {
   "codemirror_mode": {
    "name": "ipython",
    "version": 3
   },
   "file_extension": ".py",
   "mimetype": "text/x-python",
   "name": "python",
   "nbconvert_exporter": "python",
   "pygments_lexer": "ipython3",
   "version": "3.7.6"
  }
 },
 "nbformat": 4,
 "nbformat_minor": 2
}
