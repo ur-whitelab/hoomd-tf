{
 "cells": [
  {
   "cell_type": "markdown",
   "metadata": {},
   "source": [
    "# 08. Force Matching "
   ]
  },
  {
   "cell_type": "markdown",
   "metadata": {},
   "source": [
    "## Building the model graph"
   ]
  },
  {
   "cell_type": "code",
   "execution_count": 1,
   "metadata": {},
   "outputs": [],
   "source": [
    "import hoomd, hoomd.htf as htf, hoomd.md\n",
    "import numpy as np\n",
    "import matplotlib.pyplot as plt\n",
    "import tensorflow as tf"
   ]
  },
  {
   "cell_type": "code",
   "execution_count": 2,
   "metadata": {
    "scrolled": true
   },
   "outputs": [
    {
     "name": "stdout",
     "output_type": "stream",
     "text": [
      "WARNING:tensorflow:From /home/hgandhi/.conda/envs/hoomd-tf/lib/python3.7/site-packages/hoomd/htf/graphbuilder.py:25: The name tf.reset_default_graph is deprecated. Please use tf.compat.v1.reset_default_graph instead.\n",
      "\n",
      "WARNING:tensorflow:From /home/hgandhi/.conda/envs/hoomd-tf/lib/python3.7/site-packages/hoomd/htf/graphbuilder.py:28: The name tf.placeholder is deprecated. Please use tf.compat.v1.placeholder instead.\n",
      "\n",
      "WARNING:tensorflow:From /home/hgandhi/.conda/envs/hoomd-tf/lib/python3.7/site-packages/hoomd/htf/graphbuilder.py:49: The name tf.get_variable is deprecated. Please use tf.compat.v1.get_variable instead.\n",
      "\n",
      "WARNING:tensorflow:From /home/hgandhi/.conda/envs/hoomd-tf/lib/python3.7/site-packages/hoomd/htf/graphbuilder.py:464: where (from tensorflow.python.ops.array_ops) is deprecated and will be removed in a future version.\n",
      "Instructions for updating:\n",
      "Use tf.where in 2.0, which has the same broadcast rule as np.where\n",
      "WARNING:tensorflow:From /home/hgandhi/.conda/envs/hoomd-tf/lib/python3.7/site-packages/hoomd/htf/graphbuilder.py:353: The name tf.is_finite is deprecated. Please use tf.math.is_finite instead.\n",
      "\n",
      "WARNING:tensorflow:From /home/hgandhi/.conda/envs/hoomd-tf/lib/python3.7/site-packages/hoomd/htf/utils.py:296: The name tf.losses.mean_squared_error is deprecated. Please use tf.compat.v1.losses.mean_squared_error instead.\n",
      "\n",
      "WARNING:tensorflow:From /home/hgandhi/.conda/envs/hoomd-tf/lib/python3.7/site-packages/hoomd/htf/utils.py:300: The name tf.train.AdamOptimizer is deprecated. Please use tf.compat.v1.train.AdamOptimizer instead.\n",
      "\n",
      "Note: Backed-up CG_tutorial/force_matching previous model to CG_tutorial/force_matching/previous_model_1\n",
      "WARNING:tensorflow:From /home/hgandhi/.conda/envs/hoomd-tf/lib/python3.7/site-packages/hoomd/htf/graphbuilder.py:560: The name tf.train.export_meta_graph is deprecated. Please use tf.compat.v1.train.export_meta_graph instead.\n",
      "\n"
     ]
    }
   ],
   "source": [
    "# Build the graph\n",
    "NN = 63\n",
    "graph = htf.graph_builder(NN, output_forces=False)\n",
    "# make trainable variables\n",
    "epsilon = tf.Variable(0.9, name='lj-epsilon', trainable=True)\n",
    "sigma = tf.Variable(1.1, name='lj-sigma', trainable=True)\n",
    "# get LJ potential using our variables\n",
    "# uses built in nlist_rinv which provides\n",
    "# r^-1 with each neighbor\n",
    "inv_r6 = sigma**6 * graph.nlist_rinv**6\n",
    "# use 2 * epsilon because nlist is double-counted\n",
    "p_energy = 2.0 * epsilon * (inv_r6**2 - inv_r6)\n",
    "# sum over pairs to get total energy\n",
    "energy = tf.reduce_sum(p_energy, axis=1, name='energy')\n",
    "# compute forces\n",
    "computed_forces = graph.compute_forces(energy)\n",
    "# compare hoomd-blue forces (graph.forces) with our \n",
    "# computed forces\n",
    "minimizer, loss = htf.force_matching(graph.forces[:,:3], \n",
    "                                     computed_forces[:,:3],\n",
    "                                     learning_rate=1e-2)\n",
    "# save loss so we can visualize later\n",
    "graph.save_tensor(loss, 'cost')\n",
    "# Make sure to have minimizer in out_nodes so that the force matching occurs!\n",
    "graph.save(model_directory='CG_tutorial/force_matching',\n",
    "           out_nodes=[minimizer])"
   ]
  },
  {
   "cell_type": "markdown",
   "metadata": {},
   "source": [
    "## Running the simulation"
   ]
  },
  {
   "cell_type": "code",
   "execution_count": 3,
   "metadata": {
    "scrolled": true
   },
   "outputs": [
    {
     "name": "stdout",
     "output_type": "stream",
     "text": [
      "HOOMD-blue v2.5.2 CUDA (10.0) DOUBLE HPMC_MIXED SSE SSE2 \n",
      "Compiled: 03/19/2020\n",
      "Copyright (c) 2009-2019 The Regents of the University of Michigan.\n",
      "-----\n",
      "You are using HOOMD-blue. Please cite the following:\n",
      "* J A Anderson, C D Lorenz, and A Travesset. \"General purpose molecular dynamics\n",
      "  simulations fully implemented on graphics processing units\", Journal of\n",
      "  Computational Physics 227 (2008) 5342--5359\n",
      "* J Glaser, T D Nguyen, J A Anderson, P Liu, F Spiga, J A Millan, D C Morse, and\n",
      "  S C Glotzer. \"Strong scaling of general-purpose molecular dynamics simulations\n",
      "  on GPUs\", Computer Physics Communications 192 (2015) 97--107\n",
      "-----\n",
      "HOOMD-blue is running on the CPU\n",
      "notice(2): Started TF Session Manager.\n",
      "notice(2): Group \"all\" created containing 16 particles\n",
      "notice(2): Force mode is FORCE_MODE.hoomd2tf \n",
      "notice(2): Starting TensorflowCompute \n",
      "notice(2): completed reallocate\n",
      "WARNING:tensorflow:From /home/hgandhi/.conda/envs/hoomd-tf/lib/python3.7/site-packages/hoomd/htf/tfmanager.py:424: The name tf.train.import_meta_graph is deprecated. Please use tf.compat.v1.train.import_meta_graph instead.\n",
      "\n",
      "INFO:tensorflow:The following quantities will computed:\n",
      "INFO:tensorflow:\tname period batch\n",
      "WARNING:tensorflow:From /home/hgandhi/.conda/envs/hoomd-tf/lib/python3.7/site-packages/hoomd/htf/tfmanager.py:158: The name tf.get_default_graph is deprecated. Please use tf.compat.v1.get_default_graph instead.\n",
      "\n",
      "INFO:tensorflow:\t Adam 1 None\n",
      "INFO:tensorflow:\t AssignAdd:0 1 None\n",
      "INFO:tensorflow:\t Assign:0 1 None\n",
      "WARNING:tensorflow:From /home/hgandhi/.conda/envs/hoomd-tf/lib/python3.7/site-packages/hoomd/htf/tfmanager.py:497: The name tf.GPUOptions is deprecated. Please use tf.compat.v1.GPUOptions instead.\n",
      "\n",
      "WARNING:tensorflow:From /home/hgandhi/.conda/envs/hoomd-tf/lib/python3.7/site-packages/hoomd/htf/tfmanager.py:498: The name tf.ConfigProto is deprecated. Please use tf.compat.v1.ConfigProto instead.\n",
      "\n",
      "WARNING:tensorflow:From /home/hgandhi/.conda/envs/hoomd-tf/lib/python3.7/site-packages/hoomd/htf/tfmanager.py:502: The name tf.Session is deprecated. Please use tf.compat.v1.Session instead.\n",
      "\n",
      "WARNING:tensorflow:From /home/hgandhi/.conda/envs/hoomd-tf/lib/python3.7/site-packages/hoomd/htf/tfmanager.py:504: The name tf.get_collection is deprecated. Please use tf.compat.v1.get_collection instead.\n",
      "\n",
      "WARNING:tensorflow:From /home/hgandhi/.conda/envs/hoomd-tf/lib/python3.7/site-packages/hoomd/htf/tfmanager.py:504: The name tf.GraphKeys is deprecated. Please use tf.compat.v1.GraphKeys instead.\n",
      "\n",
      "WARNING:tensorflow:From /home/hgandhi/.conda/envs/hoomd-tf/lib/python3.7/site-packages/hoomd/htf/tfmanager.py:507: The name tf.global_variables_initializer is deprecated. Please use tf.compat.v1.global_variables_initializer instead.\n",
      "\n",
      "WARNING:tensorflow:From /home/hgandhi/.conda/envs/hoomd-tf/lib/python3.7/site-packages/hoomd/htf/tfmanager.py:508: The name tf.local_variables_initializer is deprecated. Please use tf.compat.v1.local_variables_initializer instead.\n",
      "\n",
      "WARNING:tensorflow:From /home/hgandhi/.conda/envs/hoomd-tf/lib/python3.7/site-packages/hoomd/htf/tfmanager.py:510: The name tf.train.Saver is deprecated. Please use tf.compat.v1.train.Saver instead.\n",
      "\n",
      "notice(2): TF Session Manager has released control. Starting HOOMD updates\n",
      "notice(2): -- Neighborlist exclusion statistics -- :\n",
      "notice(2): Particles with 0 exclusions             : 16\n",
      "notice(2): Neighbors included by diameter          : no\n",
      "notice(2): Neighbors excluded when in the same body: no\n",
      "** starting run **\n",
      "Time 00:00:35 | Step 1000 / 1000 | TPS 100.806 | ETA 00:00:00\n",
      "Average TPS: 100.799\n",
      "---------\n",
      "-- Neighborlist stats:\n",
      "74 normal updates / 10 forced updates / 0 dangerous updates\n",
      "n_neigh_min: 10 / n_neigh_max: 14 / n_neigh_avg: 11.375\n",
      "shortest rebuild period: 11\n",
      "-- Cell list stats:\n",
      "Dimension: 2, 2, 1\n",
      "n_min    : 3 / n_max: 6 / n_avg: 4\n",
      "** run complete **\n",
      "notice(2): Sending exit signal.\n",
      "notice(2): Shutting down TF Manually.\n",
      "notice(2): TF Queue is waiting, sending None\n",
      "INFO:tensorflow:Empty Queue\n",
      "INFO:tensorflow:Received exit. Leaving TF Update Loop. \n",
      "INFO:tensorflow:TF Update runningtime is 9.784194480627775\n",
      "INFO:tensorflow:TF Feed Processingtime is 0.021693546324968338\n",
      "INFO:tensorflow:TF Total Time(excluding communication) is 9.805888026952744\n"
     ]
    }
   ],
   "source": [
    "# run the simulation\n",
    "model_dir = 'CG_tutorial/force_matching'\n",
    "hoomd.context.initialize('--mode=cpu')\n",
    "with hoomd.htf.tfcompute(model_dir) as tfcompute:\n",
    "    rcut = 7.5\n",
    "    system = hoomd.init.create_lattice(\n",
    "        unitcell=hoomd.lattice.sq(a=4.0),\n",
    "        n=[4,4])\n",
    "    nlist = hoomd.md.nlist.cell(check_period=1)\n",
    "    lj = hoomd.md.pair.lj(r_cut=rcut, nlist=nlist)\n",
    "    lj.pair_coeff.set('A', 'A', epsilon=1.0, sigma=1.0)\n",
    "    hoomd.md.integrate.mode_standard(dt=0.005)\n",
    "    hoomd.md.integrate.nve(group=hoomd.group.all(\n",
    "            )).randomize_velocities(kT=2, seed=2)\n",
    "    tfcompute.attach(nlist, r_cut=rcut, save_period=10)\n",
    "    hoomd.run(1e3)"
   ]
  },
  {
   "cell_type": "markdown",
   "metadata": {},
   "source": [
    "## Loading the trained variables and cost"
   ]
  },
  {
   "cell_type": "code",
   "execution_count": 4,
   "metadata": {
    "scrolled": true
   },
   "outputs": [
    {
     "name": "stdout",
     "output_type": "stream",
     "text": [
      "INFO:tensorflow:Restoring parameters from CG_tutorial/force_matching/model-0\n",
      "INFO:tensorflow:Restoring parameters from CG_tutorial/force_matching/model-10\n",
      "INFO:tensorflow:Restoring parameters from CG_tutorial/force_matching/model-20\n",
      "INFO:tensorflow:Restoring parameters from CG_tutorial/force_matching/model-30\n",
      "INFO:tensorflow:Restoring parameters from CG_tutorial/force_matching/model-40\n",
      "INFO:tensorflow:Restoring parameters from CG_tutorial/force_matching/model-50\n",
      "INFO:tensorflow:Restoring parameters from CG_tutorial/force_matching/model-60\n",
      "INFO:tensorflow:Restoring parameters from CG_tutorial/force_matching/model-70\n",
      "INFO:tensorflow:Restoring parameters from CG_tutorial/force_matching/model-80\n",
      "INFO:tensorflow:Restoring parameters from CG_tutorial/force_matching/model-90\n",
      "INFO:tensorflow:Restoring parameters from CG_tutorial/force_matching/model-100\n",
      "INFO:tensorflow:Restoring parameters from CG_tutorial/force_matching/model-110\n",
      "INFO:tensorflow:Restoring parameters from CG_tutorial/force_matching/model-120\n",
      "INFO:tensorflow:Restoring parameters from CG_tutorial/force_matching/model-130\n",
      "INFO:tensorflow:Restoring parameters from CG_tutorial/force_matching/model-140\n",
      "INFO:tensorflow:Restoring parameters from CG_tutorial/force_matching/model-150\n",
      "INFO:tensorflow:Restoring parameters from CG_tutorial/force_matching/model-160\n",
      "INFO:tensorflow:Restoring parameters from CG_tutorial/force_matching/model-170\n",
      "INFO:tensorflow:Restoring parameters from CG_tutorial/force_matching/model-180\n",
      "INFO:tensorflow:Restoring parameters from CG_tutorial/force_matching/model-190\n",
      "INFO:tensorflow:Restoring parameters from CG_tutorial/force_matching/model-200\n",
      "INFO:tensorflow:Restoring parameters from CG_tutorial/force_matching/model-210\n",
      "INFO:tensorflow:Restoring parameters from CG_tutorial/force_matching/model-220\n",
      "INFO:tensorflow:Restoring parameters from CG_tutorial/force_matching/model-230\n",
      "INFO:tensorflow:Restoring parameters from CG_tutorial/force_matching/model-240\n",
      "INFO:tensorflow:Restoring parameters from CG_tutorial/force_matching/model-250\n",
      "INFO:tensorflow:Restoring parameters from CG_tutorial/force_matching/model-260\n",
      "INFO:tensorflow:Restoring parameters from CG_tutorial/force_matching/model-270\n",
      "INFO:tensorflow:Restoring parameters from CG_tutorial/force_matching/model-280\n",
      "INFO:tensorflow:Restoring parameters from CG_tutorial/force_matching/model-290\n",
      "INFO:tensorflow:Restoring parameters from CG_tutorial/force_matching/model-300\n",
      "INFO:tensorflow:Restoring parameters from CG_tutorial/force_matching/model-310\n",
      "INFO:tensorflow:Restoring parameters from CG_tutorial/force_matching/model-320\n",
      "INFO:tensorflow:Restoring parameters from CG_tutorial/force_matching/model-330\n",
      "INFO:tensorflow:Restoring parameters from CG_tutorial/force_matching/model-340\n",
      "INFO:tensorflow:Restoring parameters from CG_tutorial/force_matching/model-350\n",
      "INFO:tensorflow:Restoring parameters from CG_tutorial/force_matching/model-360\n",
      "INFO:tensorflow:Restoring parameters from CG_tutorial/force_matching/model-370\n",
      "INFO:tensorflow:Restoring parameters from CG_tutorial/force_matching/model-380\n",
      "INFO:tensorflow:Restoring parameters from CG_tutorial/force_matching/model-390\n",
      "INFO:tensorflow:Restoring parameters from CG_tutorial/force_matching/model-400\n",
      "INFO:tensorflow:Restoring parameters from CG_tutorial/force_matching/model-410\n",
      "INFO:tensorflow:Restoring parameters from CG_tutorial/force_matching/model-420\n",
      "INFO:tensorflow:Restoring parameters from CG_tutorial/force_matching/model-430\n",
      "INFO:tensorflow:Restoring parameters from CG_tutorial/force_matching/model-440\n",
      "INFO:tensorflow:Restoring parameters from CG_tutorial/force_matching/model-450\n",
      "INFO:tensorflow:Restoring parameters from CG_tutorial/force_matching/model-460\n",
      "INFO:tensorflow:Restoring parameters from CG_tutorial/force_matching/model-470\n",
      "INFO:tensorflow:Restoring parameters from CG_tutorial/force_matching/model-480\n",
      "INFO:tensorflow:Restoring parameters from CG_tutorial/force_matching/model-490\n",
      "INFO:tensorflow:Restoring parameters from CG_tutorial/force_matching/model-500\n",
      "INFO:tensorflow:Restoring parameters from CG_tutorial/force_matching/model-510\n",
      "INFO:tensorflow:Restoring parameters from CG_tutorial/force_matching/model-520\n",
      "INFO:tensorflow:Restoring parameters from CG_tutorial/force_matching/model-530\n",
      "INFO:tensorflow:Restoring parameters from CG_tutorial/force_matching/model-540\n",
      "INFO:tensorflow:Restoring parameters from CG_tutorial/force_matching/model-550\n",
      "INFO:tensorflow:Restoring parameters from CG_tutorial/force_matching/model-560\n",
      "INFO:tensorflow:Restoring parameters from CG_tutorial/force_matching/model-570\n",
      "INFO:tensorflow:Restoring parameters from CG_tutorial/force_matching/model-580\n",
      "INFO:tensorflow:Restoring parameters from CG_tutorial/force_matching/model-590\n",
      "INFO:tensorflow:Restoring parameters from CG_tutorial/force_matching/model-600\n",
      "INFO:tensorflow:Restoring parameters from CG_tutorial/force_matching/model-610\n",
      "INFO:tensorflow:Restoring parameters from CG_tutorial/force_matching/model-620\n",
      "INFO:tensorflow:Restoring parameters from CG_tutorial/force_matching/model-630\n",
      "INFO:tensorflow:Restoring parameters from CG_tutorial/force_matching/model-640\n",
      "INFO:tensorflow:Restoring parameters from CG_tutorial/force_matching/model-650\n",
      "INFO:tensorflow:Restoring parameters from CG_tutorial/force_matching/model-660\n",
      "INFO:tensorflow:Restoring parameters from CG_tutorial/force_matching/model-670\n",
      "INFO:tensorflow:Restoring parameters from CG_tutorial/force_matching/model-680\n",
      "INFO:tensorflow:Restoring parameters from CG_tutorial/force_matching/model-690\n",
      "INFO:tensorflow:Restoring parameters from CG_tutorial/force_matching/model-700\n",
      "INFO:tensorflow:Restoring parameters from CG_tutorial/force_matching/model-710\n",
      "INFO:tensorflow:Restoring parameters from CG_tutorial/force_matching/model-720\n",
      "INFO:tensorflow:Restoring parameters from CG_tutorial/force_matching/model-730\n",
      "INFO:tensorflow:Restoring parameters from CG_tutorial/force_matching/model-740\n",
      "INFO:tensorflow:Restoring parameters from CG_tutorial/force_matching/model-750\n",
      "INFO:tensorflow:Restoring parameters from CG_tutorial/force_matching/model-760\n",
      "INFO:tensorflow:Restoring parameters from CG_tutorial/force_matching/model-770\n",
      "INFO:tensorflow:Restoring parameters from CG_tutorial/force_matching/model-780\n",
      "INFO:tensorflow:Restoring parameters from CG_tutorial/force_matching/model-790\n",
      "INFO:tensorflow:Restoring parameters from CG_tutorial/force_matching/model-800\n",
      "INFO:tensorflow:Restoring parameters from CG_tutorial/force_matching/model-810\n",
      "INFO:tensorflow:Restoring parameters from CG_tutorial/force_matching/model-820\n",
      "INFO:tensorflow:Restoring parameters from CG_tutorial/force_matching/model-830\n",
      "INFO:tensorflow:Restoring parameters from CG_tutorial/force_matching/model-840\n",
      "INFO:tensorflow:Restoring parameters from CG_tutorial/force_matching/model-850\n",
      "INFO:tensorflow:Restoring parameters from CG_tutorial/force_matching/model-860\n",
      "INFO:tensorflow:Restoring parameters from CG_tutorial/force_matching/model-870\n",
      "INFO:tensorflow:Restoring parameters from CG_tutorial/force_matching/model-880\n",
      "INFO:tensorflow:Restoring parameters from CG_tutorial/force_matching/model-890\n",
      "INFO:tensorflow:Restoring parameters from CG_tutorial/force_matching/model-900\n",
      "INFO:tensorflow:Restoring parameters from CG_tutorial/force_matching/model-910\n",
      "INFO:tensorflow:Restoring parameters from CG_tutorial/force_matching/model-920\n",
      "INFO:tensorflow:Restoring parameters from CG_tutorial/force_matching/model-930\n",
      "INFO:tensorflow:Restoring parameters from CG_tutorial/force_matching/model-940\n",
      "INFO:tensorflow:Restoring parameters from CG_tutorial/force_matching/model-950\n",
      "INFO:tensorflow:Restoring parameters from CG_tutorial/force_matching/model-960\n",
      "INFO:tensorflow:Restoring parameters from CG_tutorial/force_matching/model-970\n",
      "INFO:tensorflow:Restoring parameters from CG_tutorial/force_matching/model-980\n",
      "INFO:tensorflow:Restoring parameters from CG_tutorial/force_matching/model-990\n"
     ]
    }
   ],
   "source": [
    "time = np.arange(0, 1e3, 10)\n",
    "cost = np.empty(len(time))\n",
    "epsilon = np.empty(len(time))\n",
    "sigma = np.empty(len(time))\n",
    "for i, t in enumerate(time):\n",
    "    variables = hoomd.htf.load_variables(model_dir, names = ['cost', 'lj-epsilon', 'lj-sigma'], checkpoint = int(t))\n",
    "    cost[i] = variables['cost']\n",
    "    epsilon[i] = variables['lj-epsilon']\n",
    "    sigma[i] = variables['lj-sigma']"
   ]
  },
  {
   "cell_type": "markdown",
   "metadata": {},
   "source": [
    "## Plotting training progress"
   ]
  },
  {
   "cell_type": "code",
   "execution_count": 5,
   "metadata": {},
   "outputs": [
    {
     "data": {
      "image/png": "[encoded data removed]",
      "text/plain": [
       "<Figure size 432x288 with 1 Axes>"
      ]
     },
     "metadata": {
      "needs_background": "light"
     },
     "output_type": "display_data"
    },
    {
     "data": {
      "image/png": "[encoded data removed]",
      "text/plain": [
       "<Figure size 432x288 with 1 Axes>"
      ]
     },
     "metadata": {
      "needs_background": "light"
     },
     "output_type": "display_data"
    }
   ],
   "source": [
    "plt.figure()\n",
    "plt.plot(time, cost) #, label = 'cost')\n",
    "plt.xlabel('timestep')\n",
    "plt.ylabel('cost')\n",
    "plt.show()\n",
    "\n",
    "plt.figure()\n",
    "plt.plot(time, epsilon, label = 'epsilon')\n",
    "plt.plot(time, sigma, label = 'sigma')\n",
    "plt.legend()\n",
    "plt.show()"
   ]
  },
  {
   "cell_type": "markdown",
   "metadata": {},
   "source": [
    "## Plotting the potential"
   ]
  },
  {
   "cell_type": "code",
   "execution_count": 6,
   "metadata": {},
   "outputs": [
    {
     "name": "stdout",
     "output_type": "stream",
     "text": [
      "INFO:tensorflow:Restoring parameters from CG_tutorial/force_matching/model-0\n",
      "INFO:tensorflow:Restoring parameters from CG_tutorial/force_matching/model-999\n"
     ]
    }
   ],
   "source": [
    "r = np.linspace(0.2, 4, 1000)\n",
    "start_pot = hoomd.htf.compute_pairwise_potential(model_dir, r, 'energy', checkpoint=0)\n",
    "end_pot = hoomd.htf.compute_pairwise_potential(model_dir, r, 'energy', checkpoint=-1)\n",
    "true_pot = 2 * (r**-12 - r**-6)"
   ]
  },
  {
   "cell_type": "code",
   "execution_count": 7,
   "metadata": {},
   "outputs": [
    {
     "data": {
      "image/png": "[encoded data removed]",
      "text/plain": [
       "<Figure size 576x432 with 1 Axes>"
      ]
     },
     "metadata": {
      "needs_background": "light"
     },
     "output_type": "display_data"
    }
   ],
   "source": [
    "plt.figure(figsize=(8,6))\n",
    "plt.plot(r, start_pot[0], label='start')\n",
    "plt.plot(r, end_pot[0], label='final')\n",
    "plt.plot(r, true_pot, label='true', linestyle=':')\n",
    "plt.legend()\n",
    "plt.ylim(-1,2)\n",
    "plt.show()"
   ]
  }
 ],
 "metadata": {
  "kernelspec": {
   "display_name": "Python 3",
   "language": "python",
   "name": "python3"
  },
  "language_info": {
   "codemirror_mode": {
    "name": "ipython",
    "version": 3
   },
   "file_extension": ".py",
   "mimetype": "text/x-python",
   "name": "python",
   "nbconvert_exporter": "python",
   "pygments_lexer": "ipython3",
   "version": "3.7.6"
  }
 },
 "nbformat": 4,
 "nbformat_minor": 2
}
