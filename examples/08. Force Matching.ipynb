{
 "cells": [
  {
   "cell_type": "markdown",
   "metadata": {},
   "source": [
    "# 08. Force Matching "
   ]
  },
  {
   "cell_type": "markdown",
   "metadata": {},
   "source": [
    "## Building the model graph"
   ]
  },
  {
   "cell_type": "code",
   "execution_count": 15,
   "metadata": {},
   "outputs": [],
   "source": [
    "import hoomd, hoomd.htf as htf, hoomd.md\n",
    "import numpy as np\n",
    "import matplotlib.pyplot as plt\n",
    "import tensorflow as tf\n",
    "import math"
   ]
  },
  {
   "cell_type": "code",
   "execution_count": 16,
   "metadata": {
    "scrolled": true
   },
   "outputs": [
    {
     "name": "stdout",
     "output_type": "stream",
     "text": [
      "Note: Backed-up CG_tutorial/force_matching previous model to CG_tutorial/force_matching/previous_model_6\n"
     ]
    }
   ],
   "source": [
    "# Build the graph\n",
    "N = 16\n",
    "NN = N - 1\n",
    "true_sigma = 1.0\n",
    "true_epsilon = 1.0\n",
    "graph = htf.graph_builder(NN, output_forces=False)\n",
    "# make trainable variables\n",
    "epsilon = tf.Variable(0.9, name='lj-epsilon')#, trainable=True)\n",
    "sigma = tf.Variable(1.1, name='lj-sigma')#, trainable=True)\n",
    "# get LJ potential using our variables\n",
    "# uses built in nlist_rinv which provides\n",
    "# r^-1 with each neighbor\n",
    "inv_r6 = sigma**6 * graph.nlist_rinv**6\n",
    "# use 2 * epsilon because nlist is double-counted\n",
    "p_energy = 4.0 / 2.0 * epsilon * (inv_r6**2 - inv_r6)\n",
    "# sum over pairs to get total energy\n",
    "energy = tf.reduce_sum(p_energy, axis=1, name='energy')\n",
    "# compute forces\n",
    "computed_forces = graph.compute_forces(energy)\n",
    "# compare hoomd-blue forces (graph.forces) with our \n",
    "# computed forces\n",
    "minimizer, loss = htf.force_matching(graph.forces[:,:3], \n",
    "                                     computed_forces[:,:3])\n",
    "# save loss so we can visualize later\n",
    "graph.save_tensor(loss, 'loss')\n",
    "# Make sure to have minimizer in out_nodes so that the force matching occurs!\n",
    "graph.save(model_directory='CG_tutorial/force_matching',\n",
    "           out_nodes=[minimizer])"
   ]
  },
  {
   "cell_type": "markdown",
   "metadata": {},
   "source": [
    "## Running the simulation"
   ]
  },
  {
   "cell_type": "code",
   "execution_count": 17,
   "metadata": {
    "scrolled": true
   },
   "outputs": [
    {
     "name": "stdout",
     "output_type": "stream",
     "text": [
      "notice(2): Started TF Session Manager.\n",
      "notice(2): Group \"all\" created containing 16 particles\n",
      "notice(2): Force mode is FORCE_MODE.hoomd2tf \n",
      "notice(2): Starting TensorflowCompute \n",
      "notice(2): completed reallocate\n",
      "INFO:tensorflow:The following quantities will computed:\n",
      "INFO:tensorflow:\tname period batch\n",
      "INFO:tensorflow:\t Adam 1 None\n",
      "INFO:tensorflow:\t AssignAdd:0 1 None\n",
      "INFO:tensorflow:\t Assign:0 1 None\n",
      "notice(2): TF Session Manager has released control. Starting HOOMD updates\n",
      "notice(2): -- Neighborlist exclusion statistics -- :\n",
      "notice(2): Particles with 0 exclusions             : 16\n",
      "notice(2): Neighbors included by diameter          : no\n",
      "notice(2): Neighbors excluded when in the same body: no\n",
      "** starting run **\n",
      "Time 00:00:06 | Step 1000 / 1000 | TPS 156.275 | ETA 00:00:00\n",
      "Average TPS: 156.245\n",
      "---------\n",
      "-- Neighborlist stats:\n",
      "74 normal updates / 10 forced updates / 0 dangerous updates\n",
      "n_neigh_min: 10 / n_neigh_max: 14 / n_neigh_avg: 11.375\n",
      "shortest rebuild period: 11\n",
      "-- Cell list stats:\n",
      "Dimension: 2, 2, 1\n",
      "n_min    : 3 / n_max: 6 / n_avg: 4\n",
      "** run complete **\n",
      "notice(2): Sending exit signal.\n",
      "notice(2): Shutting down TF Manually.\n",
      "notice(2): TF Queue is waiting, sending None\n",
      "INFO:tensorflow:Empty Queue\n",
      "INFO:tensorflow:Received exit. Leaving TF Update Loop. \n",
      "INFO:tensorflow:TF Update runningtime is 6.280558126047254\n",
      "INFO:tensorflow:TF Feed Processingtime is 0.023170826956629753\n",
      "INFO:tensorflow:TF Total Time(excluding communication) is 6.303728953003883\n"
     ]
    }
   ],
   "source": [
    "# run the simulation\n",
    "model_dir = 'CG_tutorial/force_matching'\n",
    "hoomd.context.initialize('--mode=cpu')\n",
    "with hoomd.htf.tfcompute(model_dir) as tfcompute:\n",
    "    rcut = 7.5\n",
    "    system = hoomd.init.create_lattice(\n",
    "        unitcell=hoomd.lattice.sq(a=4.0),\n",
    "        n=[int(math.sqrt(N)), int(math.sqrt(N))])\n",
    "    nlist = hoomd.md.nlist.cell(check_period=1)\n",
    "    lj = hoomd.md.pair.lj(r_cut=rcut, nlist=nlist)\n",
    "    lj.pair_coeff.set('A', 'A', epsilon=true_epsilon, sigma=true_sigma)\n",
    "    hoomd.md.integrate.mode_standard(dt=0.005)\n",
    "    hoomd.md.integrate.nve(group=hoomd.group.all(\n",
    "            )).randomize_velocities(kT=2, seed=2)\n",
    "    tfcompute.attach(nlist, r_cut=rcut, save_period=10)\n",
    "    hoomd.run(1e3)"
   ]
  },
  {
   "cell_type": "markdown",
   "metadata": {},
   "source": [
    "## Loading the trained variables and cost"
   ]
  },
  {
   "cell_type": "code",
   "execution_count": 18,
   "metadata": {
    "scrolled": true
   },
   "outputs": [
    {
     "name": "stdout",
     "output_type": "stream",
     "text": [
      "INFO:tensorflow:Restoring parameters from CG_tutorial/force_matching/model-0\n",
      "INFO:tensorflow:Restoring parameters from CG_tutorial/force_matching/model-10\n",
      "INFO:tensorflow:Restoring parameters from CG_tutorial/force_matching/model-20\n",
      "INFO:tensorflow:Restoring parameters from CG_tutorial/force_matching/model-30\n",
      "INFO:tensorflow:Restoring parameters from CG_tutorial/force_matching/model-40\n",
      "INFO:tensorflow:Restoring parameters from CG_tutorial/force_matching/model-50\n",
      "INFO:tensorflow:Restoring parameters from CG_tutorial/force_matching/model-60\n",
      "INFO:tensorflow:Restoring parameters from CG_tutorial/force_matching/model-70\n",
      "INFO:tensorflow:Restoring parameters from CG_tutorial/force_matching/model-80\n",
      "INFO:tensorflow:Restoring parameters from CG_tutorial/force_matching/model-90\n",
      "INFO:tensorflow:Restoring parameters from CG_tutorial/force_matching/model-100\n",
      "INFO:tensorflow:Restoring parameters from CG_tutorial/force_matching/model-110\n",
      "INFO:tensorflow:Restoring parameters from CG_tutorial/force_matching/model-120\n",
      "INFO:tensorflow:Restoring parameters from CG_tutorial/force_matching/model-130\n",
      "INFO:tensorflow:Restoring parameters from CG_tutorial/force_matching/model-140\n",
      "INFO:tensorflow:Restoring parameters from CG_tutorial/force_matching/model-150\n",
      "INFO:tensorflow:Restoring parameters from CG_tutorial/force_matching/model-160\n",
      "INFO:tensorflow:Restoring parameters from CG_tutorial/force_matching/model-170\n",
      "INFO:tensorflow:Restoring parameters from CG_tutorial/force_matching/model-180\n",
      "INFO:tensorflow:Restoring parameters from CG_tutorial/force_matching/model-190\n",
      "INFO:tensorflow:Restoring parameters from CG_tutorial/force_matching/model-200\n",
      "INFO:tensorflow:Restoring parameters from CG_tutorial/force_matching/model-210\n",
      "INFO:tensorflow:Restoring parameters from CG_tutorial/force_matching/model-220\n",
      "INFO:tensorflow:Restoring parameters from CG_tutorial/force_matching/model-230\n",
      "INFO:tensorflow:Restoring parameters from CG_tutorial/force_matching/model-240\n",
      "INFO:tensorflow:Restoring parameters from CG_tutorial/force_matching/model-250\n",
      "INFO:tensorflow:Restoring parameters from CG_tutorial/force_matching/model-260\n",
      "INFO:tensorflow:Restoring parameters from CG_tutorial/force_matching/model-270\n",
      "INFO:tensorflow:Restoring parameters from CG_tutorial/force_matching/model-280\n",
      "INFO:tensorflow:Restoring parameters from CG_tutorial/force_matching/model-290\n",
      "INFO:tensorflow:Restoring parameters from CG_tutorial/force_matching/model-300\n",
      "INFO:tensorflow:Restoring parameters from CG_tutorial/force_matching/model-310\n",
      "INFO:tensorflow:Restoring parameters from CG_tutorial/force_matching/model-320\n",
      "INFO:tensorflow:Restoring parameters from CG_tutorial/force_matching/model-330\n",
      "INFO:tensorflow:Restoring parameters from CG_tutorial/force_matching/model-340\n",
      "INFO:tensorflow:Restoring parameters from CG_tutorial/force_matching/model-350\n",
      "INFO:tensorflow:Restoring parameters from CG_tutorial/force_matching/model-360\n",
      "INFO:tensorflow:Restoring parameters from CG_tutorial/force_matching/model-370\n",
      "INFO:tensorflow:Restoring parameters from CG_tutorial/force_matching/model-380\n",
      "INFO:tensorflow:Restoring parameters from CG_tutorial/force_matching/model-390\n",
      "INFO:tensorflow:Restoring parameters from CG_tutorial/force_matching/model-400\n",
      "INFO:tensorflow:Restoring parameters from CG_tutorial/force_matching/model-410\n",
      "INFO:tensorflow:Restoring parameters from CG_tutorial/force_matching/model-420\n",
      "INFO:tensorflow:Restoring parameters from CG_tutorial/force_matching/model-430\n",
      "INFO:tensorflow:Restoring parameters from CG_tutorial/force_matching/model-440\n",
      "INFO:tensorflow:Restoring parameters from CG_tutorial/force_matching/model-450\n",
      "INFO:tensorflow:Restoring parameters from CG_tutorial/force_matching/model-460\n",
      "INFO:tensorflow:Restoring parameters from CG_tutorial/force_matching/model-470\n",
      "INFO:tensorflow:Restoring parameters from CG_tutorial/force_matching/model-480\n",
      "INFO:tensorflow:Restoring parameters from CG_tutorial/force_matching/model-490\n",
      "INFO:tensorflow:Restoring parameters from CG_tutorial/force_matching/model-500\n",
      "INFO:tensorflow:Restoring parameters from CG_tutorial/force_matching/model-510\n",
      "INFO:tensorflow:Restoring parameters from CG_tutorial/force_matching/model-520\n",
      "INFO:tensorflow:Restoring parameters from CG_tutorial/force_matching/model-530\n",
      "INFO:tensorflow:Restoring parameters from CG_tutorial/force_matching/model-540\n",
      "INFO:tensorflow:Restoring parameters from CG_tutorial/force_matching/model-550\n",
      "INFO:tensorflow:Restoring parameters from CG_tutorial/force_matching/model-560\n",
      "INFO:tensorflow:Restoring parameters from CG_tutorial/force_matching/model-570\n",
      "INFO:tensorflow:Restoring parameters from CG_tutorial/force_matching/model-580\n",
      "INFO:tensorflow:Restoring parameters from CG_tutorial/force_matching/model-590\n",
      "INFO:tensorflow:Restoring parameters from CG_tutorial/force_matching/model-600\n",
      "INFO:tensorflow:Restoring parameters from CG_tutorial/force_matching/model-610\n",
      "INFO:tensorflow:Restoring parameters from CG_tutorial/force_matching/model-620\n",
      "INFO:tensorflow:Restoring parameters from CG_tutorial/force_matching/model-630\n",
      "INFO:tensorflow:Restoring parameters from CG_tutorial/force_matching/model-640\n",
      "INFO:tensorflow:Restoring parameters from CG_tutorial/force_matching/model-650\n",
      "INFO:tensorflow:Restoring parameters from CG_tutorial/force_matching/model-660\n",
      "INFO:tensorflow:Restoring parameters from CG_tutorial/force_matching/model-670\n",
      "INFO:tensorflow:Restoring parameters from CG_tutorial/force_matching/model-680\n",
      "INFO:tensorflow:Restoring parameters from CG_tutorial/force_matching/model-690\n",
      "INFO:tensorflow:Restoring parameters from CG_tutorial/force_matching/model-700\n",
      "INFO:tensorflow:Restoring parameters from CG_tutorial/force_matching/model-710\n",
      "INFO:tensorflow:Restoring parameters from CG_tutorial/force_matching/model-720\n",
      "INFO:tensorflow:Restoring parameters from CG_tutorial/force_matching/model-730\n",
      "INFO:tensorflow:Restoring parameters from CG_tutorial/force_matching/model-740\n",
      "INFO:tensorflow:Restoring parameters from CG_tutorial/force_matching/model-750\n",
      "INFO:tensorflow:Restoring parameters from CG_tutorial/force_matching/model-760\n",
      "INFO:tensorflow:Restoring parameters from CG_tutorial/force_matching/model-770\n",
      "INFO:tensorflow:Restoring parameters from CG_tutorial/force_matching/model-780\n",
      "INFO:tensorflow:Restoring parameters from CG_tutorial/force_matching/model-790\n",
      "INFO:tensorflow:Restoring parameters from CG_tutorial/force_matching/model-800\n",
      "INFO:tensorflow:Restoring parameters from CG_tutorial/force_matching/model-810\n",
      "INFO:tensorflow:Restoring parameters from CG_tutorial/force_matching/model-820\n",
      "INFO:tensorflow:Restoring parameters from CG_tutorial/force_matching/model-830\n",
      "INFO:tensorflow:Restoring parameters from CG_tutorial/force_matching/model-840\n",
      "INFO:tensorflow:Restoring parameters from CG_tutorial/force_matching/model-850\n",
      "INFO:tensorflow:Restoring parameters from CG_tutorial/force_matching/model-860\n",
      "INFO:tensorflow:Restoring parameters from CG_tutorial/force_matching/model-870\n",
      "INFO:tensorflow:Restoring parameters from CG_tutorial/force_matching/model-880\n",
      "INFO:tensorflow:Restoring parameters from CG_tutorial/force_matching/model-890\n",
      "INFO:tensorflow:Restoring parameters from CG_tutorial/force_matching/model-900\n",
      "INFO:tensorflow:Restoring parameters from CG_tutorial/force_matching/model-910\n",
      "INFO:tensorflow:Restoring parameters from CG_tutorial/force_matching/model-920\n",
      "INFO:tensorflow:Restoring parameters from CG_tutorial/force_matching/model-930\n",
      "INFO:tensorflow:Restoring parameters from CG_tutorial/force_matching/model-940\n",
      "INFO:tensorflow:Restoring parameters from CG_tutorial/force_matching/model-950\n",
      "INFO:tensorflow:Restoring parameters from CG_tutorial/force_matching/model-960\n",
      "INFO:tensorflow:Restoring parameters from CG_tutorial/force_matching/model-970\n",
      "INFO:tensorflow:Restoring parameters from CG_tutorial/force_matching/model-980\n",
      "INFO:tensorflow:Restoring parameters from CG_tutorial/force_matching/model-990\n"
     ]
    }
   ],
   "source": [
    "time = np.arange(0, 1e3, 10)\n",
    "cost = np.empty(len(time))\n",
    "epsilon = np.empty(len(time))\n",
    "sigma = np.empty(len(time))\n",
    "for i, t in enumerate(time):\n",
    "    variables = hoomd.htf.load_variables(model_dir, names = ['loss', 'lj-epsilon', 'lj-sigma'], \n",
    "                                         checkpoint = int(t))\n",
    "    cost[i] = variables['loss']\n",
    "    epsilon[i] = variables['lj-epsilon']\n",
    "    sigma[i] = variables['lj-sigma']"
   ]
  },
  {
   "cell_type": "markdown",
   "metadata": {},
   "source": [
    "## Plotting training progress"
   ]
  },
  {
   "cell_type": "code",
   "execution_count": 20,
   "metadata": {},
   "outputs": [
    {
     "data": {
      "image/png": "[encoded data removed]",
      "text/plain": [
       "<Figure size 432x288 with 1 Axes>"
      ]
     },
     "metadata": {
      "needs_background": "light"
     },
     "output_type": "display_data"
    },
    {
     "data": {
      "image/png": "[encoded data removed]",
      "text/plain": [
       "<Figure size 432x288 with 1 Axes>"
      ]
     },
     "metadata": {
      "needs_background": "light"
     },
     "output_type": "display_data"
    }
   ],
   "source": [
    "plt.figure()\n",
    "plt.plot(time, cost) #, label = 'cost')\n",
    "plt.xlabel('timestep')\n",
    "plt.ylabel('loss')\n",
    "plt.show()\n",
    "\n",
    "plt.figure()\n",
    "plt.plot(time, epsilon, label = 'epsilon')\n",
    "plt.plot(time, sigma, label = 'sigma')\n",
    "plt.legend()\n",
    "plt.show()"
   ]
  },
  {
   "cell_type": "markdown",
   "metadata": {},
   "source": [
    "## Plotting the potential"
   ]
  },
  {
   "cell_type": "code",
   "execution_count": 21,
   "metadata": {},
   "outputs": [
    {
     "name": "stdout",
     "output_type": "stream",
     "text": [
      "INFO:tensorflow:Restoring parameters from CG_tutorial/force_matching/model-0\n",
      "INFO:tensorflow:Restoring parameters from CG_tutorial/force_matching/model-999\n"
     ]
    }
   ],
   "source": [
    "r = np.linspace(0.2, 4, 1000)\n",
    "start_pot = hoomd.htf.compute_pairwise_potential(model_dir, r, 'energy', checkpoint=0)\n",
    "end_pot = hoomd.htf.compute_pairwise_potential(model_dir, r, 'energy', checkpoint=-1)\n",
    "true_pot = 2 * (r**-12 - r**-6)"
   ]
  },
  {
   "cell_type": "code",
   "execution_count": 22,
   "metadata": {},
   "outputs": [
    {
     "data": {
      "image/png": "[encoded data removed]",
      "text/plain": [
       "<Figure size 576x432 with 1 Axes>"
      ]
     },
     "metadata": {
      "needs_background": "light"
     },
     "output_type": "display_data"
    }
   ],
   "source": [
    "plt.figure(figsize=(8,6))\n",
    "plt.plot(r, start_pot[0], label='start')\n",
    "plt.plot(r, end_pot[0], label='final')\n",
    "plt.plot(r, true_pot, label='true', linestyle=':')\n",
    "plt.legend()\n",
    "plt.ylim(-1,2)\n",
    "plt.show()"
   ]
  }
 ],
 "metadata": {
  "kernelspec": {
   "display_name": "Python 3",
   "language": "python",
   "name": "python3"
  },
  "language_info": {
   "codemirror_mode": {
    "name": "ipython",
    "version": 3
   },
   "file_extension": ".py",
   "mimetype": "text/x-python",
   "name": "python",
   "nbconvert_exporter": "python",
   "pygments_lexer": "ipython3",
   "version": "3.7.6"
  }
 },
 "nbformat": 4,
 "nbformat_minor": 2
}
