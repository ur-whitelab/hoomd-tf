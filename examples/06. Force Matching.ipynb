{
 "cells": [
  {
   "cell_type": "markdown",
   "metadata": {},
   "source": [
    "# 06. Force Matching \n",
    "\n",
    "In this tutorial, we show how to use force matching to fit a potential energy function to forces from a simulation."
   ]
  },
  {
   "cell_type": "code",
   "execution_count": 1,
   "metadata": {},
   "outputs": [],
   "source": [
    "# disable GPU. Remove this if you've compiled HOOMD for GPU\n",
    "import os\n",
    "os.environ['CUDA_VISIBLE_DEVICES'] = '-1'\n",
    "\n",
    "\n",
    "import hoomd, hoomd.htf as htf, hoomd.md\n",
    "import numpy as np\n",
    "import matplotlib.pyplot as plt\n",
    "import tensorflow as tf\n",
    "import math"
   ]
  },
  {
   "cell_type": "markdown",
   "metadata": {},
   "source": [
    "## Building the model graph\n",
    "\n",
    "We build an LJ potential with unknown, trainable parameters (`epsilon`, `sigma`) which start out at 0.9 and 1.1. We then obtain forces from our potential and the simulation. Force matching is used to modify the LJ potential until the forces agree. We use Keras layers to implement the trainable parameters. We'll make our starting parameters $\\epsilon=1.2$ and $\\sigma=0.9$. The goal is train them to reach $\\sigma, \\epsilon = 1.0$"
   ]
  },
  {
   "cell_type": "code",
   "execution_count": 2,
   "metadata": {
    "scrolled": true
   },
   "outputs": [],
   "source": [
    "class LJLayer(tf.keras.layers.Layer):\n",
    "    def __init__(self, sig, eps):\n",
    "        super().__init__(self, name='lj')\n",
    "        self.start = [sig, eps]\n",
    "        self.w = self.add_weight(\n",
    "            shape=[2],\n",
    "            initializer=tf.constant_initializer([sig, eps]),\n",
    "            constraint=tf.keras.constraints.NonNeg())\n",
    "\n",
    "    def call(self, r):\n",
    "        r6 = tf.math.divide_no_nan(self.w[1]**6, r**6)\n",
    "        energy = self.w[0] * 4.0 * (r6**2 - r6)\n",
    "        # divide by 2 to remove double count\n",
    "        return energy / 2.\n",
    "    \n",
    "class TrainableLJ(htf.SimModel):\n",
    "    def setup(self):\n",
    "        self.lj = LJLayer(0.9, 1.2)\n",
    "\n",
    "    def compute(self, nlist):\n",
    "        # get r\n",
    "        r = htf.safe_norm(tensor=nlist[:, :, :3], axis=2)\n",
    "        p_energy = self.lj(r)\n",
    "        energy = tf.reduce_sum(input_tensor=p_energy, axis=1)\n",
    "        forces = htf.compute_nlist_forces(nlist, energy)\n",
    "        return forces, self.lj.w, energy"
   ]
  },
  {
   "cell_type": "markdown",
   "metadata": {},
   "source": [
    "## Running the simulation\n",
    "\n",
    "The simulation consists of LJ particles whose sigma and epsilon values are 1.0. Note that when we compile our Keras model, we prevent the loss from looking at our other outputs by using `None`"
   ]
  },
  {
   "cell_type": "code",
   "execution_count": 3,
   "metadata": {
    "scrolled": true
   },
   "outputs": [
    {
     "name": "stdout",
     "output_type": "stream",
     "text": [
      "HOOMD-blue 2.5.2 DOUBLE HPMC_MIXED TBB SSE SSE2 SSE3 \n",
      "Compiled: 04/30/2019\n",
      "Copyright (c) 2009-2019 The Regents of the University of Michigan.\n",
      "-----\n",
      "You are using HOOMD-blue. Please cite the following:\n",
      "* J A Anderson, C D Lorenz, and A Travesset. \"General purpose molecular dynamics\n",
      "  simulations fully implemented on graphics processing units\", Journal of\n",
      "  Computational Physics 227 (2008) 5342--5359\n",
      "* J Glaser, T D Nguyen, J A Anderson, P Liu, F Spiga, J A Millan, D C Morse, and\n",
      "  S C Glotzer. \"Strong scaling of general-purpose molecular dynamics simulations\n",
      "  on GPUs\", Computer Physics Communications 192 (2015) 97--107\n",
      "-----\n",
      "HOOMD-blue is running on the CPU\n",
      "notice(2): Group \"all\" created containing 256 particles\n",
      "notice(2): Force mode is FORCE_MODE.hoomd2tf \n",
      "notice(2): Starting TensorflowCompute \n",
      "notice(2): completed reallocate\n",
      "notice(2): -- Neighborlist exclusion statistics -- :\n",
      "notice(2): Particles with 0 exclusions             : 256\n",
      "notice(2): Neighbors included by diameter          : no\n",
      "notice(2): Neighbors excluded when in the same body: no\n",
      "** starting run **\n",
      "Time 00:00:08 | Step 1000 / 1000 | TPS 115.593 | ETA 00:00:00\n",
      "Average TPS: 115.585\n",
      "---------\n",
      "-- Neighborlist stats:\n",
      "128 normal updates / 10 forced updates / 0 dangerous updates\n",
      "n_neigh_min: 5 / n_neigh_max: 17 / n_neigh_avg: 11.4609\n",
      "shortest rebuild period: 7\n",
      "-- Cell list stats:\n",
      "Dimension: 8, 8, 1\n",
      "n_min    : 1 / n_max: 7 / n_avg: 4\n",
      "** run complete **\n"
     ]
    }
   ],
   "source": [
    "# run the simulation\n",
    "N = 256\n",
    "hoomd.context.initialize('--mode=cpu')\n",
    "\n",
    "model = TrainableLJ(64, output_forces = False)\n",
    "model.compile('Adam', loss=['MeanSquaredError', None, None])\n",
    "tfcompute = htf.tfcompute(model)\n",
    "rcut = 7.5\n",
    "system = hoomd.init.create_lattice(\n",
    "    unitcell=hoomd.lattice.sq(a=4.0),\n",
    "    n=[int(math.sqrt(N)), int(math.sqrt(N))])\n",
    "nlist = hoomd.md.nlist.cell(check_period=1)\n",
    "lj = hoomd.md.pair.lj(r_cut=rcut, nlist=nlist)\n",
    "lj.pair_coeff.set('A', 'A', epsilon=1, sigma=1)\n",
    "hoomd.md.integrate.mode_standard(dt=0.005)\n",
    "hoomd.md.integrate.nve(group=hoomd.group.all(\n",
    "        )).randomize_velocities(kT=2, seed=2)\n",
    "tfcompute.attach(nlist, train=True, r_cut=rcut, save_output_period=5)\n",
    "hoomd.run(1e3)"
   ]
  },
  {
   "cell_type": "markdown",
   "metadata": {},
   "source": [
    "## Plotting training progress"
   ]
  },
  {
   "cell_type": "code",
   "execution_count": 4,
   "metadata": {},
   "outputs": [
    {
     "data": {
      "image/png": "[encoded data removed]",
      "text/plain": [
       "<Figure size 432x288 with 1 Axes>"
      ]
     },
     "metadata": {
      "needs_background": "light"
     },
     "output_type": "display_data"
    }
   ],
   "source": [
    "time = range(0, 1000, 5)\n",
    "epsilon = tfcompute.outputs[0][:,1]\n",
    "sigma = tfcompute.outputs[0][:,0]\n",
    "plt.figure()\n",
    "plt.plot(time, epsilon, label = 'epsilon')\n",
    "plt.plot(time, sigma, label = 'sigma')\n",
    "plt.legend()\n",
    "plt.show()"
   ]
  },
  {
   "cell_type": "markdown",
   "metadata": {},
   "source": [
    "## Plotting the potential"
   ]
  },
  {
   "cell_type": "code",
   "execution_count": 5,
   "metadata": {},
   "outputs": [],
   "source": [
    "r = np.linspace(0.2, 4, 1000)\n",
    "start_model = TrainableLJ(64)\n",
    "start_vals = htf.compute_pairwise(start_model, r)\n",
    "end_vals = hoomd.htf.compute_pairwise(model, r)\n",
    "true_pot = 2 * (r**-12 - r**-6)"
   ]
  },
  {
   "cell_type": "code",
   "execution_count": 6,
   "metadata": {},
   "outputs": [
    {
     "data": {
      "image/png": "[encoded data removed]",
      "text/plain": [
       "<Figure size 576x432 with 1 Axes>"
      ]
     },
     "metadata": {
      "needs_background": "light"
     },
     "output_type": "display_data"
    }
   ],
   "source": [
    "plt.figure(figsize=(8,6))\n",
    "# is per-particle energy, so grab only 0 particle\n",
    "plt.plot(r, start_vals[2][:,0], label='start')\n",
    "plt.plot(r, end_vals[2][:,0], label='final')\n",
    "plt.plot(r, true_pot, label='true', linestyle=':')\n",
    "plt.legend()\n",
    "plt.ylim(-1,2)\n",
    "plt.show()"
   ]
  }
 ],
 "metadata": {
  "kernelspec": {
   "display_name": "Python 3",
   "language": "python",
   "name": "python3"
  },
  "language_info": {
   "codemirror_mode": {
    "name": "ipython",
    "version": 3
   },
   "file_extension": ".py",
   "mimetype": "text/x-python",
   "name": "python",
   "nbconvert_exporter": "python",
   "pygments_lexer": "ipython3",
   "version": "3.7.8"
  }
 },
 "nbformat": 4,
 "nbformat_minor": 2
}
