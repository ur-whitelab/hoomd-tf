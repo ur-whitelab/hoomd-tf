{
 "cells": [
  {
   "cell_type": "markdown",
   "metadata": {},
   "source": [
    "# 10. Writing mapped trajectories from Gromacs all atom (AA) trajectories\n",
    "\n",
    "### Prerequisites\n",
    "* MDAnalysis\n",
    "* gsd\n",
    "\n",
    "This example maps a system of 4 EKEK (GLU-LYS-GLU-LYS) peptides. One amino acid residue's center of mass represents one CG bead. The all atom topology and trajecotry files can be found in `CG_tutoral` folder. Note that solvent molecules and Hydrogen atoms are removed from the AA system."
   ]
  },
  {
   "cell_type": "code",
   "execution_count": 40,
   "metadata": {},
   "outputs": [],
   "source": [
    "import hoomd\n",
    "import numpy as np \n",
    "import hoomd.md\n",
    "import gsd,gsd.hoomd\n",
    "import gsd.pygsd\n",
    "import hoomd.htf as htf\n",
    "import tensorflow as tf\n",
    "import MDAnalysis as mda\n",
    "\n",
    "# disable GPU\n",
    "import os\n",
    "os.environ['CUDA_VISIBLE_DEVICES'] = '-1'\n",
    "\n",
    "#disable warnings\n",
    "import warnings\n",
    "warnings.filterwarnings('ignore')"
   ]
  },
  {
   "cell_type": "markdown",
   "metadata": {},
   "source": [
    "Here we generate snapshots of each state. This will be called for all frames of the trajectory. "
   ]
  },
  {
   "cell_type": "code",
   "execution_count": 30,
   "metadata": {},
   "outputs": [],
   "source": [
    "def create_frame(frame_number, N, types, type_array, positions,masses, box):\n",
    "    ''' Create snapshots of a system state.\n",
    "    :param frame_number: Frame number in a trajectory\n",
    "    :type frame_number: int\n",
    "    :param N: Number of CG beads\n",
    "    :type N: int\n",
    "    :param types: Names of particle types\n",
    "    :type types: List of strings (len N)\n",
    "    :param typeids: CG bead type id\n",
    "    :type typeids: Numpy array (N,)\n",
    "    :param positions: CG beads positions\n",
    "    :type positions: Numpy array (N,3)\n",
    "    :param masses: CG beads masses\n",
    "    :type masses: Numpy array (N,)\n",
    "    :param box: System box dimensions\n",
    "    :type box: Numpy array (6,)\n",
    "    :return: Snapshot of a system state\n",
    "    '''\n",
    "    s = gsd.hoomd.Snapshot()\n",
    "    s.configuration.step = frame_number\n",
    "    s.configuration.box = box\n",
    "    s.particles.N = len(type_array)\n",
    "    s.particles.types = types\n",
    "    s.particles.typeid = type_array\n",
    "    s.particles.position = positions\n",
    "    s.particles.mass = masses\n",
    "    return s"
   ]
  },
  {
   "cell_type": "code",
   "execution_count": 38,
   "metadata": {},
   "outputs": [],
   "source": [
    "def CGmap_trajectory(\n",
    "        N,\n",
    "        CGtypes,\n",
    "        CGids,\n",
    "        mapped_positions,\n",
    "        CGmasses,\n",
    "        outfile,\n",
    "        mda_universe=None,\n",
    "        splice_traj=False,\n",
    "        traj_frames=None):\n",
    "    \n",
    "    ''' Writes a mapped trajectory.\n",
    "    \n",
    "    :param N: Number of CG beads\n",
    "    :type N: int\n",
    "    :param CGtypes: Names of particle types\n",
    "    :type CGtypes: List of strings (len N)\n",
    "    :param CGids: CG bead type id\n",
    "    :type CGids: Numpy array (N,)\n",
    "    :param mapped_positions: CG beads positions\n",
    "    :type mapped_positions: Numpy array (N,3)\n",
    "    :param CGmasses: CG beads masses\n",
    "    :type CGmasses: Numpy array (N,)\n",
    "    :param outfile: Name of the output file with .gsd extension\n",
    "    :type outfile: str\n",
    "    :param mda_universe: Universe with topology and trajectory\n",
    "    :type mda_universe: MD ANALYSIS Universe\n",
    "    :param splice_traj: Flag to splice a trajectory length\n",
    "    :type splice_traj: boolean\n",
    "    :param traj_frames: First and last frame numbers for splicing\n",
    "    :type traj_frames: Numpy array [2,]\n",
    "    :return: mapped trajectory in gsd file format\n",
    "    '''\n",
    "\n",
    "    if mda_universe is not None:\n",
    "\n",
    "        #User can either map all frames or a selected number of frames\n",
    "        if splice_traj is False:\n",
    "            traj_len = len(mda_universe.trajectory)\n",
    "        else:\n",
    "            traj_len = len(\n",
    "                mda_universe.trajectory[traj_frames[0]:traj_frames[-1]])\n",
    "\n",
    "        # IRuntime error with hoomd: not all particles found inside the box\n",
    "        box = mda_universe.dimensions\n",
    "\n",
    "        t = gsd.hoomd.open(name=outfile, mode='wb')\n",
    "        for ts, i in zip(mda_universe.trajectory, range(traj_len)):\n",
    "            t.append(create_frame(i, N, CGtypes,\n",
    "                                  CGids, mapped_positions, CGmasses, box))\n",
    "        print('GSD file written')"
   ]
  },
  {
   "cell_type": "markdown",
   "metadata": {},
   "source": [
    "Now let's read the trajectory and generate CG bead types, indices, COMs and total masses. There are 16 residues in the system. Hence we will name each bead index by an integer scaling from 1 to 16. CG beads names will be `amino acid type + index` (Glu=E, Lys=K)"
   ]
  },
  {
   "cell_type": "code",
   "execution_count": 9,
   "metadata": {},
   "outputs": [],
   "source": [
    "u = mda.Universe('CG_tutorial/EKEKxsolxH.pdb','CG_tutorail/EKEKxsolxH_last.trr')"
   ]
  },
  {
   "cell_type": "code",
   "execution_count": 41,
   "metadata": {},
   "outputs": [
    {
     "name": "stdout",
     "output_type": "stream",
     "text": [
      "CG bead ids:  [ 1  2  3  4  5  6  7  8  9 10 11 12 13 14 15 16]\n",
      "CG bead names:  ['E1', 'K2', 'E3', 'K4', 'E5', 'K6', 'E7', 'K8', 'E9', 'K10', 'E11', 'K12', 'E13', 'K14', 'E15', 'K16']\n"
     ]
    }
   ],
   "source": [
    "#I will CG the atoms by their residues\n",
    "N = len(u.atoms.residues)\n",
    "\n",
    "typeids = np.arange(1,N+1)\n",
    "\n",
    "#creating bead names\n",
    "types = []\n",
    "for i in typeids:\n",
    "    if i%2 != 0:\n",
    "        types.append('E'+str(i))\n",
    "    else:\n",
    "        types.append('K'+str(i))\n",
    "print('CG bead ids: ', typeids)\n",
    "print('CG bead names: ', types)\n",
    "# Now let's calculate the COMs and total masses of the CG groups\n",
    "masses = []\n",
    "mapped_pos = []\n",
    "\n",
    "for ids in typeids:\n",
    "    ag = u.select_atoms('resid '+str(ids))\n",
    "    coms = ag.center_of_mass()\n",
    "    masses.append(ag.total_mass())\n",
    "    mapped_pos.append(coms)\n",
    "    "
   ]
  },
  {
   "cell_type": "code",
   "execution_count": 39,
   "metadata": {},
   "outputs": [
    {
     "name": "stdout",
     "output_type": "stream",
     "text": [
      "GSD file written\n"
     ]
    }
   ],
   "source": [
    "#Let's generate GSD file\n",
    "CGmap_trajectory(N=N, CGtypes=types, CGids=typeids, mapped_positions=mapped_pos, \n",
    "                     CGmasses=masses, outfile='CG_tutorial/EKEKmapped_traj.gsd', mda_universe=u, splice_traj=False)"
   ]
  },
  {
   "cell_type": "code",
   "execution_count": null,
   "metadata": {},
   "outputs": [],
   "source": []
  }
 ],
 "metadata": {
  "kernelspec": {
   "display_name": "Python (htf2)",
   "language": "python",
   "name": "htf2"
  },
  "language_info": {
   "codemirror_mode": {
    "name": "ipython",
    "version": 3
   },
   "file_extension": ".py",
   "mimetype": "text/x-python",
   "name": "python",
   "nbconvert_exporter": "python",
   "pygments_lexer": "ipython3",
   "version": "3.7.7"
  }
 },
 "nbformat": 4,
 "nbformat_minor": 4
}
