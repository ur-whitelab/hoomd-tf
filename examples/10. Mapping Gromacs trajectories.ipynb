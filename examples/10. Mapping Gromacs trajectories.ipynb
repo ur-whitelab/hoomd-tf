{
 "cells": [
  {
   "cell_type": "markdown",
   "metadata": {},
   "source": [
    "# 10. Writing mapped trajectories from Gromacs all atom (AA) trajectories\n",
    "\n",
    "### Prerequisites\n",
    "* MDAnalysis\n",
    "* gsd\n",
    "\n",
    "This example maps a system of two 12 amino acid long peptides. One amino acid residue's center of mass represents one CG bead. The all atom topology and trajecotry files can be found in `examples` directory. The mapped trajectory will be saved in gsd format to `CG_tutorial` directory. "
   ]
  },
  {
   "cell_type": "code",
   "execution_count": 1,
   "metadata": {},
   "outputs": [
    {
     "name": "stdout",
     "output_type": "stream",
     "text": [
      "2 Physical GPUs, 2 Logical GPUs\n"
     ]
    }
   ],
   "source": [
    "import hoomd\n",
    "import numpy as np \n",
    "import hoomd.md\n",
    "import gsd,gsd.hoomd\n",
    "import gsd.pygsd\n",
    "import hoomd.htf as htf\n",
    "import tensorflow as tf\n",
    "import MDAnalysis as mda\n",
    "\n",
    "# disable GPU\n",
    "import os\n",
    "os.environ['CUDA_VISIBLE_DEVICES'] = '-1'\n",
    "\n",
    "#disable warnings\n",
    "import warnings\n",
    "warnings.filterwarnings('ignore')"
   ]
  },
  {
   "cell_type": "markdown",
   "metadata": {},
   "source": [
    "Now let's read the trajectory and generate CG bead types, indices, COMs and total masses. There are 24 residues in the system. Hence we will name each bead index by an integer scaling from 1 to 24. CG beads names will be `B + index`. A user can give any bead name of choice. "
   ]
  },
  {
   "cell_type": "code",
   "execution_count": 2,
   "metadata": {},
   "outputs": [],
   "source": [
    "u = mda.Universe('test_topol.pdb','test_traj.trr')"
   ]
  },
  {
   "cell_type": "code",
   "execution_count": 3,
   "metadata": {},
   "outputs": [
    {
     "name": "stdout",
     "output_type": "stream",
     "text": [
      "24\n",
      "CG bead ids:  [ 1  2  3  4  5  6  7  8  9 10 11 12 13 14 15 16 17 18 19 20 21 22 23 24]\n",
      "CG bead names:  ['B1', 'B2', 'B3', 'B4', 'B5', 'B6', 'B7', 'B8', 'B9', 'B10', 'B11', 'B12', 'B13', 'B14', 'B15', 'B16', 'B17', 'B18', 'B19', 'B20', 'B21', 'B22', 'B23', 'B24']\n"
     ]
    }
   ],
   "source": [
    "#Here we will CG the atoms by their residues\n",
    "N = len(u.atoms.residues)\n",
    "print(N)\n",
    "typeids = np.arange(1,N+1)\n",
    "\n",
    "#creating bead names\n",
    "types = []\n",
    "for i in typeids:\n",
    "    types.append('B'+str(i))\n",
    "        \n",
    "print('CG bead ids: ', typeids)\n",
    "print('CG bead names: ', types)\n",
    "\n",
    "# Now let's calculate the COMs and total masses of the CG groups\n",
    "masses = []\n",
    "mapped_pos = []\n",
    "\n",
    "for ids in typeids:\n",
    "    ag = u.select_atoms('resid '+str(ids))\n",
    "    coms = ag.center_of_mass()\n",
    "    masses.append(ag.total_mass())\n",
    "    mapped_pos.append(coms)\n",
    "    "
   ]
  },
  {
   "cell_type": "markdown",
   "metadata": {},
   "source": [
    "Here we generate snapshots of each state which will then be written to a GSD file. This will be called for all frames of the trajectory. But a user can specify the length of the trajectory by setting the `splice_traj=True` and by giving `traj_frames=[j,k]`. Here j is the first frame number and j is the last frame number you'd like to splice. For example to get the frame numbers between 10 and 35; `traj_frames=[10,35]`."
   ]
  },
  {
   "cell_type": "code",
   "execution_count": 5,
   "metadata": {},
   "outputs": [
    {
     "name": "stdout",
     "output_type": "stream",
     "text": [
      "GSD file written\n"
     ]
    }
   ],
   "source": [
    "#Let's generate GSD file\n",
    "# Note that this outfile will be written t\n",
    "htf.CGmap_trajectory(N=N, CGtypes=types, CGids=typeids, mapped_positions=mapped_pos, \n",
    "                     CGmasses=masses, outfile='CG_tutorial/testtraj_mapped.gsd', mda_universe=u, splice_traj=False)"
   ]
  },
  {
   "cell_type": "code",
   "execution_count": null,
   "metadata": {},
   "outputs": [],
   "source": []
  }
 ],
 "metadata": {
  "kernelspec": {
   "display_name": "Python (htf2)",
   "language": "python",
   "name": "htf2"
  },
  "language_info": {
   "codemirror_mode": {
    "name": "ipython",
    "version": 3
   },
   "file_extension": ".py",
   "mimetype": "text/x-python",
   "name": "python",
   "nbconvert_exporter": "python",
   "pygments_lexer": "ipython3",
   "version": "3.7.7"
  }
 },
 "nbformat": 4,
 "nbformat_minor": 4
}
