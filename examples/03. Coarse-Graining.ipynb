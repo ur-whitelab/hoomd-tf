{
 "cells": [
  {
   "cell_type": "markdown",
   "metadata": {},
   "source": [
    "# 03. Coarse Grained Simulations"
   ]
  },
  {
   "cell_type": "markdown",
   "metadata": {},
   "source": [
    "Coarse-graining a box of 500 methanol molecules from the all atom simulation given in `CG_tutorial/meth.gsd` file."
   ]
  },
  {
   "cell_type": "code",
   "execution_count": 1,
   "metadata": {},
   "outputs": [],
   "source": [
    "import tensorflow as tf\n",
    "# reduce logging\n",
    "tf.get_logger().setLevel('ERROR')\n",
    "from tensorflow.keras import layers\n",
    "import hoomd\n",
    "import hoomd.md\n",
    "import hoomd.htf as htf\n",
    "import numpy as np\n",
    "import gsd, gsd.hoomd, pickle\n",
    "import matplotlib.pyplot as plt,matplotlib\n",
    "%matplotlib inline"
   ]
  },
  {
   "cell_type": "markdown",
   "metadata": {},
   "source": [
    "## Build the computational graph\n",
    "\n",
    "Here we prepare the computations that will be executed at each step during the simulation. We have access to placeholders for the neighbor list, positions, types, box dimensions of the simulation.\n",
    "\n",
    "This graph works in three steps:\n",
    "\n",
    "1. Creaet a mapping matrix that describes how to group atoms together in a coarse-grained system given the all-atom system\n",
    "2. Create a coarse-grained mapped trajectory, where atoms/forces are grouped together using the mapping matrix\n",
    "3. Compute the radial distribution function of this new mapped trajectory\n",
    "4. Compute the radial distribution function of the C-C from the all-atom sysetm for comparison"
   ]
  },
  {
   "cell_type": "code",
   "execution_count": 2,
   "metadata": {},
   "outputs": [],
   "source": [
    "### Graph building code ###\n",
    "\n",
    "def make_train_graph(NN, rcut, NN_aa, N_hidden, system):\n",
    "\n",
    "    #mamximum number of neighbors=0, graph will not compute forces to use in TF\n",
    "    graph = htf.graph_builder(NN_aa, output_forces=False)\n",
    "    assign_ops = []\n",
    "    prints = []\n",
    "    #get mapping from molecule index to particle index\n",
    "    molecule_mapping = htf.find_molecules(system)\n",
    "\n",
    "    for m in molecule_mapping:\n",
    "        #ensure all molecules are of the same length\n",
    "        assert len(m) == len(molecule_mapping[0])\n",
    "    N = sum([len(m) for m in molecule_mapping])\n",
    "    M = len(molecule_mapping)\n",
    "    #number of atoms in a molecule=MN\n",
    "    MN = len(molecule_mapping[0])\n",
    "    # create one bead mapping. mapping matrices must be created for other types of mappings\n",
    "    molecule_mapping_matrix = np.ones([1, MN], dtype=np.int)\n",
    "    #create a mass-weighted M x N mapping operator \n",
    "    cg_mapping = htf.sparse_mapping([molecule_mapping_matrix for _ in molecule_mapping], \n",
    "                                    molecule_mapping, system=system)\n",
    "    assert cg_mapping.shape == (M, N)\n",
    "    #calculate the center of mass of a CG bead\n",
    "    mapped_pos = htf.center_of_mass(graph.positions[:,:3], cg_mapping, graph.box_size, name='com-mapped-positions')\n",
    "    #create the mapped neighbot list\n",
    "    mapped_nlist = htf.compute_nlist(mapped_pos, rcut, NN, graph.box_size)\n",
    "    #create a non mass-weighted M x N mapping operator\n",
    "    force_cg_mapping = htf.sparse_mapping([molecule_mapping_matrix for _ in molecule_mapping], molecule_mapping)\n",
    "    #calculate the coarse grained forces\n",
    "    mapped_force = tf.sparse.matmul(force_cg_mapping, graph.forces, name='mapped-forces')\n",
    "    #compute RDF for mapped and C-C in all-atom\n",
    "    rdf = graph.compute_rdf([0.1,rcut], 'rdf', nbins=200, nlist=mapped_nlist)\n",
    "    aa_rdf = graph.compute_rdf([0.1,rcut], 'aa-rdf', nbins=200, type_i=3, type_j=3)\n",
    "    graph.running_mean(rdf,'avg-rdf') \n",
    "    graph.running_mean(aa_rdf,'avg-aa-rdf') \n",
    "    #save the graph\n",
    "    graph.save('CG_tutorial/cg_model')"
   ]
  },
  {
   "cell_type": "markdown",
   "metadata": {},
   "source": [
    "## Running the simulation\n",
    "\n",
    "Here we begin a simulation of methanol. This code is a little complex, but not really about hoomd-tf. This is the details of setting-up the force field to simulate methanol (e.g., treating electrostatics, dispersion, thermostat). "
   ]
  },
  {
   "cell_type": "code",
   "execution_count": 3,
   "metadata": {
    "scrolled": true
   },
   "outputs": [
    {
     "name": "stdout",
     "output_type": "stream",
     "text": [
      "HOOMD-blue v2.5.1 DOUBLE HPMC_MIXED SSE SSE2 \n",
      "Compiled: 03/04/2020\n",
      "Copyright (c) 2009-2019 The Regents of the University of Michigan.\n",
      "-----\n",
      "You are using HOOMD-blue. Please cite the following:\n",
      "* J A Anderson, C D Lorenz, and A Travesset. \"General purpose molecular dynamics\n",
      "  simulations fully implemented on graphics processing units\", Journal of\n",
      "  Computational Physics 227 (2008) 5342--5359\n",
      "* J Glaser, T D Nguyen, J A Anderson, P Liu, F Spiga, J A Millan, D C Morse, and\n",
      "  S C Glotzer. \"Strong scaling of general-purpose molecular dynamics simulations\n",
      "  on GPUs\", Computer Physics Communications 192 (2015) 97--107\n",
      "-----\n",
      "HOOMD-blue is running on the CPU\n",
      "notice(2): Group \"all\" created containing 6000 particles\n",
      "Finding molecules...99.90%\n",
      "Note: Backed-up CG_tutorial/cg_model previous model to CG_tutorial/cg_model/previous_model_7\n",
      "notice(2): Started TF Session Manager.\n",
      "-----\n",
      "You are using PPPM. Please cite the following:\n",
      "* D N LeBard, B G Levine, S A Barr, A Jusufi, S Sanders, M L Klein, and A Z\n",
      "  Panagiotopoulos. \"Self-assembly of coarse-grained ionic surfactants\n",
      "  accelerated by graphics processing units\", Journal of Computational Physics 8\n",
      "  (2012) 2385-2397\n",
      "-----\n",
      "notice(2): -- Neighborlist exclusion statistics -- :\n",
      "notice(2): Particles with 5 exclusions             : 6000\n",
      "notice(2): Neighbors included by diameter          : no\n",
      "notice(2): Neighbors excluded when in the same body: no\n",
      "** starting run **\n"
     ]
    },
    {
     "name": "stderr",
     "output_type": "stream",
     "text": [
      "*Warning*: charge.pppm: system is not neutral and unscreened interactions are calculated, the net charge is -0.000357628\n"
     ]
    },
    {
     "name": "stdout",
     "output_type": "stream",
     "text": [
      "notice(2): charge.pppm: RMS error: 0.000406376\n",
      "Time 00:00:13 | Step 28 / 200 | TPS 2.77151 | ETA 00:01:02\n",
      "Time 00:00:24 | Step 57 / 200 | TPS 2.80709 | ETA 00:00:50\n",
      "Time 00:00:34 | Step 85 / 200 | TPS 2.78746 | ETA 00:00:41\n",
      "Time 00:00:44 | Step 115 / 200 | TPS 2.97403 | ETA 00:00:28\n",
      "Time 00:00:54 | Step 144 / 200 | TPS 2.87635 | ETA 00:00:19\n",
      "Time 00:01:04 | Step 171 / 200 | TPS 2.69084 | ETA 00:00:10\n",
      "Time 00:01:14 | Step 199 / 200 | TPS 2.68526 | ETA 00:00:00\n",
      "Time 00:01:15 | Step 200 / 200 | TPS 3.30671 | ETA 00:00:00\n",
      "Average TPS: 2.80062\n",
      "---------\n",
      "-- Neighborlist stats:\n",
      "52 normal updates / 0 forced updates / 0 dangerous updates\n",
      "n_neigh_min: 0 / n_neigh_max: 533 / n_neigh_avg: 211.555\n",
      "shortest rebuild period: 3\n",
      "-- Cell list stats:\n",
      "Dimension: 3, 3, 3\n",
      "n_min    : 168 / n_max: 294 / n_avg: 222.222\n",
      "** run complete **\n",
      "notice(2): Force mode is FORCE_MODE.hoomd2tf \n",
      "notice(2): Starting TensorflowCompute \n",
      "notice(2): completed reallocate\n",
      "notice(2): TF Session Manager has released control. Starting HOOMD updates\n",
      "** starting run **\n",
      "Time 00:01:26 | Step 214 / 700 | TPS 1.39365 | ETA 00:05:48\n",
      "Time 00:01:36 | Step 230 / 700 | TPS 1.53088 | ETA 00:05:07\n",
      "Time 00:01:47 | Step 247 / 700 | TPS 1.63033 | ETA 00:04:37\n",
      "Time 00:01:57 | Step 264 / 700 | TPS 1.62376 | ETA 00:04:28\n",
      "Time 00:02:08 | Step 281 / 700 | TPS 1.58996 | ETA 00:04:23\n",
      "Time 00:02:19 | Step 298 / 700 | TPS 1.61569 | ETA 00:04:08\n",
      "Time 00:02:29 | Step 315 / 700 | TPS 1.6277 | ETA 00:03:56\n",
      "Time 00:02:39 | Step 332 / 700 | TPS 1.63728 | ETA 00:03:44\n",
      "Time 00:02:50 | Step 349 / 700 | TPS 1.62727 | ETA 00:03:35\n",
      "Time 00:03:00 | Step 366 / 700 | TPS 1.68034 | ETA 00:03:18\n",
      "Time 00:03:10 | Step 383 / 700 | TPS 1.6327 | ETA 00:03:14\n",
      "Time 00:03:20 | Step 400 / 700 | TPS 1.69372 | ETA 00:02:57\n",
      "Time 00:03:31 | Step 417 / 700 | TPS 1.63694 | ETA 00:02:52\n",
      "Time 00:03:41 | Step 434 / 700 | TPS 1.64186 | ETA 00:02:42\n",
      "Time 00:03:51 | Step 451 / 700 | TPS 1.64749 | ETA 00:02:31\n",
      "Time 00:04:02 | Step 468 / 700 | TPS 1.64073 | ETA 00:02:21\n",
      "Time 00:04:12 | Step 485 / 700 | TPS 1.64216 | ETA 00:02:10\n",
      "Time 00:04:22 | Step 502 / 700 | TPS 1.68894 | ETA 00:01:57\n",
      "Time 00:04:32 | Step 519 / 700 | TPS 1.68217 | ETA 00:01:47\n",
      "Time 00:04:43 | Step 536 / 700 | TPS 1.65193 | ETA 00:01:39\n",
      "Time 00:04:53 | Step 553 / 700 | TPS 1.67843 | ETA 00:01:27\n",
      "Time 00:05:03 | Step 570 / 700 | TPS 1.64553 | ETA 00:01:19\n",
      "Time 00:05:13 | Step 587 / 700 | TPS 1.64451 | ETA 00:01:08\n",
      "Time 00:05:23 | Step 604 / 700 | TPS 1.68972 | ETA 00:00:56\n",
      "Time 00:05:34 | Step 621 / 700 | TPS 1.67757 | ETA 00:00:47\n",
      "Time 00:05:44 | Step 638 / 700 | TPS 1.69154 | ETA 00:00:36\n",
      "Time 00:05:54 | Step 655 / 700 | TPS 1.68949 | ETA 00:00:26\n",
      "Time 00:06:04 | Step 673 / 700 | TPS 1.71408 | ETA 00:00:15\n",
      "Time 00:06:15 | Step 690 / 700 | TPS 1.64928 | ETA 00:00:06\n",
      "Time 00:06:21 | Step 700 / 700 | TPS 1.66766 | ETA 00:00:00\n",
      "Average TPS: 1.64154\n",
      "---------\n",
      "-- Neighborlist stats:\n",
      "108 normal updates / 1 forced updates / 0 dangerous updates\n",
      "n_neigh_min: 307 / n_neigh_max: 483 / n_neigh_avg: 409.472\n",
      "shortest rebuild period: 4\n",
      "-- Cell list stats:\n",
      "Dimension: 3, 3, 3\n",
      "n_min    : 189 / n_max: 259 / n_avg: 222.222\n",
      "** run complete **\n",
      "notice(2): Sending exit signal.\n",
      "notice(2): Shutting down TF Manually.\n",
      "notice(2): TF Queue is waiting, sending None\n"
     ]
    }
   ],
   "source": [
    "### Hoomd-Sim code ###\n",
    "\n",
    "g = gsd.hoomd.open('CG_tutorial/meth.gsd')\n",
    "c = hoomd.context.initialize('--mode=cpu')\n",
    "system = hoomd.init.read_gsd(filename='CG_tutorial/meth.gsd')\n",
    "c.sorter.disable()\n",
    "set_rcut=10.0\n",
    "\n",
    "#call the graph building code\n",
    "make_train_graph(128,10.0,256,48, system)\n",
    "\n",
    "with htf.tfcompute('CG_tutorial/cg_model', device='/CPU:0') as tfcompute:\n",
    "    nlist = hoomd.md.nlist.cell()\n",
    "\n",
    "    #set-up pppm\n",
    "    charged = hoomd.group.all()\n",
    "    pppm = hoomd.md.charge.pppm(nlist=nlist, group=charged)\n",
    "    pppm.set_params(Nx=32, Ny=32, Nz=32, order=6, rcut=set_rcut)\n",
    "\n",
    "    #set-up pair coefficients\n",
    "    nlist.reset_exclusions(['1-2', '1-3', '1-4','body'])\n",
    "    lj = hoomd.md.pair.force_shifted_lj(r_cut=set_rcut, nlist=nlist)\n",
    "    forces = [lj]\n",
    "    lj.pair_coeff.set(\"opls_156\", \"opls_156\", sigma=2.5, epsilon=0.03)\n",
    "    lj.pair_coeff.set(\"opls_156\", \"opls_157\", sigma=2.96, epsilon=0.05)\n",
    "    lj.pair_coeff.set(\"opls_156\", \"opls_154\", sigma=2.79, epsilon=0.07)\n",
    "    lj.pair_coeff.set(\"opls_156\", \"opls_155\", sigma=5.0, epsilon=0.0)\n",
    "    lj.pair_coeff.set(\"opls_157\", \"opls_157\", sigma=3.5, epsilon=0.07)\n",
    "    lj.pair_coeff.set(\"opls_157\", \"opls_154\", sigma=3.31, epsilon=0.11)\n",
    "    lj.pair_coeff.set(\"opls_157\", \"opls_155\", sigma=5.92, epsilon=0.0)\n",
    "    lj.pair_coeff.set(\"opls_154\", \"opls_154\", sigma=3.12, epsilon=0.17)\n",
    "    lj.pair_coeff.set(\"opls_154\", \"opls_155\", sigma=5.59, epsilon=0.0)\n",
    "    lj.pair_coeff.set(\"opls_155\", \"opls_155\", sigma=10.0, epsilon=0.0)\n",
    "\n",
    "    #set-up bonds\n",
    "    harmonic = hoomd.md.bond.harmonic()\n",
    "    harmonic.bond_coeff.set(\"opls_156-opls_157\", k=340.00, r0=1.09)\n",
    "    harmonic.bond_coeff.set(\"opls_154-opls_157\", k=320.00, r0=1.41)\n",
    "    harmonic.bond_coeff.set(\"opls_154-opls_155\", k=553.00, r0=0.95)\n",
    "\n",
    "    #set-up angles\n",
    "    harm_angle = hoomd.md.angle.harmonic()\n",
    "    harm_angle.angle_coeff.set(\"opls_154-opls_157-opls_156\", k=70.0, t0=1.90)\n",
    "    harm_angle.angle_coeff.set(\"opls_155-opls_154-opls_157\", k=110.0, t0=1.89)\n",
    "    harm_angle.angle_coeff.set(\"opls_156-opls_157-opls_156\", k=66.0, t0=1.88)\n",
    "\n",
    "    #set-up dihedrals\n",
    "    dihedral = hoomd.md.dihedral.opls()\n",
    "    dihedral.dihedral_coeff.set(\"opls_155-opls_154-opls_157-opls_156\", k1=0.0, k2=0.0, k3=0.45, k4=0.0)\n",
    "\n",
    "    group_all = hoomd.group.all()\n",
    "    kT = 1.9872/1000\n",
    "\n",
    "    #NVT Simulation in Hoomd\n",
    "    im = hoomd.md.integrate.mode_standard(dt=5.0/489.0)\n",
    "    nvt = hoomd.md.integrate.nvt(group=group_all, kT=298.15 * kT, tau=350 / 48.9)\n",
    "    nvt.randomize_velocities(1234)\n",
    "\n",
    "    #equilibrate\n",
    "    hoomd.run(200)\n",
    "\n",
    "    #communicate positions, neighbor list and forces to TensorFlow model\n",
    "    tfcompute.attach(nlist, r_cut=set_rcut)\n",
    "\n",
    "    #Hoomd production run\n",
    "    hoomd.run(500)"
   ]
  },
  {
   "cell_type": "markdown",
   "metadata": {},
   "source": [
    "## Analysis\n",
    "\n",
    "Now we load the RDF we computed and plot it"
   ]
  },
  {
   "cell_type": "code",
   "execution_count": 4,
   "metadata": {},
   "outputs": [],
   "source": [
    "## Load saved rdf tensor from the graph\n",
    "train_vars = htf.load_variables('CG_tutorial/cg_model', ['avg-rdf', 'rdf-r', 'avg-aa-rdf'])"
   ]
  },
  {
   "cell_type": "code",
   "execution_count": 5,
   "metadata": {
    "scrolled": true
   },
   "outputs": [
    {
     "data": {
      "image/png": "[encoded data removed]",
      "text/plain": [
       "<Figure size 432x288 with 1 Axes>"
      ]
     },
     "metadata": {
      "needs_background": "light"
     },
     "output_type": "display_data"
    }
   ],
   "source": [
    "## Plot RDFs between Mapped CG beads (center of masses) and the reference (C-O in all atom system )\n",
    "\n",
    "matplotlib.style.use('seaborn-muted')\n",
    "plt.plot(train_vars['rdf-r'],train_vars['avg-aa-rdf']/ train_vars['avg-aa-rdf'][-1],label ='All Atom C-C')\n",
    "plt.plot(train_vars['rdf-r'], train_vars['avg-rdf'] / train_vars['avg-rdf'][-1], label='Mapped (CG)')\n",
    "plt.xlim(2.5,9)\n",
    "plt.ylim(0,2)\n",
    "plt.xlabel(r'r [$\\AA$]')\n",
    "plt.ylabel('$g(r)$')\n",
    "plt.legend()\n",
    "plt.show()"
   ]
  }
 ],
 "metadata": {
  "kernelspec": {
   "display_name": "Python 3",
   "language": "python",
   "name": "python3"
  },
  "language_info": {
   "codemirror_mode": {
    "name": "ipython",
    "version": 3
   },
   "file_extension": ".py",
   "mimetype": "text/x-python",
   "name": "python",
   "nbconvert_exporter": "python",
   "pygments_lexer": "ipython3",
   "version": "3.7.6"
  }
 },
 "nbformat": 4,
 "nbformat_minor": 2
}
