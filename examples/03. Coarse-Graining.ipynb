{
 "cells": [
  {
   "cell_type": "markdown",
   "metadata": {},
   "source": [
    "# 03. Coarse Grained Simulations"
   ]
  },
  {
   "cell_type": "markdown",
   "metadata": {},
   "source": [
    "Coarse-graining a box of 500 methanol molecules from the all atom simulation given in `CG_tutorial/meth.gsd` file."
   ]
  },
  {
   "cell_type": "code",
   "execution_count": 1,
   "metadata": {},
   "outputs": [],
   "source": [
    "import tensorflow as tf\n",
    "from tensorflow.keras import layers\n",
    "import hoomd\n",
    "import hoomd.md\n",
    "import hoomd.htf as htf\n",
    "import numpy as np\n",
    "import gsd, gsd.hoomd, pickle\n",
    "import matplotlib.pyplot as plt,matplotlib"
   ]
  },
  {
   "cell_type": "code",
   "execution_count": 2,
   "metadata": {},
   "outputs": [],
   "source": [
    "%matplotlib inline"
   ]
  },
  {
   "cell_type": "code",
   "execution_count": 3,
   "metadata": {},
   "outputs": [],
   "source": [
    "### Graph building code ###\n",
    "\n",
    "def make_train_graph(NN, rcut, NN_aa, N_hidden, system):\n",
    "\n",
    "    #mamximum number of neighbors=0, graph will not compute forces to use in TF\n",
    "    graph = htf.graph_builder(0, output_forces=False)\n",
    "    assign_ops = []\n",
    "    prints = []\n",
    "    #get mapping from molecule index to particle index\n",
    "    molecule_mapping = htf.find_molecules(system)\n",
    "\n",
    "    for m in molecule_mapping:\n",
    "        #ensure all molecules are of the same length\n",
    "        assert len(m) == len(molecule_mapping[0])\n",
    "    N = sum([len(m) for m in molecule_mapping])\n",
    "    M = len(molecule_mapping)\n",
    "    #number of atoms in a molecule=MN\n",
    "    MN = len(molecule_mapping[0])\n",
    "    # create one bead mapping. mapping matrices must be created for other types of mappings\n",
    "    molecule_mapping_matrix = np.ones([1, MN], dtype=np.int)\n",
    "    #create a mass-weighted M x N mapping operator \n",
    "    cg_mapping = htf.sparse_mapping([molecule_mapping_matrix for _ in molecule_mapping], \n",
    "                                    molecule_mapping, system=system)\n",
    "    assert cg_mapping.shape == (M, N)\n",
    "    #calculate the center of mass of a CG bead\n",
    "    mapped_pos = htf.center_of_mass(graph.positions[:,:3], cg_mapping, system, name='com-mapped-positions')\n",
    "    #create the mapped neighbot list\n",
    "    mapped_nlist = htf.compute_nlist(mapped_pos, rcut, NN, system, False)\n",
    "    #create a non mass-weighted M x N mapping operator\n",
    "    force_cg_mapping = htf.sparse_mapping([molecule_mapping_matrix for _ in molecule_mapping], molecule_mapping)\n",
    "    #calculate the coarse grained forces\n",
    "    mapped_force = tf.sparse.matmul(force_cg_mapping, graph.forces, name='mapped-forces')\n",
    "    rdf = graph.compute_rdf([0.1,rcut], 'rdf', nbins=200, nlist=mapped_nlist)\n",
    "    graph.running_mean(rdf,'avg-rdf') \n",
    "    #save the graph\n",
    "    graph.save('CG_tutorial/cg_model')"
   ]
  },
  {
   "cell_type": "code",
   "execution_count": 4,
   "metadata": {
    "scrolled": true
   },
   "outputs": [
    {
     "name": "stdout",
     "output_type": "stream",
     "text": [
      "HOOMD-blue v2.5.1 CUDA (9.0) DOUBLE HPMC_MIXED SSE SSE2 \n",
      "Compiled: 02/12/2020\n",
      "Copyright (c) 2009-2019 The Regents of the University of Michigan.\n",
      "-----\n",
      "You are using HOOMD-blue. Please cite the following:\n",
      "* J A Anderson, C D Lorenz, and A Travesset. \"General purpose molecular dynamics\n",
      "  simulations fully implemented on graphics processing units\", Journal of\n",
      "  Computational Physics 227 (2008) 5342--5359\n",
      "* J Glaser, T D Nguyen, J A Anderson, P Liu, F Spiga, J A Millan, D C Morse, and\n",
      "  S C Glotzer. \"Strong scaling of general-purpose molecular dynamics simulations\n",
      "  on GPUs\", Computer Physics Communications 192 (2015) 97--107\n",
      "-----\n",
      "HOOMD-blue is running on the CPU\n",
      "notice(2): Group \"all\" created containing 6000 particles\n",
      "Finding molecules...99.90%\n",
      "Note: Backed-up CG_tutorial/cg_model previous model to CG_tutorial/cg_model/previous_model_6\n",
      "notice(2): Started TF Session Manager.\n",
      "-----\n",
      "You are using PPPM. Please cite the following:\n",
      "* D N LeBard, B G Levine, S A Barr, A Jusufi, S Sanders, M L Klein, and A Z\n",
      "  Panagiotopoulos. \"Self-assembly of coarse-grained ionic surfactants\n",
      "  accelerated by graphics processing units\", Journal of Computational Physics 8\n",
      "  (2012) 2385-2397\n",
      "-----\n",
      "notice(2): -- Neighborlist exclusion statistics -- :\n",
      "notice(2): Particles with 5 exclusions             : 6000\n",
      "notice(2): Neighbors included by diameter          : no\n",
      "notice(2): Neighbors excluded when in the same body: no\n",
      "** starting run **\n"
     ]
    },
    {
     "name": "stderr",
     "output_type": "stream",
     "text": [
      "*Warning*: charge.pppm: system is not neutral and unscreened interactions are calculated, the net charge is -0.000357628\n"
     ]
    },
    {
     "name": "stdout",
     "output_type": "stream",
     "text": [
      "notice(2): charge.pppm: RMS error: 0.000406376\n",
      "Time 00:00:15 | Step 23 / 200 | TPS 2.18718 | ETA 00:01:20\n",
      "Time 00:00:25 | Step 47 / 200 | TPS 2.28852 | ETA 00:01:06\n",
      "Time 00:00:35 | Step 70 / 200 | TPS 2.26425 | ETA 00:00:57\n",
      "Time 00:00:45 | Step 93 / 200 | TPS 2.26507 | ETA 00:00:47\n",
      "Time 00:00:56 | Step 117 / 200 | TPS 2.35757 | ETA 00:00:35\n",
      "Time 00:01:06 | Step 141 / 200 | TPS 2.35419 | ETA 00:00:25\n",
      "Time 00:01:16 | Step 164 / 200 | TPS 2.26938 | ETA 00:00:15\n",
      "Time 00:01:26 | Step 188 / 200 | TPS 2.35883 | ETA 00:00:05\n",
      "Time 00:01:31 | Step 200 / 200 | TPS 2.35726 | ETA 00:00:00\n",
      "Average TPS: 2.29644\n",
      "---------\n",
      "-- Neighborlist stats:\n",
      "52 normal updates / 0 forced updates / 0 dangerous updates\n",
      "n_neigh_min: 0 / n_neigh_max: 533 / n_neigh_avg: 211.555\n",
      "shortest rebuild period: 3\n",
      "-- Cell list stats:\n",
      "Dimension: 3, 3, 3\n",
      "n_min    : 168 / n_max: 294 / n_avg: 222.222\n",
      "** run complete **\n",
      "notice(2): Force mode is FORCE_MODE.hoomd2tf \n",
      "notice(2): Starting TensorflowCompute \n",
      "notice(2): completed reallocate\n",
      "INFO:tensorflow:The following quantities will computed:\n",
      "INFO:tensorflow:\tname period batch\n",
      "INFO:tensorflow:\t AssignAdd:0 1 None\n",
      "INFO:tensorflow:\t truediv_4:0 1 None\n",
      "INFO:tensorflow:\t rdf-r:0 1 None\n",
      "INFO:tensorflow:\t avg-rdf-batch/Assign:0 1 None\n",
      "INFO:tensorflow:\t avg-rdf-batch/Assign_1:0 1 None\n",
      "INFO:tensorflow:\t avg-rdf-batch/AssignAdd:0 1 None\n",
      "notice(2): TF Session Manager has released control. Starting HOOMD updates\n",
      "** starting run **\n",
      "Time 00:01:57 | Step 220 / 700 | TPS 1.97267 | ETA 00:04:03\n",
      "Time 00:02:07 | Step 244 / 700 | TPS 2.34554 | ETA 00:03:14\n",
      "Time 00:02:18 | Step 268 / 700 | TPS 2.34679 | ETA 00:03:04\n",
      "Time 00:02:28 | Step 292 / 700 | TPS 2.34681 | ETA 00:02:53\n",
      "Time 00:02:38 | Step 316 / 700 | TPS 2.35189 | ETA 00:02:43\n",
      "Time 00:02:48 | Step 340 / 700 | TPS 2.35538 | ETA 00:02:32\n",
      "Time 00:02:59 | Step 365 / 700 | TPS 2.44722 | ETA 00:02:16\n",
      "Time 00:03:09 | Step 390 / 700 | TPS 2.44981 | ETA 00:02:06\n",
      "Time 00:03:19 | Step 415 / 700 | TPS 2.37596 | ETA 00:01:59\n",
      "Time 00:03:29 | Step 439 / 700 | TPS 2.36152 | ETA 00:01:50\n",
      "Time 00:03:40 | Step 464 / 700 | TPS 2.4542 | ETA 00:01:36\n",
      "Time 00:03:50 | Step 489 / 700 | TPS 2.45731 | ETA 00:01:25\n",
      "Time 00:04:00 | Step 514 / 700 | TPS 2.45937 | ETA 00:01:15\n",
      "Time 00:04:10 | Step 539 / 700 | TPS 2.38523 | ETA 00:01:07\n",
      "Time 00:04:21 | Step 564 / 700 | TPS 2.46026 | ETA 00:00:55\n",
      "Time 00:04:31 | Step 589 / 700 | TPS 2.46103 | ETA 00:00:45\n",
      "Time 00:04:41 | Step 614 / 700 | TPS 2.46308 | ETA 00:00:34\n",
      "Time 00:04:51 | Step 640 / 700 | TPS 2.47659 | ETA 00:00:24\n",
      "Time 00:05:02 | Step 666 / 700 | TPS 2.55787 | ETA 00:00:13\n",
      "Time 00:05:12 | Step 691 / 700 | TPS 2.46719 | ETA 00:00:03\n",
      "Time 00:05:15 | Step 700 / 700 | TPS 2.4263 | ETA 00:00:00\n",
      "Average TPS: 2.40031\n",
      "---------\n",
      "-- Neighborlist stats:\n",
      "108 normal updates / 1 forced updates / 0 dangerous updates\n",
      "n_neigh_min: 0 / n_neigh_max: 463 / n_neigh_avg: 204.736\n",
      "shortest rebuild period: 4\n",
      "-- Cell list stats:\n",
      "Dimension: 3, 3, 3\n",
      "n_min    : 189 / n_max: 259 / n_avg: 222.222\n",
      "** run complete **\n",
      "notice(2): Sending exit signal.\n",
      "notice(2): Shutting down TF Manually.\n",
      "notice(2): TF Queue is waiting, sending None\n",
      "INFO:tensorflow:Empty Queue\n",
      "INFO:tensorflow:Received exit. Leaving TF Update Loop. \n",
      "INFO:tensorflow:TF Update runningtime is 3.575419479981065\n",
      "INFO:tensorflow:TF Feed Processingtime is 0.04115789197385311\n",
      "INFO:tensorflow:TF Total Time(excluding communication) is 3.616577371954918\n",
      "Training Done\n"
     ]
    }
   ],
   "source": [
    "### Hoomd-Sim code ###\n",
    "\n",
    "g = gsd.hoomd.open('CG_tutorial/meth.gsd')\n",
    "c = hoomd.context.initialize('--mode=cpu')\n",
    "system = hoomd.init.read_gsd(filename='CG_tutorial/meth.gsd')\n",
    "c.sorter.disable()\n",
    "set_rcut=10.0\n",
    "\n",
    "#call the graph building code\n",
    "make_train_graph(128,10.0,816,48, system)\n",
    "\n",
    "with htf.tfcompute('CG_tutorial/cg_model', device='CPU:0') as tfcompute:\n",
    "    nlist = hoomd.md.nlist.cell()\n",
    "\n",
    "    #set-up pppm\n",
    "    charged = hoomd.group.all();\n",
    "    pppm = hoomd.md.charge.pppm(nlist=nlist, group=charged)\n",
    "    pppm.set_params(Nx=32, Ny=32, Nz=32, order=6, rcut=set_rcut)\n",
    "\n",
    "    #set-up pair coefficients\n",
    "    nlist.reset_exclusions(['1-2', '1-3', '1-4','body'])\n",
    "    lj = hoomd.md.pair.force_shifted_lj(r_cut=set_rcut, nlist=nlist)\n",
    "    forces = [lj]\n",
    "    lj.pair_coeff.set(\"opls_156\", \"opls_156\", sigma=2.5, epsilon=0.03)\n",
    "    lj.pair_coeff.set(\"opls_156\", \"opls_157\", sigma=2.96, epsilon=0.05)\n",
    "    lj.pair_coeff.set(\"opls_156\", \"opls_154\", sigma=2.79, epsilon=0.07)\n",
    "    lj.pair_coeff.set(\"opls_156\", \"opls_155\", sigma=5.0, epsilon=0.0)\n",
    "    lj.pair_coeff.set(\"opls_157\", \"opls_157\", sigma=3.5, epsilon=0.07)\n",
    "    lj.pair_coeff.set(\"opls_157\", \"opls_154\", sigma=3.31, epsilon=0.11)\n",
    "    lj.pair_coeff.set(\"opls_157\", \"opls_155\", sigma=5.92, epsilon=0.0)\n",
    "    lj.pair_coeff.set(\"opls_154\", \"opls_154\", sigma=3.12, epsilon=0.17)\n",
    "    lj.pair_coeff.set(\"opls_154\", \"opls_155\", sigma=5.59, epsilon=0.0)\n",
    "    lj.pair_coeff.set(\"opls_155\", \"opls_155\", sigma=10.0, epsilon=0.0)\n",
    "\n",
    "    #set-up bonds\n",
    "    harmonic = hoomd.md.bond.harmonic()\n",
    "    harmonic.bond_coeff.set(\"opls_156-opls_157\", k=340.00, r0=1.09)\n",
    "    harmonic.bond_coeff.set(\"opls_154-opls_157\", k=320.00, r0=1.41)\n",
    "    harmonic.bond_coeff.set(\"opls_154-opls_155\", k=553.00, r0=0.95)\n",
    "\n",
    "    #set-up angles\n",
    "    harm_angle = hoomd.md.angle.harmonic()\n",
    "    harm_angle.angle_coeff.set(\"opls_154-opls_157-opls_156\", k=70.0, t0=1.90)\n",
    "    harm_angle.angle_coeff.set(\"opls_155-opls_154-opls_157\", k=110.0, t0=1.89)\n",
    "    harm_angle.angle_coeff.set(\"opls_156-opls_157-opls_156\", k=66.0, t0=1.88)\n",
    "\n",
    "    #set-up dihedrals\n",
    "    dihedral = hoomd.md.dihedral.opls()\n",
    "    dihedral.dihedral_coeff.set(\"opls_155-opls_154-opls_157-opls_156\", k1=0.0, k2=0.0, k3=0.45, k4=0.0)\n",
    "\n",
    "    group_all = hoomd.group.all()\n",
    "    kT = 1.9872/1000\n",
    "\n",
    "    #NVT Simulation in Hoomd\n",
    "    im = hoomd.md.integrate.mode_standard(dt=5.0/489.0)\n",
    "    nvt = hoomd.md.integrate.nvt(group=group_all, kT=298.15 * kT, tau=350 / 48.9)\n",
    "    nvt.randomize_velocities(1234)\n",
    "\n",
    "    #equilibrate\n",
    "    hoomd.run(200)\n",
    "\n",
    "    #communicate positions, neighbor list and forces to TensorFlow model\n",
    "    tfcompute.attach(nlist, r_cut=set_rcut,period=1)\n",
    "\n",
    "    #Hoomd production run\n",
    "    hoomd.run(500)\n",
    "\n",
    "print('Training Done')\n"
   ]
  },
  {
   "cell_type": "code",
   "execution_count": 9,
   "metadata": {},
   "outputs": [
    {
     "name": "stdout",
     "output_type": "stream",
     "text": [
      "INFO:tensorflow:Restoring parameters from CG_tutorial/cg_model/model-499\n"
     ]
    }
   ],
   "source": [
    "## Load saved rdf tensor from the graph\n",
    "train_vars = htf.load_variables('CG_tutorial/cg_model', ['avg-rdf', 'rdf-r'])"
   ]
  },
  {
   "cell_type": "code",
   "execution_count": 10,
   "metadata": {},
   "outputs": [
    {
     "data": {
      "text/plain": [
       "<matplotlib.legend.Legend at 0x7fe452d7ad30>"
      ]
     },
     "execution_count": 10,
     "metadata": {},
     "output_type": "execute_result"
    },
    {
     "data": {
      "image/png": "[encoded data removed]",
      "text/plain": [
       "<Figure size 432x288 with 1 Axes>"
      ]
     },
     "metadata": {
      "needs_background": "light"
     },
     "output_type": "display_data"
    }
   ],
   "source": [
    "## Plot RDFs between Mapped CG beads (center of masses) and the reference (C-O in all atom system )\n",
    "\n",
    "matplotlib.style.use('seaborn-muted')\n",
    "ref_rdf = np.loadtxt('CG_tutorial/ref_rdf.xvg',comments=('#','@'))\n",
    "plt.plot(ref_rdf[:,0]*10,ref_rdf[:,1],label ='Reference CG')\n",
    "plt.plot(train_vars['rdf-r'], train_vars['avg-rdf'] / train_vars['avg-rdf'][-1], label='Mapped')\n",
    "plt.xlim(2.5,9)\n",
    "plt.ylim(0,2)\n",
    "plt.xlabel(r'r [$\\AA$]')\n",
    "plt.ylabel('$g(r)$')\n",
    "plt.tight_layout()\n",
    "plt.legend()"
   ]
  },
  {
   "cell_type": "code",
   "execution_count": null,
   "metadata": {},
   "outputs": [],
   "source": []
  }
 ],
 "metadata": {
  "kernelspec": {
   "display_name": "Python 3",
   "language": "python",
   "name": "python3"
  },
  "language_info": {
   "codemirror_mode": {
    "name": "ipython",
    "version": 3
   },
   "file_extension": ".py",
   "mimetype": "text/x-python",
   "name": "python",
   "nbconvert_exporter": "python",
   "pygments_lexer": "ipython3",
   "version": "3.6.8"
  }
 },
 "nbformat": 4,
 "nbformat_minor": 2
}
