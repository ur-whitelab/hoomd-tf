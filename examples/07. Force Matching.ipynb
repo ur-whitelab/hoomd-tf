{
 "cells": [
  {
   "cell_type": "markdown",
   "metadata": {},
   "source": [
    "# 07. Force Matching "
   ]
  },
  {
   "cell_type": "code",
   "execution_count": 4,
   "metadata": {},
   "outputs": [],
   "source": [
    "import hoomd, hoomd.htf as htf, hoomd.md\n",
    "import numpy as np\n",
    "import matplotlib.pyplot as plt\n",
    "import seaborn\n",
    "import tensorflow as tf"
   ]
  },
  {
   "cell_type": "code",
   "execution_count": 6,
   "metadata": {},
   "outputs": [
    {
     "name": "stdout",
     "output_type": "stream",
     "text": [
      "Note: Backed-up CG_tutorial/force_matching previous model to CG_tutorial/force_matching/previous_model_0\n"
     ]
    }
   ],
   "source": [
    "# Build the graph\n",
    "graph = htf.graph_builder(63)\n",
    "nlist = graph.nlist[:, :, :3]\n",
    "# get r\n",
    "r = tf.norm(nlist, axis=2)\n",
    "# compute 1 / r while safely treating r = 0.\n",
    "# pairwise energy. Double count -> divide by 2\n",
    "epsilon = tf.Variable(0.5, name='lj-epsilon', trainable=True)\n",
    "sigma = tf.Variable(0.5, name='lj-sigma', trainable=True)\n",
    "inv_r6 = graph.safe_div(sigma**2, r**2)\n",
    "p_energy = epsilon / 2.0 * (- inv_r6)\n",
    "# sum over pairwise energy\n",
    "energy = tf.reduce_sum(p_energy, axis=1, name='energy')\n",
    "computed_forces = graph.compute_forces(energy)\n",
    "# get target forces without leading variables\n",
    "# sigma2 = tf.Variable(1.0, trainable=False)\n",
    "inv_r62 = graph.safe_div(1.0, r**2)\n",
    "p_energy2 = 1.0 / 2.0 * (- inv_r62)\n",
    "energy2 = tf.reduce_sum(p_energy2, axis=1, name='energy2')\n",
    "target_forces = graph.compute_forces(energy2)\n",
    "minimizer, loss = htf.force_matching(target_forces[:,:3], \n",
    "                                         computed_forces[:,:3])\n",
    "graph.save_tensor(loss, 'cost')\n",
    "graph.save(force_tensor=computed_forces,\n",
    "           model_directory='CG_tutorial/force_matching',\n",
    "           out_nodes=[epsilon, sigma])"
   ]
  },
  {
   "cell_type": "code",
   "execution_count": 14,
   "metadata": {},
   "outputs": [
    {
     "name": "stdout",
     "output_type": "stream",
     "text": [
      "notice(2): Started TF Session Manager.\n",
      "notice(2): Group \"all\" created containing 16 particles\n",
      "notice(2): Force mode is FORCE_MODE.tf2hoomd \n",
      "notice(2): Starting TensorflowCompute \n",
      "notice(2): completed reallocate\n",
      "notice(2): Setting flag indicating virial modification will occur\n",
      "INFO:tensorflow:The following quantities will computed:\n",
      "INFO:tensorflow:\tname period batch\n",
      "INFO:tensorflow:\t lj-epsilon:0 1 None\n",
      "INFO:tensorflow:\t lj-sigma:0 1 None\n",
      "INFO:tensorflow:\t AssignAdd:0 1 None\n",
      "INFO:tensorflow:\t Assign:0 1 None\n",
      "INFO:tensorflow:Restoring parameters from CG_tutorial/force_matching/model-1000\n",
      "notice(2): TF Session Manager has released control. Starting HOOMD updates\n",
      "notice(2): -- Neighborlist exclusion statistics -- :\n",
      "notice(2): Particles with 0 exclusions             : 16\n",
      "notice(2): Neighbors included by diameter          : no\n",
      "notice(2): Neighbors excluded when in the same body: no\n",
      "** starting run **\n",
      "Time 00:00:10 | Step 593 / 1000 | TPS 59.2746 | ETA 00:00:06\n",
      "Time 00:00:17 | Step 1000 / 1000 | TPS 60.5529 | ETA 00:00:00\n",
      "Average TPS: 59.7832\n",
      "---------\n",
      "-- Neighborlist stats:\n",
      "350 normal updates / 10 forced updates / 0 dangerous updates\n",
      "n_neigh_min: 8 / n_neigh_max: 15 / n_neigh_avg: 11.875\n",
      "shortest rebuild period: 1\n",
      "-- Cell list stats:\n",
      "Dimension: 2, 2, 1\n",
      "n_min    : 2 / n_max: 7 / n_avg: 4\n",
      "** run complete **\n",
      "notice(2): Sending exit signal.\n",
      "notice(2): Shutting down TF Manually.\n",
      "notice(2): TF Queue is waiting, sending None\n",
      "INFO:tensorflow:Empty Queue\n",
      "INFO:tensorflow:Received exit. Leaving TF Update Loop. \n",
      "INFO:tensorflow:TF Update runningtime is 16.56718638073653\n",
      "INFO:tensorflow:TF Feed Processingtime is 0.03557863552123308\n",
      "INFO:tensorflow:TF Total Time(excluding communication) is 16.602765016257763\n"
     ]
    }
   ],
   "source": [
    "# run the simulation\n",
    "model_dir = 'CG_tutorial/force_matching'\n",
    "hoomd.context.initialize(\"--mode=cpu\")\n",
    "with hoomd.htf.tfcompute(model_dir) as tfcompute:\n",
    "    N = 64\n",
    "    NN = 63\n",
    "    rcut = 7.5\n",
    "    system = hoomd.init.create_lattice(\n",
    "        unitcell=hoomd.lattice.sq(a=4.0),\n",
    "        n=[4,4])\n",
    "    nlist = hoomd.md.nlist.cell(check_period=1)\n",
    "    hoomd.md.integrate.mode_standard(dt=0.005)\n",
    "    hoomd.md.integrate.nve(group=hoomd.group.all(\n",
    "            )).randomize_velocities(kT=2, seed=2)\n",
    "    tfcompute.attach(nlist, r_cut=rcut, save_period=10)\n",
    "    hoomd.run(1000)\n",
    "    input_nlist = tfcompute.get_nlist_array()"
   ]
  },
  {
   "cell_type": "code",
   "execution_count": 20,
   "metadata": {},
   "outputs": [
    {
     "name": "stdout",
     "output_type": "stream",
     "text": [
      "INFO:tensorflow:Restoring parameters from CG_tutorial/force_matching/model-0\n",
      "INFO:tensorflow:Restoring parameters from CG_tutorial/force_matching/model-10\n",
      "INFO:tensorflow:Restoring parameters from CG_tutorial/force_matching/model-20\n",
      "INFO:tensorflow:Restoring parameters from CG_tutorial/force_matching/model-30\n",
      "INFO:tensorflow:Restoring parameters from CG_tutorial/force_matching/model-40\n",
      "INFO:tensorflow:Restoring parameters from CG_tutorial/force_matching/model-50\n",
      "INFO:tensorflow:Restoring parameters from CG_tutorial/force_matching/model-60\n",
      "INFO:tensorflow:Restoring parameters from CG_tutorial/force_matching/model-70\n",
      "INFO:tensorflow:Restoring parameters from CG_tutorial/force_matching/model-80\n",
      "INFO:tensorflow:Restoring parameters from CG_tutorial/force_matching/model-90\n",
      "INFO:tensorflow:Restoring parameters from CG_tutorial/force_matching/model-100\n",
      "INFO:tensorflow:Restoring parameters from CG_tutorial/force_matching/model-110\n",
      "INFO:tensorflow:Restoring parameters from CG_tutorial/force_matching/model-120\n",
      "INFO:tensorflow:Restoring parameters from CG_tutorial/force_matching/model-130\n",
      "INFO:tensorflow:Restoring parameters from CG_tutorial/force_matching/model-140\n",
      "INFO:tensorflow:Restoring parameters from CG_tutorial/force_matching/model-150\n",
      "INFO:tensorflow:Restoring parameters from CG_tutorial/force_matching/model-160\n",
      "INFO:tensorflow:Restoring parameters from CG_tutorial/force_matching/model-170\n",
      "INFO:tensorflow:Restoring parameters from CG_tutorial/force_matching/model-180\n",
      "INFO:tensorflow:Restoring parameters from CG_tutorial/force_matching/model-190\n",
      "INFO:tensorflow:Restoring parameters from CG_tutorial/force_matching/model-200\n",
      "INFO:tensorflow:Restoring parameters from CG_tutorial/force_matching/model-210\n",
      "INFO:tensorflow:Restoring parameters from CG_tutorial/force_matching/model-220\n",
      "INFO:tensorflow:Restoring parameters from CG_tutorial/force_matching/model-230\n",
      "INFO:tensorflow:Restoring parameters from CG_tutorial/force_matching/model-240\n",
      "INFO:tensorflow:Restoring parameters from CG_tutorial/force_matching/model-250\n",
      "INFO:tensorflow:Restoring parameters from CG_tutorial/force_matching/model-260\n",
      "INFO:tensorflow:Restoring parameters from CG_tutorial/force_matching/model-270\n",
      "INFO:tensorflow:Restoring parameters from CG_tutorial/force_matching/model-280\n",
      "INFO:tensorflow:Restoring parameters from CG_tutorial/force_matching/model-290\n",
      "INFO:tensorflow:Restoring parameters from CG_tutorial/force_matching/model-300\n",
      "INFO:tensorflow:Restoring parameters from CG_tutorial/force_matching/model-310\n",
      "INFO:tensorflow:Restoring parameters from CG_tutorial/force_matching/model-320\n",
      "INFO:tensorflow:Restoring parameters from CG_tutorial/force_matching/model-330\n",
      "INFO:tensorflow:Restoring parameters from CG_tutorial/force_matching/model-340\n",
      "INFO:tensorflow:Restoring parameters from CG_tutorial/force_matching/model-350\n",
      "INFO:tensorflow:Restoring parameters from CG_tutorial/force_matching/model-360\n",
      "INFO:tensorflow:Restoring parameters from CG_tutorial/force_matching/model-370\n",
      "INFO:tensorflow:Restoring parameters from CG_tutorial/force_matching/model-380\n",
      "INFO:tensorflow:Restoring parameters from CG_tutorial/force_matching/model-390\n",
      "INFO:tensorflow:Restoring parameters from CG_tutorial/force_matching/model-400\n",
      "INFO:tensorflow:Restoring parameters from CG_tutorial/force_matching/model-410\n",
      "INFO:tensorflow:Restoring parameters from CG_tutorial/force_matching/model-420\n",
      "INFO:tensorflow:Restoring parameters from CG_tutorial/force_matching/model-430\n",
      "INFO:tensorflow:Restoring parameters from CG_tutorial/force_matching/model-440\n",
      "INFO:tensorflow:Restoring parameters from CG_tutorial/force_matching/model-450\n",
      "INFO:tensorflow:Restoring parameters from CG_tutorial/force_matching/model-460\n",
      "INFO:tensorflow:Restoring parameters from CG_tutorial/force_matching/model-470\n",
      "INFO:tensorflow:Restoring parameters from CG_tutorial/force_matching/model-480\n",
      "INFO:tensorflow:Restoring parameters from CG_tutorial/force_matching/model-490\n",
      "INFO:tensorflow:Restoring parameters from CG_tutorial/force_matching/model-500\n",
      "INFO:tensorflow:Restoring parameters from CG_tutorial/force_matching/model-510\n",
      "INFO:tensorflow:Restoring parameters from CG_tutorial/force_matching/model-520\n",
      "INFO:tensorflow:Restoring parameters from CG_tutorial/force_matching/model-530\n",
      "INFO:tensorflow:Restoring parameters from CG_tutorial/force_matching/model-540\n",
      "INFO:tensorflow:Restoring parameters from CG_tutorial/force_matching/model-550\n",
      "INFO:tensorflow:Restoring parameters from CG_tutorial/force_matching/model-560\n",
      "INFO:tensorflow:Restoring parameters from CG_tutorial/force_matching/model-570\n",
      "INFO:tensorflow:Restoring parameters from CG_tutorial/force_matching/model-580\n",
      "INFO:tensorflow:Restoring parameters from CG_tutorial/force_matching/model-590\n",
      "INFO:tensorflow:Restoring parameters from CG_tutorial/force_matching/model-600\n",
      "INFO:tensorflow:Restoring parameters from CG_tutorial/force_matching/model-610\n",
      "INFO:tensorflow:Restoring parameters from CG_tutorial/force_matching/model-620\n",
      "INFO:tensorflow:Restoring parameters from CG_tutorial/force_matching/model-630\n",
      "INFO:tensorflow:Restoring parameters from CG_tutorial/force_matching/model-640\n",
      "INFO:tensorflow:Restoring parameters from CG_tutorial/force_matching/model-650\n",
      "INFO:tensorflow:Restoring parameters from CG_tutorial/force_matching/model-660\n",
      "INFO:tensorflow:Restoring parameters from CG_tutorial/force_matching/model-670\n",
      "INFO:tensorflow:Restoring parameters from CG_tutorial/force_matching/model-680\n",
      "INFO:tensorflow:Restoring parameters from CG_tutorial/force_matching/model-690\n",
      "INFO:tensorflow:Restoring parameters from CG_tutorial/force_matching/model-700\n",
      "INFO:tensorflow:Restoring parameters from CG_tutorial/force_matching/model-710\n",
      "INFO:tensorflow:Restoring parameters from CG_tutorial/force_matching/model-720\n",
      "INFO:tensorflow:Restoring parameters from CG_tutorial/force_matching/model-730\n",
      "INFO:tensorflow:Restoring parameters from CG_tutorial/force_matching/model-740\n",
      "INFO:tensorflow:Restoring parameters from CG_tutorial/force_matching/model-750\n",
      "INFO:tensorflow:Restoring parameters from CG_tutorial/force_matching/model-760\n",
      "INFO:tensorflow:Restoring parameters from CG_tutorial/force_matching/model-770\n",
      "INFO:tensorflow:Restoring parameters from CG_tutorial/force_matching/model-780\n",
      "INFO:tensorflow:Restoring parameters from CG_tutorial/force_matching/model-790\n",
      "INFO:tensorflow:Restoring parameters from CG_tutorial/force_matching/model-800\n",
      "INFO:tensorflow:Restoring parameters from CG_tutorial/force_matching/model-810\n",
      "INFO:tensorflow:Restoring parameters from CG_tutorial/force_matching/model-820\n",
      "INFO:tensorflow:Restoring parameters from CG_tutorial/force_matching/model-830\n",
      "INFO:tensorflow:Restoring parameters from CG_tutorial/force_matching/model-840\n",
      "INFO:tensorflow:Restoring parameters from CG_tutorial/force_matching/model-850\n",
      "INFO:tensorflow:Restoring parameters from CG_tutorial/force_matching/model-860\n",
      "INFO:tensorflow:Restoring parameters from CG_tutorial/force_matching/model-870\n",
      "INFO:tensorflow:Restoring parameters from CG_tutorial/force_matching/model-880\n",
      "INFO:tensorflow:Restoring parameters from CG_tutorial/force_matching/model-890\n",
      "INFO:tensorflow:Restoring parameters from CG_tutorial/force_matching/model-900\n",
      "INFO:tensorflow:Restoring parameters from CG_tutorial/force_matching/model-910\n",
      "INFO:tensorflow:Restoring parameters from CG_tutorial/force_matching/model-920\n",
      "INFO:tensorflow:Restoring parameters from CG_tutorial/force_matching/model-930\n",
      "INFO:tensorflow:Restoring parameters from CG_tutorial/force_matching/model-940\n",
      "INFO:tensorflow:Restoring parameters from CG_tutorial/force_matching/model-950\n",
      "INFO:tensorflow:Restoring parameters from CG_tutorial/force_matching/model-960\n",
      "INFO:tensorflow:Restoring parameters from CG_tutorial/force_matching/model-970\n",
      "INFO:tensorflow:Restoring parameters from CG_tutorial/force_matching/model-980\n",
      "INFO:tensorflow:Restoring parameters from CG_tutorial/force_matching/model-990\n",
      "INFO:tensorflow:Restoring parameters from CG_tutorial/force_matching/model-1000\n"
     ]
    },
    {
     "data": {
      "image/png": "[encoded data removed]",
      "text/plain": [
       "<Figure size 432x288 with 1 Axes>"
      ]
     },
     "metadata": {
      "needs_background": "light"
     },
     "output_type": "display_data"
    },
    {
     "data": {
      "image/png": "[encoded data removed]",
      "text/plain": [
       "<Figure size 432x288 with 1 Axes>"
      ]
     },
     "metadata": {
      "needs_background": "light"
     },
     "output_type": "display_data"
    }
   ],
   "source": [
    "time = np.arange(0, 1001, 10)\n",
    "cost = np.empty(len(time))\n",
    "epsilon = np.empty(len(time))\n",
    "sigma = np.empty(len(time))\n",
    "for i, t in enumerate(time):\n",
    "    variables = hoomd.htf.load_variables(model_dir, names = ['cost', 'lj-epsilon', 'lj-sigma'], checkpoint = int(t), feed_dict=dict({'nlist-input:0':input_nlist}))\n",
    "    cost[i] = variables['cost']\n",
    "    epsilon[i] = variables['lj-epsilon']\n",
    "    sigma[i] = variables['lj-sigma']\n",
    "    \n",
    "plt.plot(time, cost) #, label = 'cost')\n",
    "plt.xlabel('timestep')\n",
    "plt.ylabel('cost')\n",
    "plt.ylim(0, 100)\n",
    "plt.show()\n",
    "\n",
    "plt.plot(time, epsilon, label = 'epsilon')\n",
    "plt.plot(time, sigma, label = 'sigma')\n",
    "plt.legend()\n",
    "plt.show()"
   ]
  },
  {
   "cell_type": "code",
   "execution_count": 22,
   "metadata": {},
   "outputs": [
    {
     "data": {
      "text/plain": [
       "[<tf.Variable 'lj-epsilon:0' shape=() dtype=float32_ref>,\n",
       " <tf.Variable 'lj-sigma:0' shape=() dtype=float32_ref>]"
      ]
     },
     "execution_count": 22,
     "metadata": {},
     "output_type": "execute_result"
    }
   ],
   "source": [
    "tf.trainable_variables()"
   ]
  }
 ],
 "metadata": {
  "kernelspec": {
   "display_name": "Python 3",
   "language": "python",
   "name": "python3"
  },
  "language_info": {
   "codemirror_mode": {
    "name": "ipython",
    "version": 3
   },
   "file_extension": ".py",
   "mimetype": "text/x-python",
   "name": "python",
   "nbconvert_exporter": "python",
   "pygments_lexer": "ipython3",
   "version": "3.7.6"
  }
 },
 "nbformat": 4,
 "nbformat_minor": 2
}
