{
 "cells": [
  {
   "cell_type": "markdown",
   "metadata": {},
   "source": [
    "# 07. Using a Trajectory instead of HOOMD simulation"
   ]
  },
  {
   "cell_type": "code",
   "execution_count": 1,
   "metadata": {},
   "outputs": [],
   "source": [
    "# (Optional) This block is to surpress the warning on loading tensorflow package\n",
    "import warnings\n",
    "warnings.filterwarnings('ignore')"
   ]
  },
  {
   "cell_type": "code",
   "execution_count": 2,
   "metadata": {},
   "outputs": [],
   "source": [
    "import hoomd\n",
    "import hoomd.htf as htf\n",
    "import tensorflow as tf\n",
    "import MDAnalysis as mda\n",
    "import numpy as np\n",
    "import matplotlib.pyplot as plt"
   ]
  },
  {
   "cell_type": "code",
   "execution_count": 3,
   "metadata": {},
   "outputs": [
    {
     "name": "stdout",
     "output_type": "stream",
     "text": [
      "WARNING:tensorflow:From /home/awhite38/.conda/envs/htf-testing/lib/python3.7/site-packages/hoomd/htf/graphbuilder.py:25: The name tf.reset_default_graph is deprecated. Please use tf.compat.v1.reset_default_graph instead.\n",
      "\n",
      "WARNING:tensorflow:From /home/awhite38/.conda/envs/htf-testing/lib/python3.7/site-packages/hoomd/htf/graphbuilder.py:28: The name tf.placeholder is deprecated. Please use tf.compat.v1.placeholder instead.\n",
      "\n",
      "WARNING:tensorflow:From /home/awhite38/.conda/envs/htf-testing/lib/python3.7/site-packages/hoomd/htf/graphbuilder.py:49: The name tf.get_variable is deprecated. Please use tf.compat.v1.get_variable instead.\n",
      "\n",
      "WARNING:tensorflow:From /home/awhite38/.conda/envs/htf-testing/lib/python3.7/site-packages/hoomd/htf/graphbuilder.py:467: where (from tensorflow.python.ops.array_ops) is deprecated and will be removed in a future version.\n",
      "Instructions for updating:\n",
      "Use tf.where in 2.0, which has the same broadcast rule as np.where\n",
      "WARNING:tensorflow:From /home/awhite38/.conda/envs/htf-testing/lib/python3.7/site-packages/hoomd/htf/graphbuilder.py:346: The name tf.is_finite is deprecated. Please use tf.math.is_finite instead.\n",
      "\n",
      "Note: Backed-up traj_model previous model to traj_model/previous_model_10\n",
      "WARNING:tensorflow:From /home/awhite38/.conda/envs/htf-testing/lib/python3.7/site-packages/hoomd/htf/graphbuilder.py:563: The name tf.train.export_meta_graph is deprecated. Please use tf.compat.v1.train.export_meta_graph instead.\n",
      "\n"
     ]
    }
   ],
   "source": [
    "graph = htf.graph_builder(128)\n",
    "nlist = graph.nlist[:, :, :3]\n",
    "r = tf.norm(nlist, axis=2)\n",
    "# compute 1 / r while safely treating r = 0.\n",
    "# pairwise energy. Double count -> divide by 2\n",
    "inv_r6 = graph.safe_div(1., r**6)\n",
    "p_energy = 4.0 / 2.0 * (inv_r6 * inv_r6 - inv_r6)\n",
    "# sum over pairwise energy\n",
    "energy = tf.reduce_sum(p_energy, axis=1)\n",
    "forces = graph.compute_forces(energy)\n",
    "# For reference, type indices in this case are: {C:0, H:1, N:2, O:3} \n",
    "# compute C-N RDF\n",
    "rdf = graph.compute_rdf([3, 20], 'rdf-CH', 15, 3, 1)\n",
    "graph.running_mean(rdf, 'avg-CH')\n",
    "# compute N-O RDF\n",
    "rdf2 = graph.compute_rdf([3, 20], 'rdf-OH', 15, 3, 1)\n",
    "graph.running_mean(rdf2, 'avg-OH')\n",
    "# save the graph\n",
    "graph.save(force_tensor=forces, model_directory='traj_model')"
   ]
  },
  {
   "cell_type": "code",
   "execution_count": 4,
   "metadata": {},
   "outputs": [],
   "source": [
    "universe = mda.Universe('test_topol.pdb', 'test_traj.trr')\n",
    "# # Select atom group to use in the system\n",
    "# atom_group = universe.select_atoms('all')\n",
    "# # get unique atom types in the selected atom group\n",
    "# types = list(np.unique(atom_group.atoms.types))\n",
    "# type_array = np.array([types.index(i)\n",
    "#                        for i in atom_group.atoms.types]).reshape(-1, 1)"
   ]
  },
  {
   "cell_type": "code",
   "execution_count": 5,
   "metadata": {},
   "outputs": [
    {
     "name": "stdout",
     "output_type": "stream",
     "text": [
      "WARNING:tensorflow:From /home/awhite38/.conda/envs/htf-testing/lib/python3.7/site-packages/hoomd/htf/utils.py:344: The name tf.train.import_meta_graph is deprecated. Please use tf.compat.v1.train.import_meta_graph instead.\n",
      "\n",
      "WARNING:tensorflow:From /home/awhite38/.conda/envs/htf-testing/lib/python3.7/site-packages/hoomd/htf/utils.py:352: The name tf.get_default_graph is deprecated. Please use tf.compat.v1.get_default_graph instead.\n",
      "\n",
      "WARNING:tensorflow:From /home/awhite38/.conda/envs/htf-testing/lib/python3.7/site-packages/hoomd/htf/utils.py:354: The name tf.Session is deprecated. Please use tf.compat.v1.Session instead.\n",
      "\n",
      "WARNING:tensorflow:From /home/awhite38/.conda/envs/htf-testing/lib/python3.7/site-packages/hoomd/htf/utils.py:355: The name tf.global_variables_initializer is deprecated. Please use tf.compat.v1.global_variables_initializer instead.\n",
      "\n",
      "WARNING:tensorflow:From /home/awhite38/.conda/envs/htf-testing/lib/python3.7/site-packages/hoomd/htf/utils.py:356: The name tf.local_variables_initializer is deprecated. Please use tf.compat.v1.local_variables_initializer instead.\n",
      "\n",
      "WARNING:tensorflow:From /home/awhite38/.conda/envs/htf-testing/lib/python3.7/site-packages/hoomd/htf/utils.py:357: The name tf.train.Saver is deprecated. Please use tf.compat.v1.train.Saver instead.\n",
      "\n",
      "WARNING:tensorflow:From /home/awhite38/.conda/envs/htf-testing/lib/python3.7/site-packages/tensorflow_core/python/training/saver.py:963: remove_checkpoint (from tensorflow.python.training.checkpoint_management) is deprecated and will be removed in a future version.\n",
      "Instructions for updating:\n",
      "Use standard file APIs to delete files with this prefix.\n"
     ]
    }
   ],
   "source": [
    "# load graph that calculates RDF\n",
    "htf.run_from_trajectory('traj_model', universe, period=1, r_cut=25.)"
   ]
  },
  {
   "cell_type": "code",
   "execution_count": 6,
   "metadata": {},
   "outputs": [
    {
     "name": "stdout",
     "output_type": "stream",
     "text": [
      "INFO:tensorflow:Restoring parameters from traj_model/model-5\n"
     ]
    },
    {
     "data": {
      "image/png": "[encoded data removed]",
      "text/plain": [
       "<Figure size 432x288 with 1 Axes>"
      ]
     },
     "metadata": {
      "needs_background": "light"
     },
     "output_type": "display_data"
    },
    {
     "data": {
      "image/png": "[encoded data removed]",
      "text/plain": [
       "<Figure size 432x288 with 1 Axes>"
      ]
     },
     "metadata": {
      "needs_background": "light"
     },
     "output_type": "display_data"
    }
   ],
   "source": [
    "# get evaluated outnodes\n",
    "variables = hoomd.htf.load_variables('traj_model', ['avg-CH', 'rdf-CH-r', 'avg-OH', 'rdf-OH-r'])\n",
    "\n",
    "# Plot C-N rdf\n",
    "r_CH = variables['rdf-CH-r']\n",
    "# make it go to 1, since htf does not normalize the RDF\n",
    "rdf_CH = variables['avg-CH']\n",
    "rdf_CH /= np.mean(rdf_CH[-5:])\n",
    "\n",
    "plt.figure()\n",
    "plt.plot(r_CH, rdf_CH, label='C-H', color='C1')\n",
    "plt.xlabel(r'r')\n",
    "plt.ylabel(r'g(r)')\n",
    "plt.legend()\n",
    "plt.show()\n",
    "\n",
    "# Plot N-O rdf\n",
    "r_OH = variables['rdf-OH-r']\n",
    "rdf_OH = variables['avg-OH']\n",
    "rdf_OH /= np.mean(rdf_OH[-5:])\n",
    "\n",
    "plt.figure()\n",
    "plt.plot(r_OH, rdf_OH, label='O-H', color='C2')\n",
    "plt.xlabel(r'r')\n",
    "plt.ylabel(r'g(r)')\n",
    "plt.legend()\n",
    "plt.show()"
   ]
  }
 ],
 "metadata": {
  "kernelspec": {
   "display_name": "Python 3",
   "language": "python",
   "name": "python3"
  },
  "language_info": {
   "codemirror_mode": {
    "name": "ipython",
    "version": 3
   },
   "file_extension": ".py",
   "mimetype": "text/x-python",
   "name": "python",
   "nbconvert_exporter": "python",
   "pygments_lexer": "ipython3",
   "version": "3.7.6"
  }
 },
 "nbformat": 4,
 "nbformat_minor": 2
}
